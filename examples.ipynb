{
 "cells": [
  {
   "cell_type": "markdown",
   "metadata": {},
   "source": [
    "### Creating a mass-weighted model and plotting the generated samples"
   ]
  },
  {
   "cell_type": "code",
   "execution_count": null,
   "metadata": {},
   "outputs": [
    {
     "data": {
      "image/png": "[encoded data removed]",
      "text/plain": [
       "<Figure size 640x480 with 1 Axes>"
      ]
     },
     "metadata": {},
     "output_type": "display_data"
    }
   ],
   "source": [
    "import matplotlib.pylab as plt\n",
    "\n",
    "import logpdfs\n",
    "import emcee_utils as mc\n",
    "import sample_nf_probability_density as leja_utils\n",
    "\n",
    "# Initialize Leja normalized flow\n",
    "flow = leja_utils.load_nf()\n",
    "prob_density = leja_utils.sample_density(flow,redshift_smoothing=True)\n",
    "\n",
    "# Create the logpdf of your model. In this example, we choose z=0.3, with continuity model\n",
    "# (i.e., generate also galaxies with mass lower than the cutoff mass,\n",
    "# see Section 3.1 Extending the Distribution Function)\n",
    "z = 0.3\n",
    "simple_logpdf = logpdfs.get_logpdf(z, prob_density, continuity=True)\n",
    "mass_weighted_logpdf = logpdfs.get_weighted_logpdf(simple_logpdf, a=1, b=0)\n",
    "\n",
    "# Generate samples using MCMC\n",
    "samples = mc.get_samples(mass_weighted_logpdf)\n",
    "\n",
    "# Plot samples generated by emcee\n",
    "ax, _, _ = mc.plot_from_samples(samples)\n",
    "ax.set_xlim([7, 12])\n",
    "ax.set_ylim([-3,2])\n",
    "ax.set_xlabel(r\"$\\log_{10}$\" + \" Stellar Mass \" + r\"$\\left[M_\\odot\\right]$\")\n",
    "ax.set_ylabel(r\"$\\log_{10}$\" + \" SFR \" + r\"$\\left[M_\\odot yr^{-1}\\right]$\")\n",
    "plt.show()"
   ]
  },
  {
   "cell_type": "markdown",
   "metadata": {},
   "source": [
    "### Loading host galaxies and calculating pvalues of the mass-weighted model"
   ]
  },
  {
   "cell_type": "code",
   "execution_count": 25,
   "metadata": {},
   "outputs": [
    {
     "name": "stdout",
     "output_type": "stream",
     "text": [
      "Generating samples for a = 1 b = 0 ...\n"
     ]
    },
    {
     "name": "stderr",
     "output_type": "stream",
     "text": [
      "Generating samples for each redshift: 100%|██████████| 3/3 [00:01<00:00,  2.62hosts/s]\n"
     ]
    },
    {
     "name": "stdout",
     "output_type": "stream",
     "text": [
      "Likelihood of host galaxies:  60.65779027411569\n",
      "0.8287500000000001\n"
     ]
    }
   ],
   "source": [
    "import pandas as pd\n",
    "\n",
    "# Example for host galaxies dataset\n",
    "example_hosts = pd.DataFrame({\n",
    "    \"Name\": [\"AT1\", \"AT2\", \"AT3\"],  # Name of Astrophysical Transient\n",
    "    \"Mstar\": [1e10, 5e9, 2e10],     # Stellar mass in solar masses\n",
    "    \"SFR\": [1.5, 0.8, 2.3],         # Star formation rate in solar masses per year\n",
    "    \"z\": [0.19, 0.4, 0.23]          # Redshift\n",
    "})\n",
    "\n",
    "# Calculate the nominal p-value of the mass-weighted model\n",
    "p_nom = mc.calc_weighted_pnom(example_hosts, prob_density, a=1, b=0)\n",
    "print(p_nom)"
   ]
  },
  {
   "cell_type": "code",
   "execution_count": 26,
   "metadata": {},
   "outputs": [
    {
     "name": "stderr",
     "output_type": "stream",
     "text": [
      "Generating samples for each redshift: 100%|██████████| 3/3 [00:01<00:00,  2.60hosts/s]\n"
     ]
    },
    {
     "name": "stdout",
     "output_type": "stream",
     "text": [
      "0.8264687500000001 0.8188125\n"
     ]
    }
   ],
   "source": [
    "import numpy as np\n",
    "\n",
    "# To obtain p<90% value, the host galaxies dataset needs in include errors\n",
    "example_hosts = pd.DataFrame({\n",
    "    \"Name\": [\"AT1\", \"AT2\", \"AT3\"],      # Name of Astrophysical Transient\n",
    "    \"Mstar\": [1e10, 5e9, 2e10],         # Stellar mass in solar masses\n",
    "    \"SFR\": [1.5, 0.8, 2.3],             # Star formation rate in solar masses per year\n",
    "    \"z\": [0.19, 0.4, 0.23],             # Redshift\n",
    "    \"Mstar_uperr\": [0.02, 0.04, 0.01],  # Upper error on stellar mass, in log10(M/M_sun)\n",
    "    \"Mstar_lowerr\": [8e8, 4e8, 1.5e9],  # Lower error on stellar mass, in log10(M/M_sun)\n",
    "    \"SFR_uperr\": [0.2, 0.1, 0.3],       # Upper error on SFR, in solar masses per year\n",
    "    \"SFR_lowerr\": [0.1, 0.05, 0.2]      # Lower error on SFR, in solar masses per year\n",
    "})\n",
    "\n",
    "\n",
    "# Create a map of redshift to a mass-weighted logpdf at that redshift\n",
    "z_to_logpdf = logpdfs.create_z_to_logpdf(example_hosts, prob_density, a=1, b=0)\n",
    "\n",
    "# Calculate the nominal likelihood of your hosts based on the mass-weighted model\n",
    "# This is needed if you want to obtain the p_nominal in the next step.\n",
    "stacked_values = np.vstack([np.log10(example_hosts['Mstar']) ,np.log10(example_hosts['SFR']), example_hosts['z']])\n",
    "nominal_likelihood = mc.calc_weighted_likelihood(z_to_logpdf, stacked_values.T)\n",
    "\n",
    "# Calculate the p90 and pnom of the mass-weighted model based on your hosts.\n",
    "p90, pnom, _, _ = mc.calc_p90(example_hosts, z_to_logpdf, nominal_likelihood)\n",
    "print(p90, pnom)"
   ]
  }
 ],
 "metadata": {
  "kernelspec": {
   "display_name": "Python 3",
   "language": "python",
   "name": "python3"
  },
  "language_info": {
   "codemirror_mode": {
    "name": "ipython",
    "version": 3
   },
   "file_extension": ".py",
   "mimetype": "text/x-python",
   "name": "python",
   "nbconvert_exporter": "python",
   "pygments_lexer": "ipython3",
   "version": "3.12.7"
  }
 },
 "nbformat": 4,
 "nbformat_minor": 2
}
