{
 "cells": [
  {
   "cell_type": "markdown",
   "id": "08e23fdd",
   "metadata": {},
   "source": [
    "# Application on FRB hosts"
   ]
  },
  {
   "cell_type": "code",
   "execution_count": null,
   "id": "5fddc904-d245-45bf-9ad9-85df82d235f7",
   "metadata": {},
   "outputs": [],
   "source": [
    "# https://github.com/krittisharma/frb_host_sharma2024/blob/main/read_transients_data.py)\n",
    "import numpy as np\n",
    "import pandas as pd\n",
    "\n",
    "\n",
    "def read_dsa_data(only_gold=True):\n",
    "    \"\"\"\n",
    "    Reads DSA FRBs data published in Sharma+2024, \n",
    "    filters for 'sed_done?' == 'Y' and 'sample' == 'Gold', \n",
    "    and returns the filtered DataFrame.\n",
    "\n",
    "    Parameters:\n",
    "    ----------\n",
    "    only_gold : bool, optional\n",
    "        If True, filters for FRBs labeled as 'Gold' in addition to \n",
    "        'sed_done?' == 'Y' (default is True).\n",
    "\n",
    "    Returns:\n",
    "    -------\n",
    "    dsa_frb s : DataFrame\n",
    "        Filtered DataFrame containing DSA FRBs data.\n",
    "\n",
    "    \"\"\"\n",
    "    # Read CSV file\n",
    "    dsa_frbs = pd.read_csv(\"frbs_data/dsa_frbs.csv\")\n",
    "    \n",
    "    if only_gold:\n",
    "        dsa_frbs = dsa_frbs[np.logical_and(dsa_frbs[\"sed_done?\"] == \"Y\", dsa_frbs[\"sample\"] == \"Gold\")]\n",
    "    else:\n",
    "        dsa_frbs = dsa_frbs[dsa_frbs[\"sed_done?\"] == \"Y\"]\n",
    "    \n",
    "    # Compute logarithmic errors for ssfr\n",
    "    dsa_frbs[\"ssfr_errl\"] = np.log10(dsa_frbs[\"ssfr\"] + dsa_frbs[\"ssfr_errl\"]) - np.log10(dsa_frbs[\"ssfr\"])\n",
    "    dsa_frbs[\"ssfr_erru\"] = np.log10(dsa_frbs[\"ssfr\"] + dsa_frbs[\"ssfr_erru\"]) - np.log10(dsa_frbs[\"ssfr\"])\n",
    "    \n",
    "    # Compute logarithm of ssfr\n",
    "    dsa_frbs[\"ssfr\"] = np.log10(dsa_frbs[\"ssfr\"])\n",
    "    \n",
    "    return dsa_frbs\n",
    "\n",
    "\n",
    "def read_chime_data():\n",
    "    \"\"\"\n",
    "    Reads CHIME FRBs data from Bhardwaj+2023 and returns the DataFrame.\n",
    "\n",
    "    Returns:\n",
    "    -------\n",
    "    chime_frbs : DataFrame\n",
    "        DataFrame containing CHIME FRBs data.\n",
    "    \"\"\"\n",
    "    chime_frbs = pd.read_csv(\"frbs_data/bhardwaj_et_al.csv\")\n",
    "    return chime_frbs\n",
    "\n",
    "\n",
    "def fix_gordon_et_al_data_format(df):\n",
    "    \"\"\"\n",
    "    Fixes the format of Gordon+2023 data by extracting numerical values\n",
    "    from LaTeX-formatted strings and assigning them to appropriate \n",
    "    columns.\n",
    "    \"\"\"\n",
    "    logMstar, logMstar_errl, logMstar_erru = [], [], []\n",
    "    sfr_100Myr, sfr_100Myr_errl, sfr_100Myr_erru = [], [], []\n",
    "    tm, tm_errl, tm_erru = [], [], []\n",
    "    logzsol, logzsol_errl, logzsol_erru = [], [], []\n",
    "    Av, Av_errl, Av_erru = [], [], []\n",
    "    \n",
    "    for i in range(len(df)):\n",
    "        logMstar.append(float(str(df[\"log(M _*/M _sun)\"][i])\n",
    "                              .split(\"$\")[1].split(\"_\")[0].split(\"{\")[1]\n",
    "                              .split(\"}\")[0]))\n",
    "        logMstar_errl.append(float(str(df[\"log(M _*/M _sun)\"][i])\n",
    "                                  .split(\"$\")[1].split(\"_\")[1].split(\"{\")[1]\n",
    "                                  .split(\"}\")[0]))\n",
    "        logMstar_erru.append(float(str(df[\"log(M _*/M _sun)\"][i])\n",
    "                                  .split(\"$\")[1].split(\"_\")[1].split(\"{\")[2]\n",
    "                                  .split(\"}\")[0]))\n",
    "        sfr_100Myr.append(float(str(df[\"SFR_0-100 Myr\"][i])\n",
    "                                .split(\"$\")[1].split(\"_\")[0].split(\"{\")[1]\n",
    "                                .split(\"}\")[0]))\n",
    "        sfr_100Myr_errl.append(float(str(df[\"SFR_0-100 Myr\"][i])\n",
    "                                    .split(\"$\")[1].split(\"_\")[1].split(\"{\")[1]\n",
    "                                    .split(\"}\")[0]))\n",
    "        sfr_100Myr_erru.append(float(str(df[\"SFR_0-100 Myr\"][i])\n",
    "                                    .split(\"$\")[1].split(\"_\")[1].split(\"{\")[2]\n",
    "                                    .split(\"}\")[0]))\n",
    "        tm.append(float(str(df[\"t _m\"][i])\n",
    "                        .split(\"$\")[1].split(\"_\")[0].split(\"{\")[1].split(\"}\")[0]))\n",
    "        tm_errl.append(float(str(df[\"t _m\"][i])\n",
    "                            .split(\"$\")[1].split(\"_\")[1].split(\"{\")[1].split(\"}\")[0]))\n",
    "        tm_erru.append(float(str(df[\"t _m\"][i])\n",
    "                            .split(\"$\")[1].split(\"_\")[1].split(\"{\")[2].split(\"}\")[0])) \n",
    "        logzsol.append(float([df[\"log(Z _*/Z _sun)\"][i][1] if df[\"log(Z _*/Z _sun)\"][i][1]==\"-\" else \"+\"][0]\n",
    "                             +str(df[\"log(Z _*/Z _sun)\"][i])\n",
    "                             .split(\"$\")[1].split(\"_\")[0].split(\"{\")[1].split(\"}\")[0]))\n",
    "        logzsol_errl.append(float(str(df[\"log(Z _*/Z _sun)\"][i])\n",
    "                                 .split(\"$\")[1].split(\"_\")[1].split(\"{\")[1]\n",
    "                                 .split(\"}\")[0]))\n",
    "        logzsol_erru.append(float(str(df[\"log(Z _*/Z _sun)\"][i])\n",
    "                                 .split(\"$\")[1].split(\"_\")[1].split(\"{\")[2]\n",
    "                                 .split(\"}\")[0])) \n",
    "        Av.append(float(str(df[\"A _V,old\"][i])\n",
    "                        .split(\"$\")[1].split(\"_\")[0].split(\"{\")[1].split(\"}\")[0]))\n",
    "        Av_errl.append(float(str(df[\"A _V,old\"][i])\n",
    "                            .split(\"$\")[1].split(\"_\")[1].split(\"{\")[1].split(\"}\")[0]))\n",
    "        Av_erru.append(float(str(df[\"A _V,old\"][i])\n",
    "                            .split(\"$\")[1].split(\"_\")[1].split(\"{\")[2].split(\"}\")[0])) \n",
    "    \n",
    "    df[\"logMstar\"] = logMstar\n",
    "    df[\"logMstar_errl\"] = logMstar_errl\n",
    "    df[\"logMstar_erru\"] = logMstar_erru\n",
    "    df[\"sfr_100Myr\"] = sfr_100Myr\n",
    "    df[\"sfr_100Myr_errl\"] = sfr_100Myr_errl\n",
    "    df[\"sfr_100Myr_erru\"] = sfr_100Myr_erru\n",
    "    df[\"t_m\"] = tm\n",
    "    df[\"t_m_errl\"] = tm_errl\n",
    "    df[\"t_m_erru\"] = tm_erru\n",
    "    df[\"Av_old\"] = Av\n",
    "    df[\"Av_old_errl\"] = Av_errl\n",
    "    df[\"Av_old_erru\"] = Av_erru\n",
    "    df[\"logzsol\"] = logzsol\n",
    "    df[\"logzsol_errl\"] = logzsol_errl\n",
    "    df[\"logzsol_erru\"] = logzsol_erru\n",
    "    df[\"ssfr\"] = np.log10((sfr_100Myr/(10**np.array(logMstar)))*(1e9)) # per Gyr\n",
    "    df[\"ssfr_errl\"] = np.log10(((np.array(sfr_100Myr)+np.array(sfr_100Myr_errl))/(10**(np.array(logMstar)+np.array(logMstar_erru))))*(1e9)) - np.array(df[\"ssfr\"]) # per Gyr\n",
    "    df[\"ssfr_erru\"] = np.log10(((np.array(sfr_100Myr)+np.array(sfr_100Myr_erru))/(10**(np.array(logMstar)+np.array(logMstar_errl))))*(1e9)) - np.array(df[\"ssfr\"]) # per Gyr\n",
    "\n",
    "    return df\n",
    "\n",
    "\n",
    "\n",
    "def read_askap_frbs():\n",
    "    \"\"\"\n",
    "    Read and return Gordon+2023 FRB host galaxies data.\n",
    "\n",
    "    Returns:\n",
    "    -------\n",
    "    askap_frbs : DataFrame\n",
    "        A pandas DataFrame containing the ASKAP FRBs data with additional \n",
    "        rmag and rmag_err columns, excluding FRB 20121102A.\n",
    "    \"\"\"\n",
    "    # Read the ASKAP FRBs data from a text file\n",
    "    askap_frbs = pd.read_csv(\"frbs_data/gordon_et_al.txt\", sep=\"\\t\")\n",
    "    \n",
    "    # Fix the data format using a custom function\n",
    "    askap_frbs = fix_gordon_et_al_data_format(askap_frbs)\n",
    "\n",
    "    # List of r-band magnitudes\n",
    "    rmags = [23.73, 21.21, 16.17, 20.33, 21.68, 21.87, 22.16, \n",
    "             17.41, 22.15, 23.54, 20.34, 18.36, 21.05, 19.95, \n",
    "             17.86, 22.97, 19.47, 20.65, 17.17, 14.96, 19.64, \n",
    "             16.44, 21.19]\n",
    "    \n",
    "    # List of r-band magnitude errors\n",
    "    rmag_errs = [0.14, 0.06, 0.03, 0.01, 0.05, 0.10, 0.06, \n",
    "                 0.002, 0.15, 0.15, 0.03, 0.003, 0.02, 0.01,\n",
    "                 0.03, 0.04, 0.02, 0.03, 0.01, 0.01, 0.03, \n",
    "                 0.01, 0.08]\n",
    "    \n",
    "    # Add the rmag and rmag_err columns to the DataFrame\n",
    "    askap_frbs[\"rmag\"] = rmags\n",
    "    askap_frbs[\"rmag_err\"] = rmag_errs\n",
    "\n",
    "    # Exclude FRB 20121102A and reset the index\n",
    "    askap_frbs = askap_frbs[askap_frbs[\"FRB\"] != \"20121102A\"].reset_index()\n",
    "\n",
    "    return askap_frbs"
   ]
  },
  {
   "cell_type": "code",
   "execution_count": 439,
   "id": "3345cd31",
   "metadata": {},
   "outputs": [],
   "source": [
    "import numpy as np\n",
    "import matplotlib.pylab as plt\n",
    "\n",
    "import logpdfs\n",
    "import emcee_utils as mc\n",
    "from gc_utils import get_gc_weighted_logpdf"
   ]
  },
  {
   "cell_type": "markdown",
   "id": "c02aa8ae",
   "metadata": {},
   "source": [
    "### Load FRBs data"
   ]
  },
  {
   "cell_type": "code",
   "execution_count": 1133,
   "id": "1dd4102d-5355-408c-8715-3ba8752ddd66",
   "metadata": {
    "scrolled": true
   },
   "outputs": [],
   "source": [
    "''' load FRB hosts data from Sharma et al. 2024 '''\n",
    "\n",
    "dsa_frbs = read_dsa_data()\n",
    "askap_frbs = read_askap_frbs()\n",
    "chime_frbs = read_chime_data()  # added 'FRB' column manually, was not there in Sharma+24\n",
    "\n",
    "dsa_frbs = dsa_frbs.rename(columns={'FRB_TNS_name': 'FRB', 'redshift': 'z'})\n",
    "dsa_frbs['FRB'] = [x.lstrip('FRB ') for x in dsa_frbs['FRB']]\n",
    "\n",
    "cols = ['FRB', 'z', 'logMstar', 'logMstar_erru', 'logMstar_errl', 'sfr_100Myr', 'sfr_100Myr_errl', 'sfr_100Myr_erru']\n",
    "\n",
    "frb_hosts = pd.concat([dsa_frbs[cols], askap_frbs[cols], chime_frbs[cols]],\n",
    "                      ignore_index=True)\n",
    "frb_hosts = frb_hosts.rename(columns={\n",
    "    'logMstar': 'Mstar',\n",
    "    'logMstar_errl': 'Mstar_lowerr',\n",
    "    'logMstar_erru': 'Mstar_uperr',\n",
    "    'sfr_100Myr': 'SFR',\n",
    "    'sfr_100Myr_erru': 'SFR_uperr',\n",
    "    'sfr_100Myr_errl': 'SFR_lowerr',\n",
    "})\n",
    "\n",
    "frb_hosts['Mstar'] = 10 ** frb_hosts['Mstar']  # Mstar in M/M_\\odot\n",
    "frb_hosts['Mstar_lowerr'] *= -1  # lower errors should be positive\n",
    "frb_hosts['SFR_lowerr'] *= -1\n",
    "\n",
    "frb_hosts = frb_hosts[frb_hosts['z'] <= 0.7]  # constrain to lower z (exclude FRB20221029A)\n",
    "frb_hosts = frb_hosts.reset_index()"
   ]
  },
  {
   "cell_type": "markdown",
   "id": "daa6bebb",
   "metadata": {},
   "source": [
    "### Initialize Leja trained flow"
   ]
  },
  {
   "cell_type": "code",
   "execution_count": 902,
   "id": "05f53db7-5715-4e1b-bfce-5ea71bfd762b",
   "metadata": {
    "tags": []
   },
   "outputs": [
    {
     "name": "stderr",
     "output_type": "stream",
     "text": [
      "/Users/asaf/Library/CloudStorage/OneDrive-weizmann.ac.il/Desktop/FRB/host-galaxies-stats/sample_nf_probability_density.py:132: FutureWarning: You are using `torch.load` with `weights_only=False` (the current default value), which uses the default pickle module implicitly. It is possible to construct malicious pickle data which will execute arbitrary code during unpickling (See https://github.com/pytorch/pytorch/blob/main/SECURITY.md#untrusted-models for more details). In a future release, the default value for `weights_only` will be flipped to `True`. This limits the functions that could be executed during unpickling. Arbitrary objects will no longer be allowed to be loaded via this mode unless they are explicitly allowlisted by the user via `torch.serialization.add_safe_globals`. We recommend you start setting `weights_only=True` for any use case where you don't have full control of the loaded file. Please open an issue on GitHub for any issues related to this experimental feature.\n",
      "  state_dict = torch.load(loc)\n"
     ]
    }
   ],
   "source": [
    "import sample_nf_probability_density as leja_utils\n",
    "flow = leja_utils.load_nf()\n",
    "prob_density = leja_utils.sample_density(flow,redshift_smoothing=True)\n",
    "\n",
    "# import some useful variables from leja_utils to be used as global variables\n",
    "for attr in ['mgrid', 'sfrgrid', 'mmin', 'mmax']:\n",
    "    globals()[attr] = getattr(leja_utils, attr)"
   ]
  },
  {
   "cell_type": "markdown",
   "id": "08632438",
   "metadata": {},
   "source": [
    "### Add helper functions\n",
    "\n",
    "1. Add metallicity model\n",
    "2. Add optical bias fix"
   ]
  },
  {
   "cell_type": "code",
   "execution_count": 1020,
   "id": "2190f057-e246-43f0-aeba-9d9ac5210a27",
   "metadata": {
    "tags": []
   },
   "outputs": [
    {
     "name": "stderr",
     "output_type": "stream",
     "text": [
      "/var/folders/9v/9mgg2nhs31x_zn1r4181_xym0000gn/T/ipykernel_56568/3956244682.py:44: RuntimeWarning: overflow encountered in exp\n",
      "  return 1 / (1 + np.exp(-beta*(x-mean)))\n",
      "/var/folders/9v/9mgg2nhs31x_zn1r4181_xym0000gn/T/ipykernel_56568/3956244682.py:105: RuntimeWarning: divide by zero encountered in log\n",
      "  metallicity_sigmoid = np.log(sigmoid(mgrid, M_C_SHARMA, BETA_SHARMA))\n"
     ]
    }
   ],
   "source": [
    "''' Logic for optical selection and metallicity dependence, based on Sharma et al. 2024'''\n",
    "import astropy.units as u\n",
    "from scipy.special import erf\n",
    "from astropy.cosmology import Planck18 as cosmo\n",
    "\n",
    "\n",
    "# Optical bias constants\n",
    "AB_ZERO_POINT = 3631  # Jansky, for AB magnitude\n",
    "JY_TO_CGI = 1e-23  # Jy to erg/s/cm^2\n",
    "f_r = 3e10*1400e-8/(6215e-8**2)  # f_nu = c * f_lam / lam**2 for r-band\n",
    "F_r = 10**(23.5 / -2.5) * AB_ZERO_POINT * JY_TO_CGI * f_r  # flux in erg/s/cm^2 for M=23.5\n",
    "SOLAR_L = 4e33  # erg/s\n",
    "\n",
    "# Metalicity dependence\n",
    "# https://github.com/krittisharma/frb_host_sharma2024/blob/main/frbs_are_biased_SF_tracer.ipynb\n",
    "M_C_SHARMA = 8.979591836734693\n",
    "BETA_SHARMA = 37275.93720314938\n",
    "\n",
    "\n",
    "def _get_sigma_for_z(z):\n",
    "    ''' returns σ for the log(M/L) ∼ N (0, σ) , using Sharma et al. methods'''\n",
    "    if z<=0.2:\n",
    "        return 0.2\n",
    "    if z<=0.4:\n",
    "        return 0.26\n",
    "    if z<=0.7:\n",
    "        return 0.3\n",
    "    raise ValueError(\"z>0.7 is not supported for optical bias selection\")\n",
    "\n",
    "\n",
    "def sigmoid(x, mean, beta=1):\n",
    "    \"\"\"\n",
    "    Taken from Sharma et al. 2024\n",
    "    Compute the sigmoid function.\n",
    "\n",
    "    Parameters:\n",
    "    - x: Input array\n",
    "    - mean: Mean or midpoint of the sigmoid\n",
    "    - beta: Slope parameter (default is 1)\n",
    "\n",
    "    Returns:\n",
    "    - Array of sigmoid values evaluated at x\n",
    "    \"\"\"\n",
    "    return 1 / (1 + np.exp(-beta*(x-mean)))\n",
    "\n",
    "\n",
    "def optical_bias_logpdf(logpdf, selection_factor):\n",
    "    \"\"\"Apply optical selection bias to logpdf.\n",
    "    \n",
    "    Parameters\n",
    "    ----------\n",
    "    logpdf : callable\n",
    "        Base log probability density function\n",
    "    selection_factor : array-like\n",
    "        Selection factors for mass grid\n",
    "\n",
    "    Returns\n",
    "    -------\n",
    "    callable\n",
    "        Modified logpdf with selection bias\n",
    "    \n",
    "    Notes\n",
    "    -----\n",
    "    Selection bias drops galaxies with r-band > 23.5 magnitude by returning -inf\n",
    "    \"\"\"\n",
    "\n",
    "    def logpdf_with_selection(theta):\n",
    "        mass, _ = theta\n",
    "        p = logpdf(theta)\n",
    "        if np.isinf(p):\n",
    "            return p\n",
    "        midx = np.abs(mgrid-mass).argmin()\n",
    "        return p + selection_factor[midx]  # addition because selection_factor is in log\n",
    "\n",
    "    return logpdf_with_selection\n",
    "\n",
    "def metallicity_logpdf(logpdf):\n",
    "    \"\"\"Apply metallicity correction to logpdf.\n",
    "    \n",
    "    Parameters\n",
    "    ----------\n",
    "    logpdf : callable\n",
    "        Base log probability density function\n",
    "        \n",
    "    Returns\n",
    "    -------\n",
    "    callable\n",
    "        Modified logpdf with metallicity correction\n",
    "    \"\"\"\n",
    "\n",
    "    def logpdf_with_metallicity(theta):\n",
    "        mass, _ = theta\n",
    "        p = logpdf(theta)\n",
    "        if np.isinf(p):\n",
    "            return p\n",
    "        midx = np.abs(mgrid-mass).argmin()\n",
    "        return p + metallicity_sigmoid[midx]\n",
    "\n",
    "    return logpdf_with_metallicity\n",
    "\n",
    "# Compute selection factors for all hosts redshift\n",
    "# computed in advance for all z, instead of during each call to lnprior_optical_bias\n",
    "z_to_selection_factor = {}\n",
    "mgrid = leja_utils.mgrid\n",
    "metallicity_sigmoid = np.log(sigmoid(mgrid, M_C_SHARMA, BETA_SHARMA))\n",
    "\n",
    "extra_z = [0.25, 0.279, 0.3, 0.478]  # z values not within frb_hosts, to plot for examples\n",
    "for z in frb_hosts['z'].tolist() + extra_z:\n",
    "    sigma = _get_sigma_for_z(z)\n",
    "    lum_distance = cosmo.luminosity_distance(z).to(u.cm).value  # cm\n",
    "    x = mgrid - np.log10(4 *np.pi * lum_distance ** 2 * F_r / SOLAR_L)\n",
    "\n",
    "    selection_factor = 0.5 * (1+erf(x/np.sqrt(2)/sigma))\n",
    "    z_to_selection_factor[z] = np.log(selection_factor)\n"
   ]
  },
  {
   "cell_type": "code",
   "execution_count": 952,
   "id": "c82aa99c",
   "metadata": {},
   "outputs": [],
   "source": [
    "#######################################################\n",
    "## Add relevant functions to include optical lnprior ##\n",
    "#######################################################\n",
    "\n",
    "def get_wlogpdf_w_opt(z, prob_density, a, b):\n",
    "    \"\"\"\n",
    "    Get a weighted logpdf function with optical bias lnprior\n",
    "\n",
    "    Parameters:\n",
    "    ----------\n",
    "    - z: Redshift\n",
    "    - prob_density: used for logpdfs.get_logpdf, see doc\n",
    "    - a, b: coefficients for mass, sfr respectively\n",
    "\n",
    "    Returns:\n",
    "    ----------\n",
    "    - weighted logpdf function with optical bias lnprior\n",
    "    \"\"\"\n",
    "    logpdf = logpdfs.get_logpdf(z, prob_density,\n",
    "                                continuity=True)  # change to False for conservative set\n",
    "    # optical bias has to be added before weighting\n",
    "    logpdf_opt = optical_bias_logpdf(logpdf, z_to_selection_factor[z])\n",
    "    return logpdfs.get_weighted_logpdf(logpdf_opt, a, b)\n",
    "\n",
    "\n",
    "def get_gc_logpdf_w_opt(z, prob_density):\n",
    "    \"\"\"\n",
    "    Get a Globular Cluster-weighted logpdf function with optical bias lnprior\n",
    "\n",
    "    Parameters:\n",
    "    ----------\n",
    "    - z: Redshift\n",
    "    - prob_density: used for logpdfs.get_logpdf, see doc\n",
    "\n",
    "    Returns:\n",
    "    ----------\n",
    "    - gc-weighted logpdf function with optical bias lnprior\n",
    "    \"\"\"\n",
    "    logpdf = logpdfs.get_logpdf(z, prob_density,\n",
    "                                continuity=True)  # change to False for conservative set\n",
    "    # optical bias has to be added before weighting\n",
    "    logpdf_opt = optical_bias_logpdf(logpdf, z_to_selection_factor[z])\n",
    "    return get_gc_weighted_logpdf(logpdf_opt)\n",
    "\n",
    "\n",
    "def get_metallicity_logpdf(z, prob_density):\n",
    "    \"\"\"\n",
    "    Get a metallicity-weighted logpdf function with optical bias lnprior\n",
    "\n",
    "    Parameters:\n",
    "    ----------\n",
    "    - z: Redshift\n",
    "    - prob_density: used for logpdfs.get_logpdf, see doc\n",
    "\n",
    "    Returns:\n",
    "    ----------\n",
    "    - metallicity-weighted logpdf function with optical bias lnprior\n",
    "    \"\"\"\n",
    "    sfr_w_logpdf = get_wlogpdf_w_opt(z, prob_density, 0, 1)\n",
    "    return metallicity_logpdf(sfr_w_logpdf)\n",
    "\n",
    "\n",
    "\n",
    "def create_z_to_logpdf_w_opt(host_galaxies, prob_density, a, b):\n",
    "    \"\"\"Create a map of redshift to logpdf function, with optical selection bias.\n",
    "    \n",
    "    Parameters\n",
    "    ----------\n",
    "    host_galaxies : pandas.DataFrame\n",
    "        host galaxy data, with a column 'z' for redshift\n",
    "    prob_density : used for logpdfs.get_logpdf, see doc\n",
    "    - a, b: coefficients for mass, sfr respectively\n",
    "        \n",
    "    Returns\n",
    "    -------\n",
    "    dict\n",
    "        Maps redshift to a weighted logpdf function\n",
    "    \"\"\"\n",
    "    z_to_logpdf = {z: \n",
    "                   get_wlogpdf_w_opt(z, prob_density, a, b)\n",
    "                   for z in host_galaxies['z']} \n",
    "    return z_to_logpdf\n",
    "\n",
    "\n",
    "def create_z_to_logpdf_metallicty(host_galaxies, prob_density):\n",
    "    \"\"\"Create a map of redshift to an sfr-weighted logpdf, with optical correction\n",
    "    and with metallicity correction.\n",
    "    \n",
    "    Parameters\n",
    "    ----------\n",
    "    host_galaxies : pandas.DataFrame\n",
    "        host galaxy data, with a column 'z' for redshift\n",
    "    prob_density : used for logpdfs.get_logpdf, see doc\n",
    "        \n",
    "    Returns\n",
    "    -------\n",
    "    dict\n",
    "        Maps redshift to a metallicity-weighted logpdf function\n",
    "    \"\"\"\n",
    "    z_to_logpdf = {z: \n",
    "                   get_metallicity_logpdf(z, prob_density)\n",
    "                   for z in host_galaxies['z']} \n",
    "    return z_to_logpdf"
   ]
  },
  {
   "cell_type": "markdown",
   "id": "6119efbe",
   "metadata": {},
   "source": [
    "## Example Usage ##"
   ]
  },
  {
   "cell_type": "code",
   "execution_count": 872,
   "id": "dee6f115-21b2-4025-a9e0-17d7e9b41a59",
   "metadata": {
    "scrolled": true,
    "tags": []
   },
   "outputs": [
    {
     "data": {
      "image/png": "[encoded data removed]",
      "text/plain": [
       "<Figure size 640x480 with 1 Axes>"
      ]
     },
     "metadata": {},
     "output_type": "display_data"
    }
   ],
   "source": [
    "\"\"\"\n",
    "Example:\n",
    "Generate samples with continuity model and optical selection bias,\n",
    "plot results with FRB host galaxies\n",
    "Note: the background density represents a single redshift, whereas each host-\n",
    "      galaxy has different z, and plotted here just for a crude comparison.\n",
    "\"\"\"\n",
    "\n",
    "z = 0.3  # np.median(frb_hosts['z'])  # 0.2417\n",
    "\n",
    "# Create logpdf\n",
    "# logpdf = logpdfs.get_weighted_logpdf(\n",
    "#     logpdfs.get_logpdf(z, prob_density), 1, 0)  # mass-weighted, no optical lnprior\n",
    "# logpdf = get_wlogpdf_w_opt(z, prob_density, 1, 0)  # mass-weighted with optical lnprior\n",
    "# logpdf = get_wlogpdf_w_opt(z, prob_density, 0, 1)  # sfr-weighted with optical lnprior\n",
    "# logpdf = get_gc_logpdf_w_opt(z, prob_density)  # gc-weighted with optical lnprior\n",
    "logpdf = get_metallicity_logpdf(z, prob_density) # metallicity-weighted\n",
    "\n",
    "# Generate samples\n",
    "logpdf_samples = mc.get_samples(logpdf, steps=1000)\n",
    "\n",
    "# Plot samples\n",
    "ax,_, _ = mc.plot_from_samples(logpdf_samples)\n",
    "\n",
    "# Further customization\n",
    "# frb_hosts = frb_hosts[frb_hosts['z']<=0.2].reset_index()  # for metalicity\n",
    "ax.plot(np.log10(frb_hosts['Mstar']), np.log10(frb_hosts['SFR']),\n",
    "        '*', color='red', markersize=5, label=\"FRB host galaxies\")\n",
    "ax.set_xlim([7, 12])\n",
    "ax.set_ylim([-6,2])\n",
    "ax.set_xlabel(r\"$\\log_{10}$\" + \" Stellar Mass \" + r\"$\\left[M_\\odot\\right]$\", fontsize=16)\n",
    "ax.set_ylabel(r\"$\\log_{10}$\" + \" SFR \" + r\"$\\left[M_\\odot yr^{-1}\\right]$\", fontsize=16)\n",
    "ax.set_title(f\"Samples at z={z}\")\n",
    "ax.legend()\n",
    "plt.show()"
   ]
  },
  {
   "cell_type": "code",
   "execution_count": 446,
   "id": "24d5c69f-7ad7-4fec-9acd-78cbc555b9ba",
   "metadata": {},
   "outputs": [
    {
     "name": "stderr",
     "output_type": "stream",
     "text": [
      "Generating samples for each redshift: 100%|██████████| 51/51 [00:19<00:00,  2.64hosts/s]\n",
      "Calculating likelihoods based on halfnorms values: 100%|██████████| 10000/10000 [00:05<00:00, 1911.08it/s]"
     ]
    },
    {
     "name": "stdout",
     "output_type": "stream",
     "text": [
      "0.10678125 0.096\n"
     ]
    },
    {
     "name": "stderr",
     "output_type": "stream",
     "text": [
      "\n"
     ]
    }
   ],
   "source": [
    "# Example: calculate p90, pnom\n",
    "frb_values = np.vstack([np.log10(frb_hosts['Mstar']) ,np.log10(frb_hosts['SFR']), frb_hosts['z']])\n",
    "z_to_logpdf = logpdfs.create_z_to_logpdf(frb_hosts, prob_density, 1, 0)  # mass-weighted\n",
    "frbs_likelihood = mc.calc_weighted_likelihood(z_to_logpdf, frb_values.T)\n",
    "p90, pnom, _, _ = mc.calc_p90(frb_hosts, z_to_logpdf, frbs_likelihood)\n",
    "print(p90, pnom)"
   ]
  },
  {
   "cell_type": "markdown",
   "id": "b7ec8a89",
   "metadata": {},
   "source": [
    "## Figure 1"
   ]
  },
  {
   "cell_type": "code",
   "execution_count": 857,
   "id": "cafc443c",
   "metadata": {},
   "outputs": [
    {
     "data": {
      "image/png": "[encoded data removed]",
      "text/plain": [
       "<Figure size 640x480 with 1 Axes>"
      ]
     },
     "metadata": {},
     "output_type": "display_data"
    }
   ],
   "source": [
    "''' Figure 1 '''\n",
    "from scipy.interpolate import interp1d\n",
    "\n",
    "z = 0.3  # np.median(frb_hosts['z'])  # 0.2417\n",
    "\n",
    "# Create logpdf\n",
    "# logpdf = get_wlogpdf_w_opt(z, prob_density, 1, 0)  # mass-weighted\n",
    "logpdf = get_wlogpdf_w_opt(z, prob_density, 0, 1)  # sfr-weighted\n",
    "# logpdf = get_wlogpdf_w_opt(z, prob_density, 1, 10**9.62)  # a/b peak\n",
    "# logpdf = get_gc_logpdf_w_opt(z, prob_density)  # gc-weighted\n",
    "\n",
    "# Generate samples\n",
    "samples = mc.get_samples(logpdf)\n",
    "ax, Z, extent = mc.plot_from_samples(samples)\n",
    "\n",
    "# Add probability contours\n",
    "steps = 1000\n",
    "Z = Z/Z.sum()\n",
    "p = np.linspace(0, Z.max(), steps)\n",
    "integral_gt_p = ((Z >= p[:,None,None])*Z).sum(axis=(1,2))\n",
    "f = interp1d(integral_gt_p, p)\n",
    "p_countours = f(np.array([0.75, 0.5, 0.25, 0.1]))\n",
    "cont = ax.contour(Z.T, p_countours, cmap=plt.cm.gist_earth_r,\n",
    "                  extent=extent)\n",
    "fmt = {}\n",
    "strs = ['75%,', '50%', '25%', '10%']\n",
    "for l, s in zip(p_countours, strs):\n",
    "    fmt[l] = s\n",
    "ax.clabel(cont, fmt=fmt)\n",
    "\n",
    "# Define z ranges and colors\n",
    "z_ranges = [(0, 0.2), (0.2, 0.4), (0.4, np.inf)]\n",
    "z_labels = ['z<0.2', '0.2≤z<0.4', 'z≥0.4']\n",
    "colors = ['orangered', 'darkred', 'lightcoral']  # Light red, dark red, pink\n",
    "\n",
    "# Plot each z range separately\n",
    "for (z_min, z_max), color, label in zip(z_ranges, colors, z_labels):\n",
    "    mask = (frb_hosts['z'] >= z_min) & (frb_hosts['z'] < z_max)\n",
    "    if not any(mask):\n",
    "        continue\n",
    "        \n",
    "    ax.errorbar(np.log10(frb_hosts.loc[mask, 'Mstar']), \n",
    "                np.log10(frb_hosts.loc[mask, 'SFR']),\n",
    "                yerr=np.array([sfr_lowerr, sfr_uperr])[:, mask],  # TODO: fix! calculate sfr_lowerr\n",
    "                xerr=np.array([frb_hosts['Mstar_lowerr'], \n",
    "                              frb_hosts['Mstar_uperr']])[:, mask],\n",
    "                fmt='*',\n",
    "                color=color,\n",
    "                ecolor=color,\n",
    "                label=label)\n",
    "\n",
    "ax.set_xlim([7.5, mmax])\n",
    "ax.set_ylim([-3, sfrmax])\n",
    "ax.set_xlabel(r\"$\\log_{10}$\" + \" Stellar Mass \" + r\"$\\left[M_\\odot\\right]$\", fontsize=12)\n",
    "ax.set_ylabel(r\"$\\log_{10}$\" + \" SFR \" + r\"$\\left[M_\\odot yr^{-1}\\right]$\", fontsize=12)\n",
    "ax.legend()\n",
    "plt.savefig('Figures/Figure1_sfr.pdf', bbox_inches='tight', transparent=True)"
   ]
  },
  {
   "cell_type": "markdown",
   "id": "25e70c5d",
   "metadata": {},
   "source": [
    "## Table 3"
   ]
  },
  {
   "cell_type": "code",
   "execution_count": 880,
   "id": "2f250ec0-9f1a-4842-89b0-c0a0e917b345",
   "metadata": {},
   "outputs": [
    {
     "name": "stderr",
     "output_type": "stream",
     "text": [
      "Generating samples for each redshift: 100%|██████████| 20/20 [00:12<00:00,  1.66hosts/s]\n",
      "Generating samples for each redshift: 100%|██████████| 20/20 [00:11<00:00,  1.70hosts/s]\n",
      "Generating samples for each redshift: 100%|██████████| 20/20 [00:11<00:00,  1.68hosts/s]\n",
      "Generating samples for each redshift: 100%|██████████| 20/20 [00:11<00:00,  1.71hosts/s]\n",
      "Generating samples for each redshift: 100%|██████████| 20/20 [00:11<00:00,  1.67hosts/s]\n"
     ]
    },
    {
     "name": "stdout",
     "output_type": "stream",
     "text": [
      "p90 average 0.01521875 std 0.003433463539197701\n",
      "pnom average 0.0099 std 0.002227877352997691\n",
      "[np.float64(0.014687500000000001), np.float64(0.01459375), np.float64(0.010906250000000001), np.float64(0.02146875), np.float64(0.0144375)]\n",
      "[np.float64(0.00990625), np.float64(0.00978125), np.float64(0.0071875), np.float64(0.01390625), np.float64(0.00871875)]\n"
     ]
    }
   ],
   "source": [
    "''' Table 3 '''\n",
    "\n",
    "# Create logpdf\n",
    "# z_to_logpdf = create_z_to_logpdf_w_opt(frb_hosts, prob_density, 1, 0)  # mass-weighted with optical lnprior\n",
    "# z_to_logpdf = create_z_to_logpdf_w_opt(frb_hosts, prob_density, 0, 1)  # sfr-weighted with optical lnprior\n",
    "# z_to_logpdf = {z: get_gc_logpdf_w_opt(z, prob_density)\n",
    "#                for z in frb_hosts['z']}  # gc-weighted with optical lnprior\n",
    "\n",
    "# frb_hosts = frb_hosts[frb_hosts['Mstar'] > 10**M_C_SHARMA].reset_index()  # remove lower-masses (20210117A)\n",
    "frb_hosts = frb_hosts[frb_hosts['z']<=0.2].reset_index()  # perform metallicity weighted only on z<=0.2\n",
    "z_to_logpdf = create_z_to_logpdf_metallicty(frb_hosts, prob_density)  # metallicity-weighted\n",
    "\n",
    "frb_values = np.vstack([np.log10(frb_hosts['Mstar']),\n",
    "                        np.log10(frb_hosts['SFR']),\n",
    "                        frb_hosts['z']])\n",
    "frbs_nominal_likelihood = mc.calc_weighted_likelihood(z_to_logpdf, frb_values.T)\n",
    "p90_vals = []\n",
    "p_nom_vals = []\n",
    "for _ in range(5):\n",
    "    \n",
    "    p_90, p_nom, _, _ = mc.calc_p90(frb_hosts, z_to_logpdf, frbs_nominal_likelihood)\n",
    "    p90_vals.append(p_90)\n",
    "    p_nom_vals.append(p_nom)\n",
    "\n",
    "print(\"p90 average\", np.average(p90_vals), \"std\", np.std(p90_vals))\n",
    "print(\"pnom average\", np.average(p_nom_vals), \"std\", np.std(p_nom_vals))\n",
    "\n",
    "# Print to use later for Figure 3 infinity-points (mass-weighted, sfr-weighted)\n",
    "print(p90_vals)\n",
    "print(p_nom_vals)"
   ]
  },
  {
   "cell_type": "code",
   "execution_count": 788,
   "id": "36602924",
   "metadata": {},
   "outputs": [
    {
     "name": "stderr",
     "output_type": "stream",
     "text": [
      "Generating samples for each redshift: 100%|██████████| 23/23 [00:10<00:00,  2.16hosts/s]\n",
      "Generating samples for each redshift: 100%|██████████| 23/23 [00:10<00:00,  2.17hosts/s]\n",
      "Generating samples for each redshift: 100%|██████████| 23/23 [00:10<00:00,  2.14hosts/s]\n",
      "Generating samples for each redshift: 100%|██████████| 23/23 [00:10<00:00,  2.16hosts/s]\n",
      "Generating samples for each redshift: 100%|██████████| 23/23 [00:10<00:00,  2.16hosts/s]\n"
     ]
    },
    {
     "name": "stdout",
     "output_type": "stream",
     "text": [
      "p90 average 0.23251249999999998 std 0.01403946168394643\n",
      "pnom average 0.212975 std 0.015072862099647831\n",
      "[np.float64(0.23559375000000002), np.float64(0.2556875), np.float64(0.23375), np.float64(0.21331250000000002), np.float64(0.22421875000000002)]\n",
      "[np.float64(0.21571875000000001), np.float64(0.237375), np.float64(0.21571875000000001), np.float64(0.19175), np.float64(0.2043125)]\n"
     ]
    }
   ],
   "source": [
    "''' Conservative set - Table 3'''\n",
    "\n",
    "high_z = frb_hosts[frb_hosts['z'] >= 0.25]\n",
    "high_m = high_z[np.log10(high_z['Mstar']) > leja_utils.cosmos15_mass_completeness(high_z['z'])]\n",
    "\n",
    "conservative_hosts = high_m.reset_index()\n",
    "\n",
    "# run Table 3 cell with coservative_hosts\n",
    "# REMINDER - add get_logpdf(...,continuity=False) in get_wlogpdf_w_opt\n",
    "#            and also in get_gc_logpdf_w_opt when doing gc-weighted\n",
    "#            and also in get_metallicity_logpdf_w_opt when doing metallicity-weighted\n",
    "\n",
    "# Create logpdf\n",
    "z_to_logpdf = create_z_to_logpdf_w_opt(conservative_hosts, prob_density, 1, 0)  # mass-weighted with optical lnprior\n",
    "# z_to_logpdf = create_z_to_logpdf_w_opt(conservative_hosts, prob_density, 0, 1)  # sfr-weighted with optical lnprior\n",
    "# z_to_logpdf = {z: get_gc_logpdf_w_opt(z, prob_density)\n",
    "#                for z in conservative_hosts['z']}  # gc-weighted with optical lnprior\n",
    "# z_to_logpdf = create_z_to_logpdf_metallicty(conservative_hosts, prob_density)  # metallicity-weighted\n",
    "\n",
    "frb_values = np.vstack([np.log10(conservative_hosts['Mstar']),\n",
    "                        np.log10(conservative_hosts['SFR']),\n",
    "                        conservative_hosts['z']])\n",
    "frbs_nominal_likelihood = mc.calc_weighted_likelihood(z_to_logpdf, frb_values.T)\n",
    "p90_vals = []\n",
    "p_nom_vals = []\n",
    "\n",
    "# Calculate p90 and pnom 5 times\n",
    "for _ in range(5):\n",
    "    \n",
    "    p_90, p_nom, _, _ = mc.calc_p90(conservative_hosts, z_to_logpdf, frbs_nominal_likelihood)\n",
    "    p90_vals.append(p_90)\n",
    "    p_nom_vals.append(p_nom)\n",
    "\n",
    "print(\"p90 average\", np.average(p90_vals), \"std\", np.std(p90_vals))\n",
    "print(\"pnom average\", np.average(p_nom_vals), \"std\", np.std(p_nom_vals))\n",
    "\n",
    "print(p90_vals)\n",
    "print(p_nom_vals)\n"
   ]
  },
  {
   "cell_type": "markdown",
   "id": "8e568d74",
   "metadata": {},
   "source": [
    "## Figure 2"
   ]
  },
  {
   "cell_type": "code",
   "execution_count": 1142,
   "id": "fa3bcf6f",
   "metadata": {},
   "outputs": [
    {
     "name": "stderr",
     "output_type": "stream",
     "text": [
      "Generating samples for each redshift: 100%|██████████| 51/51 [00:33<00:00,  1.54hosts/s]\n"
     ]
    },
    {
     "name": "stdout",
     "output_type": "stream",
     "text": [
      "90% conf p-value: 0.0270625\n",
      "nominal p-value: 0.02359375\n"
     ]
    },
    {
     "data": {
      "image/png": "[encoded data removed]",
      "text/plain": [
       "<Figure size 640x480 with 1 Axes>"
      ]
     },
     "metadata": {},
     "output_type": "display_data"
    }
   ],
   "source": [
    "''' Figure 2 '''\n",
    "import matplotlib.patches as patches\n",
    "\n",
    "# Create z to logpdf\n",
    "# z_to_logpdf = create_z_to_logpdf_w_opt(frb_hosts, prob_density, 1, 0)  # mass-weighted with optical lnprior\n",
    "# z_to_logpdf = create_z_to_logpdf_w_opt(frb_hosts, prob_density, 0, 1)  # sfr-weighted with optical lnprior\n",
    "z_to_logpdf = {z: get_gc_logpdf_w_opt(z, prob_density)\n",
    "               for z in frb_hosts['z']}  # gc-weighted with optical lnprior\n",
    "\n",
    "frb_values = np.vstack([np.log10(frb_hosts['Mstar']),\n",
    "                        np.log10(frb_hosts['SFR']),\n",
    "                        frb_hosts['z']])\n",
    "\n",
    "# Calculate p_90 and p_nom        \n",
    "frbs_nominal_likelihood = mc.calc_weighted_likelihood(z_to_logpdf, frb_values.T)\n",
    "p_90, p_nom, samples_cdf, lklhds_cdf = mc.calc_p90(frb_hosts, z_to_logpdf, frbs_nominal_likelihood)\n",
    "\n",
    "\n",
    "# Add a rectangle from 10% to 90%\n",
    "bottom, top = lklhds_cdf.y[1], lklhds_cdf.y[-1]\n",
    "left, right = np.percentile(lklhds_cdf.x, [10, 90])\n",
    "rect = patches.Rectangle((left, bottom), right - left,\n",
    "                         2 * top - bottom, # because plotting with ylim<2*tpo\n",
    "                         color='blue')  \n",
    "rect.set_alpha(0.25)\n",
    "\n",
    "ax = plt.gca()\n",
    "ax.plot(samples_cdf.x, samples_cdf.y, color='black', linewidth=4)\n",
    "ax.add_patch(rect)\n",
    "ax.set_yscale('log', nonpositive='clip')\n",
    "\n",
    "# zoom-in to interesting part\n",
    "ax.set_ylim([2e-3, 1.3])\n",
    "start_x = np.interp(2e-3, samples_cdf.y, samples_cdf.x)\n",
    "ax.set_xlim([start_x, samples_cdf.x[-1]])\n",
    "\n",
    "# Nominal pvalue line\n",
    "ax.axvline(frbs_nominal_likelihood, color='blue', label='FRBs nominal likelihood', linewidth=3)\n",
    "\n",
    "# p=0.05 line\n",
    "ax.axhline(0.05, color='grey', linestyle='--')\n",
    "ax.annotate('p=0.05', fontsize=16,\n",
    "            xy=(samples_cdf.x[-1], 0.05),\n",
    "            textcoords=\"offset points\", xytext=(-60, 5))  # change manually \n",
    "\n",
    "# draw intesection points and annotate\n",
    "ax.plot(frbs_nominal_likelihood, p_nom,\n",
    "        marker='x', markersize=8, color='red')\n",
    "ax.annotate(r'$p_{\\rm nom}$',\n",
    "            xy=(frbs_nominal_likelihood, p_nom), xycoords='data', fontsize=16,\n",
    "            xytext=(100, -40), textcoords='offset points',  # change manually\n",
    "            arrowprops=dict(arrowstyle=\"->\"),\n",
    "            horizontalalignment='center')\n",
    "\n",
    "ax.plot(right, p_90, marker='x', markersize=8, color='red')\n",
    "ax.annotate(r'$p_{90}$',\n",
    "            xy=(right, p_90), xycoords='data',  fontsize=16,\n",
    "            xytext=(70, -5), textcoords='offset points',  # change manually\n",
    "            arrowprops=dict(arrowstyle=\"->\"),\n",
    "            horizontalalignment='left')\n",
    "\n",
    "plt.xlabel('Likelihood [unitless]', fontsize=16)\n",
    "plt.ylabel('CDF', fontsize=16)\n",
    "\n",
    "plt.savefig('Figures/Figure2_gc.pdf', bbox_inches='tight', transparent=True)\n",
    "print('90% conf p-value:', p_90)\n",
    "print('nominal p-value:', p_nom)"
   ]
  },
  {
   "cell_type": "code",
   "execution_count": 1138,
   "id": "6d060303",
   "metadata": {},
   "outputs": [
    {
     "data": {
      "text/html": [
       "<div>\n",
       "<style scoped>\n",
       "    .dataframe tbody tr th:only-of-type {\n",
       "        vertical-align: middle;\n",
       "    }\n",
       "\n",
       "    .dataframe tbody tr th {\n",
       "        vertical-align: top;\n",
       "    }\n",
       "\n",
       "    .dataframe thead th {\n",
       "        text-align: right;\n",
       "    }\n",
       "</style>\n",
       "<table border=\"1\" class=\"dataframe\">\n",
       "  <thead>\n",
       "    <tr style=\"text-align: right;\">\n",
       "      <th></th>\n",
       "      <th>index</th>\n",
       "      <th>FRB</th>\n",
       "      <th>z</th>\n",
       "      <th>Mstar</th>\n",
       "      <th>Mstar_uperr</th>\n",
       "      <th>Mstar_lowerr</th>\n",
       "      <th>SFR</th>\n",
       "      <th>SFR_lowerr</th>\n",
       "      <th>SFR_uperr</th>\n",
       "    </tr>\n",
       "  </thead>\n",
       "  <tbody>\n",
       "    <tr>\n",
       "      <th>0</th>\n",
       "      <td>0</td>\n",
       "      <td>20220319D</td>\n",
       "      <td>0.01120</td>\n",
       "      <td>1.260956e+10</td>\n",
       "      <td>0.0022</td>\n",
       "      <td>0.0042</td>\n",
       "      <td>0.4238</td>\n",
       "      <td>0.0209</td>\n",
       "      <td>0.0222</td>\n",
       "    </tr>\n",
       "    <tr>\n",
       "      <th>1</th>\n",
       "      <td>1</td>\n",
       "      <td>20231120A</td>\n",
       "      <td>0.03680</td>\n",
       "      <td>2.506686e+10</td>\n",
       "      <td>0.0022</td>\n",
       "      <td>0.0021</td>\n",
       "      <td>0.4019</td>\n",
       "      <td>0.0250</td>\n",
       "      <td>0.0189</td>\n",
       "    </tr>\n",
       "    <tr>\n",
       "      <th>2</th>\n",
       "      <td>2</td>\n",
       "      <td>20220207C</td>\n",
       "      <td>0.04330</td>\n",
       "      <td>8.873603e+09</td>\n",
       "      <td>0.0306</td>\n",
       "      <td>0.0331</td>\n",
       "      <td>0.7124</td>\n",
       "      <td>0.1347</td>\n",
       "      <td>0.1244</td>\n",
       "    </tr>\n",
       "    <tr>\n",
       "      <th>3</th>\n",
       "      <td>3</td>\n",
       "      <td>20220509G</td>\n",
       "      <td>0.08940</td>\n",
       "      <td>5.021113e+10</td>\n",
       "      <td>0.0128</td>\n",
       "      <td>0.0092</td>\n",
       "      <td>0.2542</td>\n",
       "      <td>0.0396</td>\n",
       "      <td>0.0661</td>\n",
       "    </tr>\n",
       "    <tr>\n",
       "      <th>4</th>\n",
       "      <td>4</td>\n",
       "      <td>20230124A</td>\n",
       "      <td>0.09390</td>\n",
       "      <td>2.890680e+09</td>\n",
       "      <td>0.0035</td>\n",
       "      <td>0.0028</td>\n",
       "      <td>0.7524</td>\n",
       "      <td>0.0381</td>\n",
       "      <td>0.0406</td>\n",
       "    </tr>\n",
       "    <tr>\n",
       "      <th>5</th>\n",
       "      <td>5</td>\n",
       "      <td>20220914A</td>\n",
       "      <td>0.11390</td>\n",
       "      <td>1.749041e+09</td>\n",
       "      <td>0.0784</td>\n",
       "      <td>0.0406</td>\n",
       "      <td>0.4635</td>\n",
       "      <td>0.0579</td>\n",
       "      <td>0.0512</td>\n",
       "    </tr>\n",
       "    <tr>\n",
       "      <th>6</th>\n",
       "      <td>6</td>\n",
       "      <td>20230628A</td>\n",
       "      <td>0.12700</td>\n",
       "      <td>1.959747e+09</td>\n",
       "      <td>0.0315</td>\n",
       "      <td>0.0305</td>\n",
       "      <td>0.1358</td>\n",
       "      <td>0.0323</td>\n",
       "      <td>0.0377</td>\n",
       "    </tr>\n",
       "    <tr>\n",
       "      <th>7</th>\n",
       "      <td>7</td>\n",
       "      <td>20220920A</td>\n",
       "      <td>0.15820</td>\n",
       "      <td>7.362071e+09</td>\n",
       "      <td>0.0125</td>\n",
       "      <td>0.0109</td>\n",
       "      <td>1.6179</td>\n",
       "      <td>0.2147</td>\n",
       "      <td>0.2020</td>\n",
       "    </tr>\n",
       "    <tr>\n",
       "      <th>8</th>\n",
       "      <td>8</td>\n",
       "      <td>20221101B</td>\n",
       "      <td>0.23950</td>\n",
       "      <td>1.608792e+11</td>\n",
       "      <td>0.0269</td>\n",
       "      <td>0.0178</td>\n",
       "      <td>12.2665</td>\n",
       "      <td>4.3058</td>\n",
       "      <td>4.7140</td>\n",
       "    </tr>\n",
       "    <tr>\n",
       "      <th>9</th>\n",
       "      <td>9</td>\n",
       "      <td>20220825A</td>\n",
       "      <td>0.24140</td>\n",
       "      <td>1.019295e+10</td>\n",
       "      <td>0.0617</td>\n",
       "      <td>0.0572</td>\n",
       "      <td>7.9097</td>\n",
       "      <td>0.9359</td>\n",
       "      <td>1.2597</td>\n",
       "    </tr>\n",
       "    <tr>\n",
       "      <th>10</th>\n",
       "      <td>10</td>\n",
       "      <td>20220307B</td>\n",
       "      <td>0.24810</td>\n",
       "      <td>1.392836e+10</td>\n",
       "      <td>0.0309</td>\n",
       "      <td>0.0357</td>\n",
       "      <td>3.1663</td>\n",
       "      <td>1.0276</td>\n",
       "      <td>1.3512</td>\n",
       "    </tr>\n",
       "    <tr>\n",
       "      <th>11</th>\n",
       "      <td>11</td>\n",
       "      <td>20221113A</td>\n",
       "      <td>0.25050</td>\n",
       "      <td>2.995022e+09</td>\n",
       "      <td>0.0427</td>\n",
       "      <td>0.0423</td>\n",
       "      <td>0.2431</td>\n",
       "      <td>0.0687</td>\n",
       "      <td>0.0827</td>\n",
       "    </tr>\n",
       "    <tr>\n",
       "      <th>12</th>\n",
       "      <td>12</td>\n",
       "      <td>20231123B</td>\n",
       "      <td>0.26210</td>\n",
       "      <td>1.094208e+11</td>\n",
       "      <td>0.0098</td>\n",
       "      <td>0.0087</td>\n",
       "      <td>4.8479</td>\n",
       "      <td>0.2127</td>\n",
       "      <td>0.2234</td>\n",
       "    </tr>\n",
       "    <tr>\n",
       "      <th>13</th>\n",
       "      <td>13</td>\n",
       "      <td>20230307A</td>\n",
       "      <td>0.27060</td>\n",
       "      <td>5.770321e+10</td>\n",
       "      <td>0.0264</td>\n",
       "      <td>0.0229</td>\n",
       "      <td>0.4648</td>\n",
       "      <td>0.0593</td>\n",
       "      <td>0.0628</td>\n",
       "    </tr>\n",
       "    <tr>\n",
       "      <th>14</th>\n",
       "      <td>14</td>\n",
       "      <td>20221116A</td>\n",
       "      <td>0.27640</td>\n",
       "      <td>1.034666e+11</td>\n",
       "      <td>0.0249</td>\n",
       "      <td>0.0215</td>\n",
       "      <td>22.5773</td>\n",
       "      <td>6.0582</td>\n",
       "      <td>6.2330</td>\n",
       "    </tr>\n",
       "    <tr>\n",
       "      <th>15</th>\n",
       "      <td>15</td>\n",
       "      <td>20221012A</td>\n",
       "      <td>0.28470</td>\n",
       "      <td>9.103324e+10</td>\n",
       "      <td>0.0196</td>\n",
       "      <td>0.0161</td>\n",
       "      <td>0.1824</td>\n",
       "      <td>0.0719</td>\n",
       "      <td>0.0952</td>\n",
       "    </tr>\n",
       "    <tr>\n",
       "      <th>16</th>\n",
       "      <td>16</td>\n",
       "      <td>20220506D</td>\n",
       "      <td>0.30040</td>\n",
       "      <td>2.803496e+10</td>\n",
       "      <td>0.0150</td>\n",
       "      <td>0.0276</td>\n",
       "      <td>1.1970</td>\n",
       "      <td>0.1698</td>\n",
       "      <td>0.1651</td>\n",
       "    </tr>\n",
       "    <tr>\n",
       "      <th>17</th>\n",
       "      <td>17</td>\n",
       "      <td>20230501A</td>\n",
       "      <td>0.30150</td>\n",
       "      <td>1.949845e+10</td>\n",
       "      <td>0.0021</td>\n",
       "      <td>0.0207</td>\n",
       "      <td>4.0955</td>\n",
       "      <td>0.4467</td>\n",
       "      <td>0.6040</td>\n",
       "    </tr>\n",
       "    <tr>\n",
       "      <th>18</th>\n",
       "      <td>18</td>\n",
       "      <td>20230626A</td>\n",
       "      <td>0.32700</td>\n",
       "      <td>2.766305e+10</td>\n",
       "      <td>0.0391</td>\n",
       "      <td>0.0446</td>\n",
       "      <td>0.9835</td>\n",
       "      <td>0.2420</td>\n",
       "      <td>0.3298</td>\n",
       "    </tr>\n",
       "    <tr>\n",
       "      <th>19</th>\n",
       "      <td>19</td>\n",
       "      <td>20220726A</td>\n",
       "      <td>0.36190</td>\n",
       "      <td>1.527566e+10</td>\n",
       "      <td>0.0387</td>\n",
       "      <td>0.0350</td>\n",
       "      <td>0.7068</td>\n",
       "      <td>0.1642</td>\n",
       "      <td>0.1924</td>\n",
       "    </tr>\n",
       "    <tr>\n",
       "      <th>20</th>\n",
       "      <td>20</td>\n",
       "      <td>20220204A</td>\n",
       "      <td>0.40120</td>\n",
       "      <td>4.998043e+09</td>\n",
       "      <td>0.0358</td>\n",
       "      <td>0.0915</td>\n",
       "      <td>4.3058</td>\n",
       "      <td>0.8752</td>\n",
       "      <td>1.3978</td>\n",
       "    </tr>\n",
       "    <tr>\n",
       "      <th>21</th>\n",
       "      <td>21</td>\n",
       "      <td>20230712A</td>\n",
       "      <td>0.45250</td>\n",
       "      <td>1.336596e+11</td>\n",
       "      <td>0.0146</td>\n",
       "      <td>0.0141</td>\n",
       "      <td>29.9110</td>\n",
       "      <td>0.7919</td>\n",
       "      <td>0.7313</td>\n",
       "    </tr>\n",
       "    <tr>\n",
       "      <th>22</th>\n",
       "      <td>22</td>\n",
       "      <td>20220310F</td>\n",
       "      <td>0.47800</td>\n",
       "      <td>9.591797e+09</td>\n",
       "      <td>0.0839</td>\n",
       "      <td>0.0589</td>\n",
       "      <td>0.9706</td>\n",
       "      <td>0.2879</td>\n",
       "      <td>0.3159</td>\n",
       "    </tr>\n",
       "    <tr>\n",
       "      <th>23</th>\n",
       "      <td>23</td>\n",
       "      <td>20221219A</td>\n",
       "      <td>0.55300</td>\n",
       "      <td>1.610275e+10</td>\n",
       "      <td>0.0333</td>\n",
       "      <td>0.0386</td>\n",
       "      <td>1.7818</td>\n",
       "      <td>0.2262</td>\n",
       "      <td>0.2406</td>\n",
       "    </tr>\n",
       "    <tr>\n",
       "      <th>24</th>\n",
       "      <td>24</td>\n",
       "      <td>20220418A</td>\n",
       "      <td>0.62130</td>\n",
       "      <td>1.810923e+10</td>\n",
       "      <td>0.0236</td>\n",
       "      <td>0.0243</td>\n",
       "      <td>1.3122</td>\n",
       "      <td>0.1297</td>\n",
       "      <td>0.1539</td>\n",
       "    </tr>\n",
       "    <tr>\n",
       "      <th>25</th>\n",
       "      <td>26</td>\n",
       "      <td>20180301A</td>\n",
       "      <td>0.33050</td>\n",
       "      <td>4.365158e+09</td>\n",
       "      <td>0.1100</td>\n",
       "      <td>0.1100</td>\n",
       "      <td>1.9100</td>\n",
       "      <td>0.5500</td>\n",
       "      <td>0.6400</td>\n",
       "    </tr>\n",
       "    <tr>\n",
       "      <th>26</th>\n",
       "      <td>27</td>\n",
       "      <td>20180916B</td>\n",
       "      <td>0.03300</td>\n",
       "      <td>8.128305e+09</td>\n",
       "      <td>0.0300</td>\n",
       "      <td>0.0500</td>\n",
       "      <td>0.0400</td>\n",
       "      <td>0.0200</td>\n",
       "      <td>0.0300</td>\n",
       "    </tr>\n",
       "    <tr>\n",
       "      <th>27</th>\n",
       "      <td>28</td>\n",
       "      <td>20180924B</td>\n",
       "      <td>0.32120</td>\n",
       "      <td>2.454709e+10</td>\n",
       "      <td>0.0200</td>\n",
       "      <td>0.0200</td>\n",
       "      <td>0.6200</td>\n",
       "      <td>0.2400</td>\n",
       "      <td>0.3200</td>\n",
       "    </tr>\n",
       "    <tr>\n",
       "      <th>28</th>\n",
       "      <td>29</td>\n",
       "      <td>20181112A</td>\n",
       "      <td>0.47550</td>\n",
       "      <td>7.413102e+09</td>\n",
       "      <td>0.0700</td>\n",
       "      <td>0.0700</td>\n",
       "      <td>1.5400</td>\n",
       "      <td>0.6500</td>\n",
       "      <td>0.9900</td>\n",
       "    </tr>\n",
       "    <tr>\n",
       "      <th>29</th>\n",
       "      <td>30</td>\n",
       "      <td>20190102C</td>\n",
       "      <td>0.29090</td>\n",
       "      <td>4.897788e+09</td>\n",
       "      <td>0.0900</td>\n",
       "      <td>0.1100</td>\n",
       "      <td>0.4000</td>\n",
       "      <td>0.1100</td>\n",
       "      <td>0.3100</td>\n",
       "    </tr>\n",
       "    <tr>\n",
       "      <th>30</th>\n",
       "      <td>31</td>\n",
       "      <td>20190520B</td>\n",
       "      <td>0.24170</td>\n",
       "      <td>1.202264e+09</td>\n",
       "      <td>0.0800</td>\n",
       "      <td>0.0900</td>\n",
       "      <td>0.0400</td>\n",
       "      <td>0.0200</td>\n",
       "      <td>0.0400</td>\n",
       "    </tr>\n",
       "    <tr>\n",
       "      <th>31</th>\n",
       "      <td>32</td>\n",
       "      <td>20190608B</td>\n",
       "      <td>0.11780</td>\n",
       "      <td>3.630781e+10</td>\n",
       "      <td>0.0200</td>\n",
       "      <td>0.0200</td>\n",
       "      <td>7.0300</td>\n",
       "      <td>1.1500</td>\n",
       "      <td>1.4300</td>\n",
       "    </tr>\n",
       "    <tr>\n",
       "      <th>32</th>\n",
       "      <td>33</td>\n",
       "      <td>20190611B</td>\n",
       "      <td>0.37780</td>\n",
       "      <td>3.715352e+09</td>\n",
       "      <td>0.1200</td>\n",
       "      <td>0.1200</td>\n",
       "      <td>0.5300</td>\n",
       "      <td>0.2600</td>\n",
       "      <td>0.7700</td>\n",
       "    </tr>\n",
       "    <tr>\n",
       "      <th>33</th>\n",
       "      <td>34</td>\n",
       "      <td>20190711A</td>\n",
       "      <td>0.52180</td>\n",
       "      <td>1.258925e+09</td>\n",
       "      <td>0.1500</td>\n",
       "      <td>0.2300</td>\n",
       "      <td>0.9500</td>\n",
       "      <td>0.5000</td>\n",
       "      <td>0.9600</td>\n",
       "    </tr>\n",
       "    <tr>\n",
       "      <th>34</th>\n",
       "      <td>35</td>\n",
       "      <td>20190714A</td>\n",
       "      <td>0.23650</td>\n",
       "      <td>1.659587e+10</td>\n",
       "      <td>0.0400</td>\n",
       "      <td>0.0400</td>\n",
       "      <td>1.8900</td>\n",
       "      <td>0.7200</td>\n",
       "      <td>1.2200</td>\n",
       "    </tr>\n",
       "    <tr>\n",
       "      <th>35</th>\n",
       "      <td>36</td>\n",
       "      <td>20191001A</td>\n",
       "      <td>0.23420</td>\n",
       "      <td>5.370318e+10</td>\n",
       "      <td>0.0700</td>\n",
       "      <td>0.0800</td>\n",
       "      <td>18.2800</td>\n",
       "      <td>8.9500</td>\n",
       "      <td>17.2400</td>\n",
       "    </tr>\n",
       "    <tr>\n",
       "      <th>36</th>\n",
       "      <td>37</td>\n",
       "      <td>20200430A</td>\n",
       "      <td>0.16070</td>\n",
       "      <td>1.995262e+09</td>\n",
       "      <td>0.0700</td>\n",
       "      <td>0.1000</td>\n",
       "      <td>0.1100</td>\n",
       "      <td>0.0400</td>\n",
       "      <td>0.0600</td>\n",
       "    </tr>\n",
       "    <tr>\n",
       "      <th>37</th>\n",
       "      <td>38</td>\n",
       "      <td>20200906A</td>\n",
       "      <td>0.36880</td>\n",
       "      <td>2.344229e+10</td>\n",
       "      <td>0.0500</td>\n",
       "      <td>0.0500</td>\n",
       "      <td>4.9300</td>\n",
       "      <td>2.3400</td>\n",
       "      <td>3.4600</td>\n",
       "    </tr>\n",
       "    <tr>\n",
       "      <th>38</th>\n",
       "      <td>39</td>\n",
       "      <td>20201124A</td>\n",
       "      <td>0.09800</td>\n",
       "      <td>1.659587e+10</td>\n",
       "      <td>0.0500</td>\n",
       "      <td>0.0500</td>\n",
       "      <td>2.7200</td>\n",
       "      <td>1.2200</td>\n",
       "      <td>1.6500</td>\n",
       "    </tr>\n",
       "    <tr>\n",
       "      <th>39</th>\n",
       "      <td>40</td>\n",
       "      <td>20210117A</td>\n",
       "      <td>0.21450</td>\n",
       "      <td>3.890451e+08</td>\n",
       "      <td>0.0500</td>\n",
       "      <td>0.0600</td>\n",
       "      <td>0.0200</td>\n",
       "      <td>0.0100</td>\n",
       "      <td>0.0100</td>\n",
       "    </tr>\n",
       "    <tr>\n",
       "      <th>40</th>\n",
       "      <td>41</td>\n",
       "      <td>20210320C</td>\n",
       "      <td>0.27960</td>\n",
       "      <td>2.344229e+10</td>\n",
       "      <td>0.0500</td>\n",
       "      <td>0.0600</td>\n",
       "      <td>3.5100</td>\n",
       "      <td>1.4500</td>\n",
       "      <td>2.4400</td>\n",
       "    </tr>\n",
       "    <tr>\n",
       "      <th>41</th>\n",
       "      <td>42</td>\n",
       "      <td>20210410D</td>\n",
       "      <td>0.14150</td>\n",
       "      <td>2.951209e+09</td>\n",
       "      <td>0.0500</td>\n",
       "      <td>0.0500</td>\n",
       "      <td>0.0300</td>\n",
       "      <td>0.0100</td>\n",
       "      <td>0.0300</td>\n",
       "    </tr>\n",
       "    <tr>\n",
       "      <th>42</th>\n",
       "      <td>43</td>\n",
       "      <td>20210807D</td>\n",
       "      <td>0.12930</td>\n",
       "      <td>9.332543e+10</td>\n",
       "      <td>0.0200</td>\n",
       "      <td>0.0200</td>\n",
       "      <td>0.6300</td>\n",
       "      <td>0.1700</td>\n",
       "      <td>0.1800</td>\n",
       "    </tr>\n",
       "    <tr>\n",
       "      <th>43</th>\n",
       "      <td>44</td>\n",
       "      <td>20211127I</td>\n",
       "      <td>0.04690</td>\n",
       "      <td>3.019952e+09</td>\n",
       "      <td>0.0600</td>\n",
       "      <td>0.0200</td>\n",
       "      <td>35.8300</td>\n",
       "      <td>1.4600</td>\n",
       "      <td>1.0200</td>\n",
       "    </tr>\n",
       "    <tr>\n",
       "      <th>44</th>\n",
       "      <td>45</td>\n",
       "      <td>20211203C</td>\n",
       "      <td>0.34370</td>\n",
       "      <td>5.754399e+09</td>\n",
       "      <td>0.0700</td>\n",
       "      <td>0.0900</td>\n",
       "      <td>15.9100</td>\n",
       "      <td>2.9800</td>\n",
       "      <td>2.8200</td>\n",
       "    </tr>\n",
       "    <tr>\n",
       "      <th>45</th>\n",
       "      <td>46</td>\n",
       "      <td>20211212A</td>\n",
       "      <td>0.07070</td>\n",
       "      <td>1.905461e+10</td>\n",
       "      <td>0.0500</td>\n",
       "      <td>0.0600</td>\n",
       "      <td>0.7300</td>\n",
       "      <td>0.3900</td>\n",
       "      <td>0.6200</td>\n",
       "    </tr>\n",
       "    <tr>\n",
       "      <th>46</th>\n",
       "      <td>47</td>\n",
       "      <td>20220105A</td>\n",
       "      <td>0.27840</td>\n",
       "      <td>1.023293e+10</td>\n",
       "      <td>0.0500</td>\n",
       "      <td>0.0700</td>\n",
       "      <td>0.4200</td>\n",
       "      <td>0.1900</td>\n",
       "      <td>0.3100</td>\n",
       "    </tr>\n",
       "    <tr>\n",
       "      <th>47</th>\n",
       "      <td>48</td>\n",
       "      <td>20181220A</td>\n",
       "      <td>0.02746</td>\n",
       "      <td>7.244360e+09</td>\n",
       "      <td>0.1400</td>\n",
       "      <td>0.1200</td>\n",
       "      <td>2.9000</td>\n",
       "      <td>0.9000</td>\n",
       "      <td>1.6000</td>\n",
       "    </tr>\n",
       "    <tr>\n",
       "      <th>48</th>\n",
       "      <td>49</td>\n",
       "      <td>20181223C</td>\n",
       "      <td>0.03024</td>\n",
       "      <td>1.949845e+09</td>\n",
       "      <td>0.1600</td>\n",
       "      <td>0.2000</td>\n",
       "      <td>0.1500</td>\n",
       "      <td>0.0800</td>\n",
       "      <td>0.1200</td>\n",
       "    </tr>\n",
       "    <tr>\n",
       "      <th>49</th>\n",
       "      <td>50</td>\n",
       "      <td>20190418A</td>\n",
       "      <td>0.07132</td>\n",
       "      <td>1.862087e+10</td>\n",
       "      <td>0.1300</td>\n",
       "      <td>0.1700</td>\n",
       "      <td>0.8000</td>\n",
       "      <td>0.6000</td>\n",
       "      <td>1.1000</td>\n",
       "    </tr>\n",
       "    <tr>\n",
       "      <th>50</th>\n",
       "      <td>51</td>\n",
       "      <td>20190425A</td>\n",
       "      <td>0.03122</td>\n",
       "      <td>1.819701e+10</td>\n",
       "      <td>0.0900</td>\n",
       "      <td>0.1000</td>\n",
       "      <td>1.6000</td>\n",
       "      <td>0.9000</td>\n",
       "      <td>1.5000</td>\n",
       "    </tr>\n",
       "  </tbody>\n",
       "</table>\n",
       "</div>"
      ],
      "text/plain": [
       "    index        FRB        z         Mstar  Mstar_uperr  Mstar_lowerr  \\\n",
       "0       0  20220319D  0.01120  1.260956e+10       0.0022        0.0042   \n",
       "1       1  20231120A  0.03680  2.506686e+10       0.0022        0.0021   \n",
       "2       2  20220207C  0.04330  8.873603e+09       0.0306        0.0331   \n",
       "3       3  20220509G  0.08940  5.021113e+10       0.0128        0.0092   \n",
       "4       4  20230124A  0.09390  2.890680e+09       0.0035        0.0028   \n",
       "5       5  20220914A  0.11390  1.749041e+09       0.0784        0.0406   \n",
       "6       6  20230628A  0.12700  1.959747e+09       0.0315        0.0305   \n",
       "7       7  20220920A  0.15820  7.362071e+09       0.0125        0.0109   \n",
       "8       8  20221101B  0.23950  1.608792e+11       0.0269        0.0178   \n",
       "9       9  20220825A  0.24140  1.019295e+10       0.0617        0.0572   \n",
       "10     10  20220307B  0.24810  1.392836e+10       0.0309        0.0357   \n",
       "11     11  20221113A  0.25050  2.995022e+09       0.0427        0.0423   \n",
       "12     12  20231123B  0.26210  1.094208e+11       0.0098        0.0087   \n",
       "13     13  20230307A  0.27060  5.770321e+10       0.0264        0.0229   \n",
       "14     14  20221116A  0.27640  1.034666e+11       0.0249        0.0215   \n",
       "15     15  20221012A  0.28470  9.103324e+10       0.0196        0.0161   \n",
       "16     16  20220506D  0.30040  2.803496e+10       0.0150        0.0276   \n",
       "17     17  20230501A  0.30150  1.949845e+10       0.0021        0.0207   \n",
       "18     18  20230626A  0.32700  2.766305e+10       0.0391        0.0446   \n",
       "19     19  20220726A  0.36190  1.527566e+10       0.0387        0.0350   \n",
       "20     20  20220204A  0.40120  4.998043e+09       0.0358        0.0915   \n",
       "21     21  20230712A  0.45250  1.336596e+11       0.0146        0.0141   \n",
       "22     22  20220310F  0.47800  9.591797e+09       0.0839        0.0589   \n",
       "23     23  20221219A  0.55300  1.610275e+10       0.0333        0.0386   \n",
       "24     24  20220418A  0.62130  1.810923e+10       0.0236        0.0243   \n",
       "25     26  20180301A  0.33050  4.365158e+09       0.1100        0.1100   \n",
       "26     27  20180916B  0.03300  8.128305e+09       0.0300        0.0500   \n",
       "27     28  20180924B  0.32120  2.454709e+10       0.0200        0.0200   \n",
       "28     29  20181112A  0.47550  7.413102e+09       0.0700        0.0700   \n",
       "29     30  20190102C  0.29090  4.897788e+09       0.0900        0.1100   \n",
       "30     31  20190520B  0.24170  1.202264e+09       0.0800        0.0900   \n",
       "31     32  20190608B  0.11780  3.630781e+10       0.0200        0.0200   \n",
       "32     33  20190611B  0.37780  3.715352e+09       0.1200        0.1200   \n",
       "33     34  20190711A  0.52180  1.258925e+09       0.1500        0.2300   \n",
       "34     35  20190714A  0.23650  1.659587e+10       0.0400        0.0400   \n",
       "35     36  20191001A  0.23420  5.370318e+10       0.0700        0.0800   \n",
       "36     37  20200430A  0.16070  1.995262e+09       0.0700        0.1000   \n",
       "37     38  20200906A  0.36880  2.344229e+10       0.0500        0.0500   \n",
       "38     39  20201124A  0.09800  1.659587e+10       0.0500        0.0500   \n",
       "39     40  20210117A  0.21450  3.890451e+08       0.0500        0.0600   \n",
       "40     41  20210320C  0.27960  2.344229e+10       0.0500        0.0600   \n",
       "41     42  20210410D  0.14150  2.951209e+09       0.0500        0.0500   \n",
       "42     43  20210807D  0.12930  9.332543e+10       0.0200        0.0200   \n",
       "43     44  20211127I  0.04690  3.019952e+09       0.0600        0.0200   \n",
       "44     45  20211203C  0.34370  5.754399e+09       0.0700        0.0900   \n",
       "45     46  20211212A  0.07070  1.905461e+10       0.0500        0.0600   \n",
       "46     47  20220105A  0.27840  1.023293e+10       0.0500        0.0700   \n",
       "47     48  20181220A  0.02746  7.244360e+09       0.1400        0.1200   \n",
       "48     49  20181223C  0.03024  1.949845e+09       0.1600        0.2000   \n",
       "49     50  20190418A  0.07132  1.862087e+10       0.1300        0.1700   \n",
       "50     51  20190425A  0.03122  1.819701e+10       0.0900        0.1000   \n",
       "\n",
       "        SFR  SFR_lowerr  SFR_uperr  \n",
       "0    0.4238      0.0209     0.0222  \n",
       "1    0.4019      0.0250     0.0189  \n",
       "2    0.7124      0.1347     0.1244  \n",
       "3    0.2542      0.0396     0.0661  \n",
       "4    0.7524      0.0381     0.0406  \n",
       "5    0.4635      0.0579     0.0512  \n",
       "6    0.1358      0.0323     0.0377  \n",
       "7    1.6179      0.2147     0.2020  \n",
       "8   12.2665      4.3058     4.7140  \n",
       "9    7.9097      0.9359     1.2597  \n",
       "10   3.1663      1.0276     1.3512  \n",
       "11   0.2431      0.0687     0.0827  \n",
       "12   4.8479      0.2127     0.2234  \n",
       "13   0.4648      0.0593     0.0628  \n",
       "14  22.5773      6.0582     6.2330  \n",
       "15   0.1824      0.0719     0.0952  \n",
       "16   1.1970      0.1698     0.1651  \n",
       "17   4.0955      0.4467     0.6040  \n",
       "18   0.9835      0.2420     0.3298  \n",
       "19   0.7068      0.1642     0.1924  \n",
       "20   4.3058      0.8752     1.3978  \n",
       "21  29.9110      0.7919     0.7313  \n",
       "22   0.9706      0.2879     0.3159  \n",
       "23   1.7818      0.2262     0.2406  \n",
       "24   1.3122      0.1297     0.1539  \n",
       "25   1.9100      0.5500     0.6400  \n",
       "26   0.0400      0.0200     0.0300  \n",
       "27   0.6200      0.2400     0.3200  \n",
       "28   1.5400      0.6500     0.9900  \n",
       "29   0.4000      0.1100     0.3100  \n",
       "30   0.0400      0.0200     0.0400  \n",
       "31   7.0300      1.1500     1.4300  \n",
       "32   0.5300      0.2600     0.7700  \n",
       "33   0.9500      0.5000     0.9600  \n",
       "34   1.8900      0.7200     1.2200  \n",
       "35  18.2800      8.9500    17.2400  \n",
       "36   0.1100      0.0400     0.0600  \n",
       "37   4.9300      2.3400     3.4600  \n",
       "38   2.7200      1.2200     1.6500  \n",
       "39   0.0200      0.0100     0.0100  \n",
       "40   3.5100      1.4500     2.4400  \n",
       "41   0.0300      0.0100     0.0300  \n",
       "42   0.6300      0.1700     0.1800  \n",
       "43  35.8300      1.4600     1.0200  \n",
       "44  15.9100      2.9800     2.8200  \n",
       "45   0.7300      0.3900     0.6200  \n",
       "46   0.4200      0.1900     0.3100  \n",
       "47   2.9000      0.9000     1.6000  \n",
       "48   0.1500      0.0800     0.1200  \n",
       "49   0.8000      0.6000     1.1000  \n",
       "50   1.6000      0.9000     1.5000  "
      ]
     },
     "execution_count": 1138,
     "metadata": {},
     "output_type": "execute_result"
    }
   ],
   "source": [
    "frb_hosts"
   ]
  },
  {
   "cell_type": "markdown",
   "id": "c505b7e1",
   "metadata": {},
   "source": [
    "## Figure 3 ##"
   ]
  },
  {
   "cell_type": "code",
   "execution_count": 585,
   "id": "4a77e2bb-87a6-4a80-afb3-0d8d645246f1",
   "metadata": {
    "scrolled": true
   },
   "outputs": [
    {
     "name": "stdout",
     "output_type": "stream",
     "text": [
      "This might take a while. About 2 minutes per a/b ratio\n"
     ]
    },
    {
     "data": {
      "application/vnd.jupyter.widget-view+json": {
       "model_id": "fe087246e577430e8814bc294f073fe5",
       "version_major": 2,
       "version_minor": 0
      },
      "text/plain": [
       "Calculating a/b ratios:   0%|          | 0/50 [00:00<?, ?it/s]"
      ]
     },
     "metadata": {},
     "output_type": "display_data"
    },
    {
     "data": {
      "application/vnd.jupyter.widget-view+json": {
       "model_id": "5bbbc37d56354810ac926a9c8e656fac",
       "version_major": 2,
       "version_minor": 0
      },
      "text/plain": [
       "Averaging result for a/b ratio:   0%|          | 0/3 [00:00<?, ?it/s]"
      ]
     },
     "metadata": {},
     "output_type": "display_data"
    },
    {
     "data": {
      "application/vnd.jupyter.widget-view+json": {
       "model_id": "5f8c4a24c04641c0b69048b8653bb99d",
       "version_major": 2,
       "version_minor": 0
      },
      "text/plain": [
       "Averaging result for a/b ratio:   0%|          | 0/3 [00:00<?, ?it/s]"
      ]
     },
     "metadata": {},
     "output_type": "display_data"
    },
    {
     "data": {
      "application/vnd.jupyter.widget-view+json": {
       "model_id": "b8022b8562ce4dd28efaaaaad18d67ae",
       "version_major": 2,
       "version_minor": 0
      },
      "text/plain": [
       "Averaging result for a/b ratio:   0%|          | 0/3 [00:00<?, ?it/s]"
      ]
     },
     "metadata": {},
     "output_type": "display_data"
    },
    {
     "data": {
      "application/vnd.jupyter.widget-view+json": {
       "model_id": "e550ba39cc5c4e2194f8aa3fa823bc8a",
       "version_major": 2,
       "version_minor": 0
      },
      "text/plain": [
       "Averaging result for a/b ratio:   0%|          | 0/3 [00:00<?, ?it/s]"
      ]
     },
     "metadata": {},
     "output_type": "display_data"
    },
    {
     "data": {
      "application/vnd.jupyter.widget-view+json": {
       "model_id": "29996478fd1042cb9e88c489300c2a4a",
       "version_major": 2,
       "version_minor": 0
      },
      "text/plain": [
       "Averaging result for a/b ratio:   0%|          | 0/3 [00:00<?, ?it/s]"
      ]
     },
     "metadata": {},
     "output_type": "display_data"
    },
    {
     "data": {
      "application/vnd.jupyter.widget-view+json": {
       "model_id": "0d5f83c3d93e4490bc2317449501a1f3",
       "version_major": 2,
       "version_minor": 0
      },
      "text/plain": [
       "Averaging result for a/b ratio:   0%|          | 0/3 [00:00<?, ?it/s]"
      ]
     },
     "metadata": {},
     "output_type": "display_data"
    },
    {
     "data": {
      "application/vnd.jupyter.widget-view+json": {
       "model_id": "d1cd74d7bc8b40ecb8a679ed5bdb389f",
       "version_major": 2,
       "version_minor": 0
      },
      "text/plain": [
       "Averaging result for a/b ratio:   0%|          | 0/3 [00:00<?, ?it/s]"
      ]
     },
     "metadata": {},
     "output_type": "display_data"
    },
    {
     "data": {
      "application/vnd.jupyter.widget-view+json": {
       "model_id": "2ea7d50491c74a7bbe58ff5121160db1",
       "version_major": 2,
       "version_minor": 0
      },
      "text/plain": [
       "Averaging result for a/b ratio:   0%|          | 0/3 [00:00<?, ?it/s]"
      ]
     },
     "metadata": {},
     "output_type": "display_data"
    },
    {
     "data": {
      "application/vnd.jupyter.widget-view+json": {
       "model_id": "a866ab0447ef47c88796942d1bcca419",
       "version_major": 2,
       "version_minor": 0
      },
      "text/plain": [
       "Averaging result for a/b ratio:   0%|          | 0/3 [00:00<?, ?it/s]"
      ]
     },
     "metadata": {},
     "output_type": "display_data"
    },
    {
     "data": {
      "application/vnd.jupyter.widget-view+json": {
       "model_id": "3b71f263a5ff4b829db6a6473917d57a",
       "version_major": 2,
       "version_minor": 0
      },
      "text/plain": [
       "Averaging result for a/b ratio:   0%|          | 0/3 [00:00<?, ?it/s]"
      ]
     },
     "metadata": {},
     "output_type": "display_data"
    },
    {
     "data": {
      "application/vnd.jupyter.widget-view+json": {
       "model_id": "260b9eab69634ef0a51c86d9bdc09a50",
       "version_major": 2,
       "version_minor": 0
      },
      "text/plain": [
       "Averaging result for a/b ratio:   0%|          | 0/3 [00:00<?, ?it/s]"
      ]
     },
     "metadata": {},
     "output_type": "display_data"
    },
    {
     "data": {
      "application/vnd.jupyter.widget-view+json": {
       "model_id": "85bedcfa8aa84bf8802aa701ba0eb066",
       "version_major": 2,
       "version_minor": 0
      },
      "text/plain": [
       "Averaging result for a/b ratio:   0%|          | 0/3 [00:00<?, ?it/s]"
      ]
     },
     "metadata": {},
     "output_type": "display_data"
    },
    {
     "data": {
      "application/vnd.jupyter.widget-view+json": {
       "model_id": "05686a5dc7454a188f2834afeee8f774",
       "version_major": 2,
       "version_minor": 0
      },
      "text/plain": [
       "Averaging result for a/b ratio:   0%|          | 0/3 [00:00<?, ?it/s]"
      ]
     },
     "metadata": {},
     "output_type": "display_data"
    },
    {
     "data": {
      "application/vnd.jupyter.widget-view+json": {
       "model_id": "5c1d90fe85c648ec879f5c30c61f32ed",
       "version_major": 2,
       "version_minor": 0
      },
      "text/plain": [
       "Averaging result for a/b ratio:   0%|          | 0/3 [00:00<?, ?it/s]"
      ]
     },
     "metadata": {},
     "output_type": "display_data"
    },
    {
     "data": {
      "application/vnd.jupyter.widget-view+json": {
       "model_id": "f72e59458d2a4aef9c0560b8531be9da",
       "version_major": 2,
       "version_minor": 0
      },
      "text/plain": [
       "Averaging result for a/b ratio:   0%|          | 0/3 [00:00<?, ?it/s]"
      ]
     },
     "metadata": {},
     "output_type": "display_data"
    },
    {
     "data": {
      "application/vnd.jupyter.widget-view+json": {
       "model_id": "da1fe9ab47a54320a2e980c0fb5c6e70",
       "version_major": 2,
       "version_minor": 0
      },
      "text/plain": [
       "Averaging result for a/b ratio:   0%|          | 0/3 [00:00<?, ?it/s]"
      ]
     },
     "metadata": {},
     "output_type": "display_data"
    },
    {
     "data": {
      "application/vnd.jupyter.widget-view+json": {
       "model_id": "1c59e5c80e184f1fb26a032a25680f88",
       "version_major": 2,
       "version_minor": 0
      },
      "text/plain": [
       "Averaging result for a/b ratio:   0%|          | 0/3 [00:00<?, ?it/s]"
      ]
     },
     "metadata": {},
     "output_type": "display_data"
    },
    {
     "data": {
      "application/vnd.jupyter.widget-view+json": {
       "model_id": "fa12099f408c48a0a0fb0aea360dbe69",
       "version_major": 2,
       "version_minor": 0
      },
      "text/plain": [
       "Averaging result for a/b ratio:   0%|          | 0/3 [00:00<?, ?it/s]"
      ]
     },
     "metadata": {},
     "output_type": "display_data"
    },
    {
     "data": {
      "application/vnd.jupyter.widget-view+json": {
       "model_id": "0339e94b44db499db5e58de28e91ed2a",
       "version_major": 2,
       "version_minor": 0
      },
      "text/plain": [
       "Averaging result for a/b ratio:   0%|          | 0/3 [00:00<?, ?it/s]"
      ]
     },
     "metadata": {},
     "output_type": "display_data"
    },
    {
     "data": {
      "application/vnd.jupyter.widget-view+json": {
       "model_id": "3598f2a680804a4db2dd32929adc42ff",
       "version_major": 2,
       "version_minor": 0
      },
      "text/plain": [
       "Averaging result for a/b ratio:   0%|          | 0/3 [00:00<?, ?it/s]"
      ]
     },
     "metadata": {},
     "output_type": "display_data"
    },
    {
     "data": {
      "application/vnd.jupyter.widget-view+json": {
       "model_id": "27d20ca5f9484d2bb391a761dcba03b2",
       "version_major": 2,
       "version_minor": 0
      },
      "text/plain": [
       "Averaging result for a/b ratio:   0%|          | 0/3 [00:00<?, ?it/s]"
      ]
     },
     "metadata": {},
     "output_type": "display_data"
    },
    {
     "data": {
      "application/vnd.jupyter.widget-view+json": {
       "model_id": "fbada919d3b4403b92ed8dffc09c4797",
       "version_major": 2,
       "version_minor": 0
      },
      "text/plain": [
       "Averaging result for a/b ratio:   0%|          | 0/3 [00:00<?, ?it/s]"
      ]
     },
     "metadata": {},
     "output_type": "display_data"
    },
    {
     "data": {
      "application/vnd.jupyter.widget-view+json": {
       "model_id": "cb580531389543348fc8648b63d9ee9a",
       "version_major": 2,
       "version_minor": 0
      },
      "text/plain": [
       "Averaging result for a/b ratio:   0%|          | 0/3 [00:00<?, ?it/s]"
      ]
     },
     "metadata": {},
     "output_type": "display_data"
    },
    {
     "data": {
      "application/vnd.jupyter.widget-view+json": {
       "model_id": "78af139d686c4c478514ce158bc1e366",
       "version_major": 2,
       "version_minor": 0
      },
      "text/plain": [
       "Averaging result for a/b ratio:   0%|          | 0/3 [00:00<?, ?it/s]"
      ]
     },
     "metadata": {},
     "output_type": "display_data"
    },
    {
     "data": {
      "application/vnd.jupyter.widget-view+json": {
       "model_id": "2917efbb4e944cd986d073844ead9e54",
       "version_major": 2,
       "version_minor": 0
      },
      "text/plain": [
       "Averaging result for a/b ratio:   0%|          | 0/3 [00:00<?, ?it/s]"
      ]
     },
     "metadata": {},
     "output_type": "display_data"
    },
    {
     "data": {
      "application/vnd.jupyter.widget-view+json": {
       "model_id": "2065370f2b154ac6b63c1e2e8ba90b19",
       "version_major": 2,
       "version_minor": 0
      },
      "text/plain": [
       "Averaging result for a/b ratio:   0%|          | 0/3 [00:00<?, ?it/s]"
      ]
     },
     "metadata": {},
     "output_type": "display_data"
    },
    {
     "data": {
      "application/vnd.jupyter.widget-view+json": {
       "model_id": "653bc0bde86e49c188a1c26a6834ce42",
       "version_major": 2,
       "version_minor": 0
      },
      "text/plain": [
       "Averaging result for a/b ratio:   0%|          | 0/3 [00:00<?, ?it/s]"
      ]
     },
     "metadata": {},
     "output_type": "display_data"
    },
    {
     "data": {
      "application/vnd.jupyter.widget-view+json": {
       "model_id": "f83df3d0999c4e019d6fe037cb7e2955",
       "version_major": 2,
       "version_minor": 0
      },
      "text/plain": [
       "Averaging result for a/b ratio:   0%|          | 0/3 [00:00<?, ?it/s]"
      ]
     },
     "metadata": {},
     "output_type": "display_data"
    },
    {
     "data": {
      "application/vnd.jupyter.widget-view+json": {
       "model_id": "045b2f81086f4bd4a47187450227380a",
       "version_major": 2,
       "version_minor": 0
      },
      "text/plain": [
       "Averaging result for a/b ratio:   0%|          | 0/3 [00:00<?, ?it/s]"
      ]
     },
     "metadata": {},
     "output_type": "display_data"
    },
    {
     "data": {
      "application/vnd.jupyter.widget-view+json": {
       "model_id": "fc5e82458fff4ed2b70dc8d03854fafe",
       "version_major": 2,
       "version_minor": 0
      },
      "text/plain": [
       "Averaging result for a/b ratio:   0%|          | 0/3 [00:00<?, ?it/s]"
      ]
     },
     "metadata": {},
     "output_type": "display_data"
    },
    {
     "data": {
      "application/vnd.jupyter.widget-view+json": {
       "model_id": "c2243825975a4fdba96957c0df155d6d",
       "version_major": 2,
       "version_minor": 0
      },
      "text/plain": [
       "Averaging result for a/b ratio:   0%|          | 0/3 [00:00<?, ?it/s]"
      ]
     },
     "metadata": {},
     "output_type": "display_data"
    },
    {
     "data": {
      "application/vnd.jupyter.widget-view+json": {
       "model_id": "bcc14c0aef8e4f428a81bf906637e0ab",
       "version_major": 2,
       "version_minor": 0
      },
      "text/plain": [
       "Averaging result for a/b ratio:   0%|          | 0/3 [00:00<?, ?it/s]"
      ]
     },
     "metadata": {},
     "output_type": "display_data"
    },
    {
     "data": {
      "application/vnd.jupyter.widget-view+json": {
       "model_id": "a0d048fce0ff45f88f9c259231ab518c",
       "version_major": 2,
       "version_minor": 0
      },
      "text/plain": [
       "Averaging result for a/b ratio:   0%|          | 0/3 [00:00<?, ?it/s]"
      ]
     },
     "metadata": {},
     "output_type": "display_data"
    },
    {
     "data": {
      "application/vnd.jupyter.widget-view+json": {
       "model_id": "d510c189685c4865bd3b4a93165c08c3",
       "version_major": 2,
       "version_minor": 0
      },
      "text/plain": [
       "Averaging result for a/b ratio:   0%|          | 0/3 [00:00<?, ?it/s]"
      ]
     },
     "metadata": {},
     "output_type": "display_data"
    },
    {
     "data": {
      "application/vnd.jupyter.widget-view+json": {
       "model_id": "5e2f42f5c87744918a78534fc8f517de",
       "version_major": 2,
       "version_minor": 0
      },
      "text/plain": [
       "Averaging result for a/b ratio:   0%|          | 0/3 [00:00<?, ?it/s]"
      ]
     },
     "metadata": {},
     "output_type": "display_data"
    },
    {
     "data": {
      "application/vnd.jupyter.widget-view+json": {
       "model_id": "f5743b1904754e32b23f61e8bffc1d7d",
       "version_major": 2,
       "version_minor": 0
      },
      "text/plain": [
       "Averaging result for a/b ratio:   0%|          | 0/3 [00:00<?, ?it/s]"
      ]
     },
     "metadata": {},
     "output_type": "display_data"
    },
    {
     "data": {
      "application/vnd.jupyter.widget-view+json": {
       "model_id": "0d0e278afae84d1b9add219a5a6a1459",
       "version_major": 2,
       "version_minor": 0
      },
      "text/plain": [
       "Averaging result for a/b ratio:   0%|          | 0/3 [00:00<?, ?it/s]"
      ]
     },
     "metadata": {},
     "output_type": "display_data"
    },
    {
     "data": {
      "application/vnd.jupyter.widget-view+json": {
       "model_id": "7ffe9340d3a941438ba05d41f4cf1b69",
       "version_major": 2,
       "version_minor": 0
      },
      "text/plain": [
       "Averaging result for a/b ratio:   0%|          | 0/3 [00:00<?, ?it/s]"
      ]
     },
     "metadata": {},
     "output_type": "display_data"
    },
    {
     "data": {
      "application/vnd.jupyter.widget-view+json": {
       "model_id": "3ac95d44883e4107804849cc99ad747a",
       "version_major": 2,
       "version_minor": 0
      },
      "text/plain": [
       "Averaging result for a/b ratio:   0%|          | 0/3 [00:00<?, ?it/s]"
      ]
     },
     "metadata": {},
     "output_type": "display_data"
    },
    {
     "data": {
      "application/vnd.jupyter.widget-view+json": {
       "model_id": "d51dff05d03040759442e48090cd8982",
       "version_major": 2,
       "version_minor": 0
      },
      "text/plain": [
       "Averaging result for a/b ratio:   0%|          | 0/3 [00:00<?, ?it/s]"
      ]
     },
     "metadata": {},
     "output_type": "display_data"
    },
    {
     "data": {
      "application/vnd.jupyter.widget-view+json": {
       "model_id": "8d825d53014542aa9707d4756559cb20",
       "version_major": 2,
       "version_minor": 0
      },
      "text/plain": [
       "Averaging result for a/b ratio:   0%|          | 0/3 [00:00<?, ?it/s]"
      ]
     },
     "metadata": {},
     "output_type": "display_data"
    },
    {
     "data": {
      "application/vnd.jupyter.widget-view+json": {
       "model_id": "9950ea76a0b34b17be1447bb775ac1d9",
       "version_major": 2,
       "version_minor": 0
      },
      "text/plain": [
       "Averaging result for a/b ratio:   0%|          | 0/3 [00:00<?, ?it/s]"
      ]
     },
     "metadata": {},
     "output_type": "display_data"
    },
    {
     "data": {
      "application/vnd.jupyter.widget-view+json": {
       "model_id": "7989e0fab1b542468bfa211178e99dbb",
       "version_major": 2,
       "version_minor": 0
      },
      "text/plain": [
       "Averaging result for a/b ratio:   0%|          | 0/3 [00:00<?, ?it/s]"
      ]
     },
     "metadata": {},
     "output_type": "display_data"
    },
    {
     "data": {
      "application/vnd.jupyter.widget-view+json": {
       "model_id": "fac28b62d316446d944201262574543b",
       "version_major": 2,
       "version_minor": 0
      },
      "text/plain": [
       "Averaging result for a/b ratio:   0%|          | 0/3 [00:00<?, ?it/s]"
      ]
     },
     "metadata": {},
     "output_type": "display_data"
    },
    {
     "data": {
      "application/vnd.jupyter.widget-view+json": {
       "model_id": "33a4f13f88534ff2be9a12c5d7d66fa3",
       "version_major": 2,
       "version_minor": 0
      },
      "text/plain": [
       "Averaging result for a/b ratio:   0%|          | 0/3 [00:00<?, ?it/s]"
      ]
     },
     "metadata": {},
     "output_type": "display_data"
    },
    {
     "data": {
      "application/vnd.jupyter.widget-view+json": {
       "model_id": "919a23568ae942d2872e9921ce40893b",
       "version_major": 2,
       "version_minor": 0
      },
      "text/plain": [
       "Averaging result for a/b ratio:   0%|          | 0/3 [00:00<?, ?it/s]"
      ]
     },
     "metadata": {},
     "output_type": "display_data"
    },
    {
     "data": {
      "application/vnd.jupyter.widget-view+json": {
       "model_id": "8b5403c1932c44daa79de35127dca0e5",
       "version_major": 2,
       "version_minor": 0
      },
      "text/plain": [
       "Averaging result for a/b ratio:   0%|          | 0/3 [00:00<?, ?it/s]"
      ]
     },
     "metadata": {},
     "output_type": "display_data"
    },
    {
     "data": {
      "application/vnd.jupyter.widget-view+json": {
       "model_id": "79c02c90d2d34105ae9ddffc03c33e0b",
       "version_major": 2,
       "version_minor": 0
      },
      "text/plain": [
       "Averaging result for a/b ratio:   0%|          | 0/3 [00:00<?, ?it/s]"
      ]
     },
     "metadata": {},
     "output_type": "display_data"
    },
    {
     "data": {
      "application/vnd.jupyter.widget-view+json": {
       "model_id": "8d8bce3f573d4474b4e43676d8a6d09e",
       "version_major": 2,
       "version_minor": 0
      },
      "text/plain": [
       "Averaging result for a/b ratio:   0%|          | 0/3 [00:00<?, ?it/s]"
      ]
     },
     "metadata": {},
     "output_type": "display_data"
    },
    {
     "data": {
      "application/vnd.jupyter.widget-view+json": {
       "model_id": "ef90a685d6a14c62ad85bebb3ce19292",
       "version_major": 2,
       "version_minor": 0
      },
      "text/plain": [
       "Averaging result for a/b ratio:   0%|          | 0/3 [00:00<?, ?it/s]"
      ]
     },
     "metadata": {},
     "output_type": "display_data"
    }
   ],
   "source": [
    "from tqdm.notebook import tqdm\n",
    "\n",
    "''' a-b with p<90% (for Figure 3) '''\n",
    "N_AVG_PER_AB = 3\n",
    "\n",
    "log_ab_frac = np.linspace(-15, -6, 50)  # ratio between log10(a/b)\n",
    "frb_values = np.vstack([np.log10(frb_hosts['Mstar']),\n",
    "                        np.log10(frb_hosts['SFR']),\n",
    "                        frb_hosts['z']])\n",
    "\n",
    "ab_p90_pvals = []\n",
    "ab_pnom_pvals = []\n",
    "ab_p90_errs = []  # list of attemps per ab (length is len(ab_pvals), each element is a list of N_AVG_PER_AB)\n",
    "ab_pnom_errs = []\n",
    "\n",
    "print(\"This might take a while. About 2 minutes per a/b ratio\")\n",
    "for log_f in tqdm(log_ab_frac, desc=\"Calculating a/b ratios\"):\n",
    "    # print(\"Starting\", np.where(log_ab_frac == log_f)[0][0], \"/\", len(log_ab_frac))\n",
    "    f = 10 ** log_f\n",
    "    # solutiosn to a/b=f and a+b=1\n",
    "    a = f / (1+f)\n",
    "    b = 1 / (1+f)\n",
    "    \n",
    "    z_to_logpdf = create_z_to_logpdf_w_opt(frb_hosts, prob_density, a, b)\n",
    "    frbs_nominal_likelihood = mc.calc_weighted_likelihood(z_to_logpdf, frb_values.T)\n",
    "\n",
    "    p90_per_ab = []\n",
    "    pnom_per_ab = []\n",
    "    for _ in tqdm(range(N_AVG_PER_AB), desc=f\"Averaging result for a/b ratio\",\n",
    "                  leave=False):\n",
    "        try:\n",
    "            mc.TQDM_DISABLE = True\n",
    "            p90, pnom, _, _ = mc.calc_p90(frb_hosts, z_to_logpdf, frbs_nominal_likelihood)\n",
    "            mc.TQDM_DISABLE = False\n",
    "            p90_per_ab.append(p90)\n",
    "            pnom_per_ab.append(pnom)\n",
    "        except TypeError as err:\n",
    "            print(err)\n",
    "            continue\n",
    "    \n",
    "    ab_p90_errs.append(p90_per_ab)        \n",
    "    ab_pnom_errs.append(pnom_per_ab)        \n",
    "    ab_p90_pvals.append(np.average(p90_per_ab))\n",
    "    ab_pnom_pvals.append(np.average(pnom_per_ab))   \n",
    "\n",
    "with open('ab_frac_26_02_25.csv', 'w') as f:\n",
    "    f.write('log_ab,pval,errs\\n')\n",
    "    f.writelines(['{},{},{},{},{}\\n'.format(log_ab_frac[i], ab_p90_pvals[i], ab_pnom_pvals[i],\n",
    "                                            ab_p90_errs[i],ab_pnom_errs[i]) for i in range(len(log_ab_frac))])\n"
   ]
  },
  {
   "cell_type": "code",
   "execution_count": 588,
   "id": "09865f41-7f9e-48dc-951a-42746bd28806",
   "metadata": {},
   "outputs": [
    {
     "data": {
      "image/png": "[encoded data removed]",
      "text/plain": [
       "<Figure size 640x480 with 1 Axes>"
      ]
     },
     "metadata": {},
     "output_type": "display_data"
    }
   ],
   "source": [
    "''' Figure 3 setup '''\n",
    "import matplotlib.patches as mpatches\n",
    "\n",
    "def ab_vals_from_csv(csv_path):\n",
    "    '''\n",
    "    Serialize values from csv\n",
    "    :param csv_path: path to csv file\n",
    "    :return: tuple of log_ab_frac, ab_pvals and \n",
    "    '''\n",
    "    log_ab_frac = []\n",
    "    p90_vals = []\n",
    "    pnom_vals = []\n",
    "    errs_90 = []\n",
    "    errs_nom = []\n",
    "\n",
    "    with open(csv_path) as f:\n",
    "        f.readline()  # headers line\n",
    "        for l in f.readlines():\n",
    "            # frac, p90,pnom,[np.float64(p90_1), np.float64(p90_2), np.float64(p90_3)],\n",
    "            #                [np.float64(pnom_1), np.float64(pnom_2), np.float64(pnom_3)]\\n\n",
    "            frac, p90, pnom, *errs = l.split(\",\")\n",
    "            frac = float(frac)\n",
    "            p90 = float(p90)\n",
    "            pnom = float(pnom)\n",
    "            err_90 = [float(errs[0].strip('[np.float64(').rstrip(')')),\n",
    "                      float(errs[1].strip(' np.float64(').rstrip(')')),\n",
    "                      float(errs[2].strip(' np.float64(').rstrip(')]'))]\n",
    "            err_nom = [float(errs[3].strip('[np.float64(').rstrip(')')),\n",
    "                       float(errs[4].strip(' np.float64(').rstrip(')')),\n",
    "                       float(errs[5].strip(' np.float64(').rstrip(')]\\n'))]\n",
    "        \n",
    "            log_ab_frac.append(frac)\n",
    "            p90_vals.append(p90)\n",
    "            pnom_vals.append(pnom)\n",
    "            errs_90.append(err_90)\n",
    "            errs_nom.append(err_nom)\n",
    "\n",
    "    return log_ab_frac, p90_vals, pnom_vals, errs_90, errs_nom\n",
    "\n",
    "fracs, pvals_90, pvals_nom, errs_90, errs_nom = ab_vals_from_csv('ab_frac_26_02_25.csv')\n",
    "\n",
    "yerr_90 = np.transpose([[max(errs_90[i])-p,p-min(errs_90[i])] for i,p in enumerate(pvals_90)])\n",
    "yerr_nom = np.transpose([[max(errs_nom[i])-p,p-min(errs_nom[i])] for i,p in enumerate(pvals_nom)])\n",
    "\n",
    "ax = plt.gca()\n",
    "plt.errorbar(fracs, pvals_90, yerr_90, fmt='o', ecolor='teal')\n",
    "plt.errorbar(fracs, pvals_nom, yerr_nom, fmt='o', ecolor='orange')\n",
    "\n",
    "\n",
    "plt.xlabel('$log_{10}(A/B~[yr^{-1}])$')\n",
    "plt.ylabel('p-value')\n",
    "plt.axhline(0.05, color='grey', linestyle='--')\n",
    "\n",
    "# add mass-weighted and sfr-weighted direction arrows\n",
    "sfr_arrow = mpatches.FancyArrowPatch((-12, 0.2), (-15, 0.2),\n",
    "                                     arrowstyle='->,head_width=.15',\n",
    "                                     mutation_scale=20)\n",
    "mass_arrow = mpatches.FancyArrowPatch((-8.8, 0.2), (-5.8, 0.2),\n",
    "                                      arrowstyle='->,head_width=.15',\n",
    "                                      mutation_scale=20)\n",
    "ax.add_patch(mass_arrow)\n",
    "ax.add_patch(sfr_arrow)\n",
    "ax.annotate(\"mass-weighted\", (.5, .5), xycoords=mass_arrow, ha='center', va='bottom')\n",
    "ax.annotate(\"SFR-weighted\", (.5, .5), xycoords=sfr_arrow, ha='center', va='bottom')\n",
    "\n",
    "#plt.savefig('Figures/Figure3_no_inf_points.pdf', bbox_inches='tight', transparent=True)"
   ]
  },
  {
   "cell_type": "code",
   "execution_count": 684,
   "id": "8e44aec7-89c9-419c-b968-2e00b87825ab",
   "metadata": {},
   "outputs": [
    {
     "data": {
      "image/png": "[encoded data removed]",
      "text/plain": [
       "<Figure size 640x480 with 1 Axes>"
      ]
     },
     "metadata": {},
     "output_type": "display_data"
    },
    {
     "name": "stdout",
     "output_type": "stream",
     "text": [
      "mean: -9.619067741092403\n",
      "cov: 1.3573608878558514\n"
     ]
    }
   ],
   "source": [
    "''' Gaussian fit Figure 3 '''\n",
    "from scipy.optimize import curve_fit\n",
    "\n",
    "# replace between pvals_90 and pvals_nom, pick which ones to fit to\n",
    "curr_pvals = pvals_90\n",
    "n = len(curr_pvals)\n",
    "mean = sum(np.array(fracs) * np.array(curr_pvals))/n\n",
    "sigma = np.sqrt(sum(curr_pvals*(fracs-mean)**2)/n)\n",
    "\n",
    "def gauss(x,a,x0,sigma):\n",
    "    return a * np.exp(-(x - x0)**2 / (2 * sigma**2)) + np.min(curr_pvals)\n",
    "    \n",
    "\n",
    "popt,pcov = curve_fit(gauss, fracs, curr_pvals, p0=[1, mean, sigma])\n",
    "\n",
    "plt.plot(fracs, curr_pvals, 'b+:', label='pvals')\n",
    "plt.plot(fracs, gauss(fracs, *popt), 'r-', label='fit')\n",
    "plt.legend()\n",
    "plt.title('Gaussian fit for p<90%')  # repalce title between p<90% and p_nom\n",
    "plt.show()\n",
    "print('mean:', popt[1])\n",
    "print('cov:', popt[2])"
   ]
  },
  {
   "cell_type": "code",
   "execution_count": 604,
   "id": "43a05a66-3cf8-40f5-9d04-c2dcc6a84ace",
   "metadata": {},
   "outputs": [],
   "source": [
    "''' Figure 3 - add mass-weighted and sfr-weighted points to a/b plot '''\n",
    "\n",
    "# Values taken from Table 3 cell\n",
    "mass_weighted_errs_90 = [np.float64(0.07540625), np.float64(0.06790625), np.float64(0.081375), np.float64(0.07643749999999999), np.float64(0.08540625)]\n",
    "mass_weighted_errs_nom = [np.float64(0.0675), np.float64(0.0613125), np.float64(0.07546875), np.float64(0.0710625), np.float64(0.07853125)]\n",
    "sfr_weighted_errs_90 = [np.float64(0.0095), np.float64(0.029437500000000002), np.float64(0.029781250000000002), np.float64(0.037406249999999995), np.float64(0.03215625)]\n",
    "sfr_weighted_errs_nom = [np.float64(0.0073750000000000005), np.float64(0.025718750000000002), np.float64(0.0260625), np.float64(0.03328125), np.float64(0.02875)]\n",
    "\n",
    "# pvals\n",
    "mass_nom = np.average(mass_weighted_errs_nom)\n",
    "mass_90 = np.average(mass_weighted_errs_90)\n",
    "sfr_nom = np.average(sfr_weighted_errs_nom)\n",
    "sfr_90 = np.average(sfr_weighted_errs_90)\n",
    "\n",
    "# error bars\n",
    "mass_yerr_nom = np.transpose([max(mass_weighted_errs_nom)-mass_nom,mass_nom-min(mass_weighted_errs_nom)])\n",
    "mass_yerr_90 = np.transpose([max(mass_weighted_errs_90)-mass_90,mass_90-min(mass_weighted_errs_90)])\n",
    "sfr_yerr_nom = np.transpose([max(sfr_weighted_errs_nom)-sfr_nom,sfr_nom-min(sfr_weighted_errs_nom)])\n",
    "sfr_yerr_90 = np.transpose([max(sfr_weighted_errs_90)-sfr_90,sfr_90-min(sfr_weighted_errs_90)])"
   ]
  },
  {
   "cell_type": "code",
   "execution_count": 712,
   "id": "231cc6da",
   "metadata": {},
   "outputs": [
    {
     "data": {
      "text/plain": [
       "27"
      ]
     },
     "execution_count": 712,
     "metadata": {},
     "output_type": "execute_result"
    }
   ],
   "source": [
    "lowm = frb_hosts[np.log10(frb_hosts['Mstar']) < leja_utils.cosmos15_mass_completeness(frb_hosts['z'])]\n",
    "sum(frb_hosts['z'] < 0.25)"
   ]
  },
  {
   "cell_type": "code",
   "execution_count": 607,
   "id": "45ebaad7-380a-437e-8806-9a232cb93fc8",
   "metadata": {},
   "outputs": [
    {
     "data": {
      "image/png": "[encoded data removed]",
      "text/plain": [
       "<Figure size 640x480 with 3 Axes>"
      ]
     },
     "metadata": {},
     "output_type": "display_data"
    }
   ],
   "source": [
    "''' Figure 3 - with broken axes '''\n",
    "\n",
    "fig = plt.figure()\n",
    "gs = plt.GridSpec(1, 3, width_ratios=[1, 20, 1])\n",
    "\n",
    "minf_ax = fig.add_subplot(gs[0])\n",
    "mid_ax = fig.add_subplot(gs[1], sharey=minf_ax)\n",
    "inf_ax = fig.add_subplot(gs[2], sharey=minf_ax)\n",
    "\n",
    "# plot the same data on both axes\n",
    "mid_ax.errorbar(fracs, pvals_90, yerr_90, fmt='o', ecolor='teal')\n",
    "mid_ax.errorbar(fracs, pvals_nom, yerr_nom, fmt='o', ecolor='orange')\n",
    "\n",
    "# plot sfr weighted\n",
    "minf_ax.errorbar(0, sfr_90, yerr=sfr_yerr_90.reshape((2,1)), fmt='o', ecolor='teal')\n",
    "minf_ax.errorbar(0, sfr_nom, yerr=sfr_yerr_nom.reshape((2,1)), fmt='o', ecolor='orange')\n",
    "minf_ax.set_xticks([0], [r\"-$\\infty$\"], fontsize=16)\n",
    "\n",
    "# plot mass weighted\n",
    "inf_ax.errorbar(0, mass_90, yerr=mass_yerr_90.reshape((2,1)), fmt='o', ecolor='teal')\n",
    "inf_ax.errorbar(0, mass_nom, yerr=mass_yerr_nom.reshape((2,1)), fmt='o', ecolor='orange')\n",
    "inf_ax.set_xticks([0], [r\"$\\infty$\"], fontsize=16)\n",
    "\n",
    "mid_ax.set_xlabel('$log_{10}(A/B~[yr^{-1}])$')\n",
    "minf_ax.set_ylabel('p-value')\n",
    "mid_ax.axhline(0.05, color='grey', linestyle='--')\n",
    "\n",
    "# add mass-weighted and sfr-weighted direction arrows\n",
    "sfr_arrow = mpatches.FancyArrowPatch((-12, 0.2), (-15, 0.2),\n",
    "                                     arrowstyle='->,head_width=.15',\n",
    "                                     mutation_scale=20)\n",
    "mass_arrow = mpatches.FancyArrowPatch((-9, 0.2), (-6, 0.2),\n",
    "                                      arrowstyle='->,head_width=.15',\n",
    "                                      mutation_scale=20)\n",
    "mid_ax.add_patch(mass_arrow)\n",
    "mid_ax.add_patch(sfr_arrow)\n",
    "mid_ax.annotate(\"mass-weighted\", (.5, .5), xycoords=mass_arrow, ha='center', va='bottom')\n",
    "mid_ax.annotate(\"SFR-weighted\", (.5, .5), xycoords=sfr_arrow, ha='center', va='bottom')\n",
    "\n",
    "# cosmetics\n",
    "minf_ax.spines['right'].set_visible(False)  # hide the spines between axes\n",
    "mid_ax.spines['left'].set_visible(False)\n",
    "mid_ax.spines['right'].set_visible(False)\n",
    "inf_ax.spines['left'].set_visible(False)\n",
    "mid_ax.xaxis.tick_bottom()  # show ticks only in bottom\n",
    "mid_ax.yaxis.set_visible(False)  # hide y axes (show only in left ax)\n",
    "#inf_ax.yaxis.set_visible(False)\n",
    "inf_ax.yaxis.tick_right()\n",
    "\n",
    "# Make the spacing between the two axes a bit smaller\n",
    "plt.subplots_adjust(wspace=0.05)\n",
    "\n",
    "# שׁdd slanted lines\n",
    "d = 1  # proportion of vertical to horizontal extent of the slanted line\n",
    "kwargs = dict(marker=[(-1, -d), (1, d)], markersize=12,\n",
    "              linestyle=\"none\", color='k', mec='k', mew=1, clip_on=False)\n",
    "minf_ax.plot([1, 1], [0, 1], transform=minf_ax.transAxes, **kwargs)\n",
    "mid_ax.plot([0, 0, 1, 1], [0, 1, 0, 1], transform=mid_ax.transAxes, **kwargs)\n",
    "inf_ax.plot([0, 0], [0, 1], transform=inf_ax.transAxes, **kwargs)\n",
    "\n",
    "plt.savefig('Figures/Figure3.pdf', bbox_inches='tight', transparent=True)"
   ]
  },
  {
   "cell_type": "markdown",
   "id": "1ff625b7",
   "metadata": {},
   "source": [
    "## Figure 4\n",
    "CDFs by mass and SFR of 4 models:\n",
    "1. mass-weighted\n",
    "2. SFR-weighted\n",
    "3. best-fit-weighted\n",
    "4. Z+sfr"
   ]
  },
  {
   "cell_type": "code",
   "execution_count": null,
   "id": "19712ab8",
   "metadata": {},
   "outputs": [
    {
     "data": {
      "image/png": "[encoded data removed]",
      "text/plain": [
       "<Figure size 2000x600 with 3 Axes>"
      ]
     },
     "metadata": {},
     "output_type": "display_data"
    }
   ],
   "source": [
    "''' CDF of mass-weighted and sfr-weighted masses '''\n",
    "from scipy.stats import kstest\n",
    "from statsmodels.distributions.empirical_distribution import ECDF\n",
    "\n",
    "\n",
    "def add_bootstrap_cdf_uncertainty(ax, frbs_values, n_bootstraps=1000, ci=95):\n",
    "    \"\"\"Add grey-shaded uncertainty region to the FRBs CDF based on bootstrapping.\n",
    "\n",
    "    Parameters\n",
    "    ----------\n",
    "    ax : matplotlib.axes.Axes\n",
    "        The axis on which to plot the CDF and uncertainty region.\n",
    "    frbs_values : array-like\n",
    "        The observed FRB values (e.g., log10 stellar masses or SFRs).\n",
    "    n_bootstraps : int, optional\n",
    "        Number of bootstrapped datasets to generate, by default 1000.\n",
    "    ci : float, optional\n",
    "        Confidence interval percentage, by default 95.\n",
    "    \"\"\"\n",
    "    # Sort the FRB values\n",
    "    frbs_values = np.sort(frbs_values)\n",
    "    n_samples = len(frbs_values)\n",
    "\n",
    "    # Generate bootstrapped datasets\n",
    "    bootstrapped_cdfs = []\n",
    "    for _ in range(n_bootstraps):\n",
    "        # Sample with replacement\n",
    "        bootstrapped_sample = np.random.choice(frbs_values, size=n_samples, replace=True)\n",
    "        # Compute ECDF for the bootstrapped sample\n",
    "        bootstrapped_cdf = ECDF(bootstrapped_sample)\n",
    "        # Evaluate the CDF at the original x values\n",
    "        bootstrapped_cdfs.append(bootstrapped_cdf(frbs_values))\n",
    "\n",
    "    # Convert to numpy array for easier manipulation\n",
    "    bootstrapped_cdfs = np.array(bootstrapped_cdfs)\n",
    "\n",
    "    # Compute the lower and upper bounds of the CI\n",
    "    lower_bound = np.percentile(bootstrapped_cdfs, (100 - ci) / 2, axis=0)\n",
    "    upper_bound = np.percentile(bootstrapped_cdfs, 100 - (100 - ci) / 2, axis=0)\n",
    "\n",
    "    # Plot the shaded region for the CI\n",
    "    ax.fill_between(frbs_values, lower_bound, upper_bound, color='grey', alpha=0.3)\n",
    "\n",
    "\n",
    "def create_cdfs_of_4_models(ax, sub_hosts, z_samples, is_by_mass, title):\n",
    "\n",
    "    # Create logpdfs for 4 models\n",
    "    mass_logpdf = get_wlogpdf_w_opt(z_samples, prob_density, 1, 0)\n",
    "    sfr_logpdf = get_wlogpdf_w_opt(z_samples, prob_density, 0, 1)\n",
    "    z_sfr_logpdf = get_metallicity_logpdf(z_samples, prob_density)\n",
    "    # best_fit_logpdf = get_wlogpdf_w_opt(z_samples, prob_density, 10**-9.62, 1)\n",
    "    best_fit_logpdf = get_wlogpdf_w_opt(z_samples, prob_density, 1 * 10**-10.5, 1)\n",
    "\n",
    "    # Generate samples\n",
    "    model_samples = [mc.get_samples(logpdf) for logpdf in\n",
    "                     [mass_logpdf, sfr_logpdf, z_sfr_logpdf, best_fit_logpdf]]\n",
    "\n",
    "    # Create CDFs\n",
    "    frbs_values = np.log10(sub_hosts['Mstar' if is_by_mass else 'SFR'])\n",
    "    frbs_cdf = ECDF(frbs_values)\n",
    "\n",
    "    samples_index = 0 if is_by_mass else 1\n",
    "    models_cdfs = [ECDF(samples[:, samples_index]) for samples in model_samples]\n",
    "\n",
    "    # Plot FRB hosts CDF\n",
    "    ax.step(frbs_cdf.x, frbs_cdf.y, \n",
    "            label='FRBs', \n",
    "            linewidth=2,\n",
    "            where='post')\n",
    "\n",
    "    # Add bootstrap uncertainty\n",
    "    add_bootstrap_cdf_uncertainty(ax, frbs_values)    \n",
    "    \n",
    "    # Plot models CDFs\n",
    "    pvals = [kstest(frbs_values, cdf)[1] for cdf in models_cdfs]\n",
    "    \n",
    "    colors = ['orange', 'red', 'darkred', 'green']\n",
    "    labels = ['Mass-weighted', 'SFR-weighted', 'Z+SFR-weighted', 'mixed-weighted']\n",
    "    \n",
    "    for i in range(4):\n",
    "        ax.plot(models_cdfs[i].x, models_cdfs[i].y, color=colors[i], label=labels[i])\n",
    "        ax.text(0.02, 0.95 - i * 0.05, \n",
    "                f'p={pvals[i]:.3f}' if pvals[i]>=0.001 else 'p<0.001',\n",
    "                transform=ax.transAxes,  # Use axes coordinates\n",
    "                color=colors[i],\n",
    "                fontsize=14)\n",
    "    \n",
    "    ax.set_title(title, fontsize=16)\n",
    "    xlim = [7, 12] if is_by_mass else [-3, 2]  # TODO: set ticks too?\n",
    "    ax.set_xlim(xlim)\n",
    "    ax.set_xlabel(r'$\\log_{10}$ $M_\\star$ [$M_\\odot$]' if is_by_mass\n",
    "                  else r'$\\log_{10}$ SFR [$M_\\odot yr^{-1}$]',\n",
    "                  fontsize=16)\n",
    "    ax.grid(True, alpha=0.3)\n",
    "    ax.legend(fontsize=14, loc='center left')\n",
    "\n",
    "\n",
    "z1_hosts = frb_hosts[frb_hosts['z']<=0.2].reset_index()\n",
    "z2_hosts = frb_hosts[np.logical_and(frb_hosts['z']>=0.2,\n",
    "                                     frb_hosts['z']<0.4)].reset_index()\n",
    "z3_hosts = frb_hosts[frb_hosts['z']>0.4].reset_index()\n",
    "\n",
    "# Create figure with 3 subplots sharing y-axis\n",
    "fig, (ax1, ax2, ax3) = plt.subplots(1, 3, figsize=(20, 6), sharey=True)\n",
    "\n",
    "# NOTE - add np.median(z_hosts['z']) result to extra_z list\n",
    "is_by_mass = False\n",
    "create_cdfs_of_4_models(ax1, z1_hosts, z_samples=0.25, is_by_mass=is_by_mass, title=r'$z\\leq 0.2$')\n",
    "create_cdfs_of_4_models(ax2, z2_hosts, np.median(z2_hosts['z']), is_by_mass, r'$0.2<z\\leq 0.4$')\n",
    "create_cdfs_of_4_models(ax3, z3_hosts, np.median(z3_hosts['z']), is_by_mass, r'$z>0.4$')\n",
    "\n",
    "# Set common labels\n",
    "ax1.set_ylabel('CDF', fontsize=16)\n",
    "\n",
    "# Adjust layout\n",
    "plt.subplots_adjust(bottom=0.15, wspace=0.05)\n",
    "\n",
    "# Only show legend on last subplot\n",
    "ax1.get_legend().remove()\n",
    "ax2.get_legend().remove()\n",
    "\n",
    "plt.savefig('Figures/Figure4_sfr.pdf', bbox_inches='tight', transparent=True)\n",
    "plt.show()\n"
   ]
  },
  {
   "cell_type": "code",
   "execution_count": 1106,
   "id": "749c0120",
   "metadata": {},
   "outputs": [
    {
     "ename": "IndexError",
     "evalue": "list index out of range",
     "output_type": "error",
     "traceback": [
      "\u001b[0;31m---------------------------------------------------------------------------\u001b[0m",
      "\u001b[0;31mIndexError\u001b[0m                                Traceback (most recent call last)",
      "Cell \u001b[0;32mIn[1106], line 74\u001b[0m\n\u001b[1;32m     72\u001b[0m \u001b[38;5;66;03m# NOTE - add np.median(z_hosts['z']) result to extra_z list\u001b[39;00m\n\u001b[1;32m     73\u001b[0m is_by_mass \u001b[38;5;241m=\u001b[39m \u001b[38;5;28;01mFalse\u001b[39;00m\n\u001b[0;32m---> 74\u001b[0m \u001b[43mcreate_cdfs_of_4_models\u001b[49m\u001b[43m(\u001b[49m\u001b[43max1\u001b[49m\u001b[43m,\u001b[49m\u001b[43m \u001b[49m\u001b[43mz1_hosts\u001b[49m\u001b[43m,\u001b[49m\u001b[43m \u001b[49m\u001b[43mz_samples\u001b[49m\u001b[38;5;241;43m=\u001b[39;49m\u001b[38;5;241;43m0.25\u001b[39;49m\u001b[43m,\u001b[49m\u001b[43m \u001b[49m\u001b[43mis_by_mass\u001b[49m\u001b[38;5;241;43m=\u001b[39;49m\u001b[43mis_by_mass\u001b[49m\u001b[43m,\u001b[49m\u001b[43m \u001b[49m\u001b[43mtitle\u001b[49m\u001b[38;5;241;43m=\u001b[39;49m\u001b[38;5;124;43mr\u001b[39;49m\u001b[38;5;124;43m'\u001b[39;49m\u001b[38;5;124;43m$z\u001b[39;49m\u001b[38;5;124;43m\\\u001b[39;49m\u001b[38;5;124;43mleq 0.2$\u001b[39;49m\u001b[38;5;124;43m'\u001b[39;49m\u001b[43m)\u001b[49m\n\u001b[1;32m     75\u001b[0m create_cdfs_of_4_models(ax2, z2_hosts, np\u001b[38;5;241m.\u001b[39mmedian(z2_hosts[\u001b[38;5;124m'\u001b[39m\u001b[38;5;124mz\u001b[39m\u001b[38;5;124m'\u001b[39m]), is_by_mass, \u001b[38;5;124mr\u001b[39m\u001b[38;5;124m'\u001b[39m\u001b[38;5;124m$0.2<z\u001b[39m\u001b[38;5;124m\\\u001b[39m\u001b[38;5;124mleq 0.4$\u001b[39m\u001b[38;5;124m'\u001b[39m)\n\u001b[1;32m     76\u001b[0m create_cdfs_of_4_models(ax3, z3_hosts, np\u001b[38;5;241m.\u001b[39mmedian(z3_hosts[\u001b[38;5;124m'\u001b[39m\u001b[38;5;124mz\u001b[39m\u001b[38;5;124m'\u001b[39m]), is_by_mass, \u001b[38;5;124mr\u001b[39m\u001b[38;5;124m'\u001b[39m\u001b[38;5;124m$z>0.4$\u001b[39m\u001b[38;5;124m'\u001b[39m)\n",
      "Cell \u001b[0;32mIn[1106], line 47\u001b[0m, in \u001b[0;36mcreate_cdfs_of_4_models\u001b[0;34m(ax, sub_hosts, z_samples, is_by_mass, title)\u001b[0m\n\u001b[1;32m     44\u001b[0m labels \u001b[38;5;241m=\u001b[39m [\u001b[38;5;124m'\u001b[39m\u001b[38;5;124mMass-weighted\u001b[39m\u001b[38;5;124m'\u001b[39m, \u001b[38;5;124m'\u001b[39m\u001b[38;5;124mSFR-weighted\u001b[39m\u001b[38;5;124m'\u001b[39m, \u001b[38;5;124m'\u001b[39m\u001b[38;5;124mZ+SFR-weighted\u001b[39m\u001b[38;5;124m'\u001b[39m, \u001b[38;5;124m'\u001b[39m\u001b[38;5;124mbest-fit-weighted\u001b[39m\u001b[38;5;124m'\u001b[39m]\n\u001b[1;32m     46\u001b[0m \u001b[38;5;28;01mfor\u001b[39;00m i \u001b[38;5;129;01min\u001b[39;00m \u001b[38;5;28mrange\u001b[39m(\u001b[38;5;241m4\u001b[39m):\n\u001b[0;32m---> 47\u001b[0m     ax\u001b[38;5;241m.\u001b[39mplot(\u001b[43mmodels_cdfs\u001b[49m\u001b[43m[\u001b[49m\u001b[43mi\u001b[49m\u001b[43m]\u001b[49m\u001b[38;5;241m.\u001b[39mx, models_cdfs[i]\u001b[38;5;241m.\u001b[39my, color\u001b[38;5;241m=\u001b[39mcolors[i], label\u001b[38;5;241m=\u001b[39mlabels[i])\n\u001b[1;32m     48\u001b[0m     ax\u001b[38;5;241m.\u001b[39mtext(\u001b[38;5;241m0.02\u001b[39m, \u001b[38;5;241m0.95\u001b[39m \u001b[38;5;241m-\u001b[39m i \u001b[38;5;241m*\u001b[39m \u001b[38;5;241m0.05\u001b[39m, \n\u001b[1;32m     49\u001b[0m             \u001b[38;5;124mf\u001b[39m\u001b[38;5;124m'\u001b[39m\u001b[38;5;124mp=\u001b[39m\u001b[38;5;132;01m{\u001b[39;00mpvals[i]\u001b[38;5;132;01m:\u001b[39;00m\u001b[38;5;124m.3f\u001b[39m\u001b[38;5;132;01m}\u001b[39;00m\u001b[38;5;124m'\u001b[39m \u001b[38;5;28;01mif\u001b[39;00m pvals[i]\u001b[38;5;241m>\u001b[39m\u001b[38;5;241m=\u001b[39m\u001b[38;5;241m0.001\u001b[39m \u001b[38;5;28;01melse\u001b[39;00m \u001b[38;5;124m'\u001b[39m\u001b[38;5;124mp<0.001\u001b[39m\u001b[38;5;124m'\u001b[39m,\n\u001b[1;32m     50\u001b[0m             transform\u001b[38;5;241m=\u001b[39max\u001b[38;5;241m.\u001b[39mtransAxes,  \u001b[38;5;66;03m# Use axes coordinates\u001b[39;00m\n\u001b[1;32m     51\u001b[0m             color\u001b[38;5;241m=\u001b[39mcolors[i],\n\u001b[1;32m     52\u001b[0m             fontsize\u001b[38;5;241m=\u001b[39m\u001b[38;5;241m14\u001b[39m)\n\u001b[1;32m     54\u001b[0m ax\u001b[38;5;241m.\u001b[39mset_title(title, fontsize\u001b[38;5;241m=\u001b[39m\u001b[38;5;241m16\u001b[39m)\n",
      "\u001b[0;31mIndexError\u001b[0m: list index out of range"
     ]
    },
    {
     "data": {
      "image/png": "[encoded data removed]",
      "text/plain": [
       "<Figure size 2000x600 with 3 Axes>"
      ]
     },
     "metadata": {},
     "output_type": "display_data"
    }
   ],
   "source": [
    "''' create CDF on best-fit axis '''\n",
    "\n",
    "from scipy.stats import kstest\n",
    "from statsmodels.distributions.empirical_distribution import ECDF\n",
    "\n",
    "\n",
    "def create_cdfs_of_4_models(ax, sub_hosts, z_samples, is_by_mass, title):\n",
    "\n",
    "    # Create logpdfs for 4 models\n",
    "    mass_logpdf = get_wlogpdf_w_opt(z_samples, prob_density, 1, 0)\n",
    "    sfr_logpdf = get_wlogpdf_w_opt(z_samples, prob_density, 0, 1)\n",
    "    z_sfr_logpdf = get_metallicity_logpdf(z_samples, prob_density)\n",
    "    best_fit_logpdf = get_wlogpdf_w_opt(z_samples, prob_density, 10**-9.62, 1)\n",
    "    # best_fit_logpdf = get_wlogpdf_w_opt(z_samples, prob_density, 2 * 10**-11, 1)\n",
    "\n",
    "    # Generate samples\n",
    "    model_samples = [mc.get_samples(logpdf) for logpdf in\n",
    "                     [mass_logpdf, sfr_logpdf, z_sfr_logpdf, best_fit_logpdf]]\n",
    "    \n",
    "    model_samples_best_axis = [10**-9.62 * 10**samples[:,0] + 10**samples[:,1]]\n",
    "\n",
    "    # Get values of FRB hosts with errors\n",
    "    frbs_values = 10**-9.62 * sub_hosts['Mstar'] + sub_hosts['SFR']\n",
    "\n",
    "    # Create CDFs\n",
    "    frbs_cdf = ECDF(frbs_values)\n",
    "\n",
    "    # samples_index = 0 if is_by_mass else 1\n",
    "    # models_cdfs = [ECDF(samples[:, samples_index]) for samples in model_samples]\n",
    "    models_cdfs = [ECDF(samples) for samples in model_samples_best_axis]\n",
    "    \n",
    "\n",
    "    # Plot FRB hosts CDF\n",
    "    ax.step(frbs_cdf.x, frbs_cdf.y, \n",
    "            label='FRBs', \n",
    "            linewidth=2,\n",
    "            where='post')\n",
    "    \n",
    "    \n",
    "    # Plot models CDFs\n",
    "    pvals = [kstest(frbs_values, cdf)[1] for cdf in models_cdfs]\n",
    "    \n",
    "    colors = ['orange', 'red', 'darkred', 'green']\n",
    "    labels = ['Mass-weighted', 'SFR-weighted', 'Z+SFR-weighted', 'best-fit-weighted']\n",
    "    \n",
    "    for i in range(4):\n",
    "        ax.plot(models_cdfs[i].x, models_cdfs[i].y, color=colors[i], label=labels[i])\n",
    "        ax.text(0.02, 0.95 - i * 0.05, \n",
    "                f'p={pvals[i]:.3f}' if pvals[i]>=0.001 else 'p<0.001',\n",
    "                transform=ax.transAxes,  # Use axes coordinates\n",
    "                color=colors[i],\n",
    "                fontsize=14)\n",
    "    \n",
    "    ax.set_title(title, fontsize=16)\n",
    "    xlim = [7, 12] if is_by_mass else [-3, 2]  # TODO: set ticks too?\n",
    "    ax.set_xlim(xlim)\n",
    "    ax.set_xlabel(r'$\\log_{10}$ $M_\\star$ [$M_\\odot$]' if is_by_mass\n",
    "                  else r'$\\log_{10}$ SFR [$M_\\odot yr^{-1}$]',\n",
    "                  fontsize=16)\n",
    "    ax.grid(True, alpha=0.3)\n",
    "    ax.legend(fontsize=14, loc='center left')\n",
    "\n",
    "\n",
    "z1_hosts = frb_hosts[frb_hosts['z']<=0.2].reset_index()\n",
    "z2_hosts = frb_hosts[np.logical_and(frb_hosts['z']>=0.2,\n",
    "                                     frb_hosts['z']<0.4)].reset_index()\n",
    "z3_hosts = frb_hosts[frb_hosts['z']>0.4].reset_index()\n",
    "\n",
    "# Create figure with 3 subplots sharing y-axis\n",
    "fig, (ax1, ax2, ax3) = plt.subplots(1, 3, figsize=(20, 6), sharey=True)\n",
    "\n",
    "# NOTE - add np.median(z_hosts['z']) result to extra_z list\n",
    "is_by_mass = False\n",
    "create_cdfs_of_4_models(ax1, z1_hosts, z_samples=0.25, is_by_mass=is_by_mass, title=r'$z\\leq 0.2$')\n",
    "create_cdfs_of_4_models(ax2, z2_hosts, np.median(z2_hosts['z']), is_by_mass, r'$0.2<z\\leq 0.4$')\n",
    "create_cdfs_of_4_models(ax3, z3_hosts, np.median(z3_hosts['z']), is_by_mass, r'$z>0.4$')\n",
    "\n",
    "# Set common labels\n",
    "ax1.set_ylabel('CDF', fontsize=16)\n",
    "\n",
    "# Adjust layout\n",
    "plt.subplots_adjust(bottom=0.15, wspace=0.05)\n",
    "\n",
    "# Only show legend on last subplot\n",
    "ax1.get_legend().remove()\n",
    "ax2.get_legend().remove()\n",
    "\n",
    "# plt.savefig('Figures/Figure4_mass.pdf', bbox_inches='tight', transparent=True)\n",
    "plt.show()\n"
   ]
  },
  {
   "cell_type": "code",
   "execution_count": 1084,
   "id": "208f5f1d",
   "metadata": {},
   "outputs": [
    {
     "data": {
      "text/plain": [
       "[<matplotlib.lines.Line2D at 0x154450ef0>]"
      ]
     },
     "execution_count": 1084,
     "metadata": {},
     "output_type": "execute_result"
    },
    {
     "data": {
      "image/png": "[encoded data removed]",
      "text/plain": [
       "<Figure size 640x480 with 1 Axes>"
      ]
     },
     "metadata": {},
     "output_type": "display_data"
    }
   ],
   "source": [
    "sub_hosts = frb_hosts[frb_hosts['z']<=0.2].reset_index()\n",
    "frbs_values = np.log10(sub_hosts['Mstar'])\n",
    "frbs_lower = np.log10(sub_hosts['Mstar'] - 10**sub_hosts['Mstar_lowerr'])\n",
    "frbs_upper = np.log10(sub_hosts['Mstar'] + 10**sub_hosts['Mstar_uperr'])\n",
    "frbs_cdf = ECDF(frbs_values)\n",
    "frbs_lower_cdf = ECDF(frbs_lower)\n",
    "frbs_upper_cdf = ECDF(frbs_upper)\n",
    "fig, ax = plt.subplots()\n",
    "# Plot host galaxies error region first\n",
    "# ax.fill_between(frbs_cdf.x, \n",
    "#                 frbs_lower_cdf(frbs_cdf.x),\n",
    "#                 frbs_upper_cdf(frbs_cdf.x),\n",
    "#                 color='grey', \n",
    "#                 alpha=0.3,\n",
    "#                 step='post')  # Makes fill_between follow step pattern\n",
    "\n",
    "# Plot FRB hosts CDF\n",
    "ax.step(frbs_cdf.x, frbs_cdf.y, \n",
    "        label='FRBs', \n",
    "        linewidth=2,\n",
    "        where='post')\n",
    "\n",
    "ax.step(frbs_lower_cdf.x, frbs_lower_cdf.y, \n",
    "        label='FRBs', \n",
    "        linewidth=2,\n",
    "        where='post',\n",
    "        color='yellow')\n",
    "\n",
    "ax.step(frbs_upper_cdf.x, frbs_upper_cdf.y, \n",
    "        label='FRBs', \n",
    "        linewidth=2,\n",
    "        where='post',\n",
    "        color='blue')\n"
   ]
  },
  {
   "cell_type": "code",
   "execution_count": 1083,
   "id": "6932db4d",
   "metadata": {},
   "outputs": [
    {
     "data": {
      "text/plain": [
       "0     5.235741e-10\n",
       "1     4.624816e-10\n",
       "2     4.448566e-10\n",
       "3     4.286278e-10\n",
       "4     3.007301e-10\n",
       "5     2.962697e-10\n",
       "6     3.024496e-10\n",
       "7     1.282299e-10\n",
       "8     1.182432e-10\n",
       "9     1.048708e-10\n",
       "10    9.786483e-11\n",
       "11    6.872547e-11\n",
       "12    5.268497e-11\n",
       "13    4.831868e-11\n",
       "14    4.722978e-11\n",
       "15    4.542322e-11\n",
       "16    3.465495e-11\n",
       "17    2.394884e-11\n",
       "18    1.737632e-11\n",
       "19    9.316992e-12\n",
       "dtype: float64"
      ]
     },
     "execution_count": 1083,
     "metadata": {},
     "output_type": "execute_result"
    }
   ],
   "source": [
    "frbs_lower_cdf.y - frbs_upper_cdf.y\n",
    "frbs_upper - frbs_lower\n",
    "# np.log10(sub_hosts['Mstar']+10**sub_hosts['Mstar_uperr'])-np.log10(sub_hosts['Mstar']-10**sub_hosts['Mstar_lowerr'])"
   ]
  },
  {
   "cell_type": "code",
   "execution_count": 1114,
   "id": "be94ff06",
   "metadata": {},
   "outputs": [
    {
     "data": {
      "text/plain": [
       "<matplotlib.legend.Legend at 0x154153620>"
      ]
     },
     "execution_count": 1114,
     "metadata": {},
     "output_type": "execute_result"
    },
    {
     "data": {
      "image/png": "[encoded data removed]",
      "text/plain": [
       "<Figure size 640x480 with 1 Axes>"
      ]
     },
     "metadata": {},
     "output_type": "display_data"
    }
   ],
   "source": [
    "''' CCSN SFR CDF with SFR-weighted model '''\n",
    "\n",
    "bochenek_cdf_data = pd.read_csv('CCSN_SFR_CDF_Bochenek21.csv', header=None)\n",
    "\n",
    "# FRB z<0.2 CDF\n",
    "z1_hosts = frb_hosts[frb_hosts['z']<=0.2].reset_index()\n",
    "frbs_sfr = np.log10(sub_hosts['SFR'])\n",
    "frbs_cdf = ECDF(frbs_sfr)\n",
    "sfr_logpdf = get_wlogpdf_w_opt(0.25, prob_density, 0, 1)\n",
    "sfr_weighted_samples = mc.get_samples(sfr_logpdf)\n",
    "sfr_cdf = ECDF(sfr_weighted_samples[:,1])\n",
    "\n",
    "# kstest(frbs_values, cdf)[1]\n",
    "\n",
    "plt.step(frbs_cdf.x, frbs_cdf.y, color='violet', label='FRBs, z<0.2')\n",
    "plt.plot(sfr_cdf.x, sfr_cdf.y, color='steelblue', label='SFR-weighted samples z=0.25')\n",
    "plt.step(bochenek_cdf_data[0], bochenek_cdf_data[1], color='purple', label='CCSNe, z=0')\n",
    "plt.xlim([-3, 2])\n",
    "plt.legend()"
   ]
  },
  {
   "cell_type": "code",
   "execution_count": 1129,
   "id": "74db743a",
   "metadata": {},
   "outputs": [
    {
     "data": {
      "text/plain": [
       "np.float64(0.0)"
      ]
     },
     "execution_count": 1129,
     "metadata": {},
     "output_type": "execute_result"
    }
   ],
   "source": [
    "from scipy.interpolate import interp1d\n",
    "\n",
    "def bochenek_cdf(sfr):\n",
    "    \"\"\"Interpolate CDF value from Bochenek et al. 2021 data.\n",
    "    \n",
    "    Parameters\n",
    "    ----------\n",
    "    sfr : float or array-like\n",
    "        SFR value(s) to interpolate\n",
    "        \n",
    "    Returns\n",
    "    -------\n",
    "    float or array-like\n",
    "        Interpolated CDF value(s)\n",
    "    \"\"\"\n",
    "    # Create interpolator - use 'bounds_error=False' to handle out-of-bounds\n",
    "    interpolator = interp1d(\n",
    "        bochenek_cdf_data[0],\n",
    "        bochenek_cdf_data[1],\n",
    "        kind='linear',\n",
    "        bounds_error=False,\n",
    "        fill_value=(0, 1)  # Values outside range get CDF of 0 or 1\n",
    "    )\n",
    "    \n",
    "    return interpolator(sfr)\n",
    "\n",
    "kstest(sfr_weighted_samples[:,1], bochenek_cdf)[1]"
   ]
  },
  {
   "cell_type": "code",
   "execution_count": null,
   "id": "d51b9678",
   "metadata": {},
   "outputs": [],
   "source": [
    "# 1 .best-fit -> mixed model V\n",
    "# 2. add bootsrap V\n",
    "# 3. change y-label to Figure 2 to CDf as well V\n",
    "# plot CCSNe for Nick  V\n",
    "# 5. CDF on best-fit axis\n"
   ]
  }
 ],
 "metadata": {
  "kernelspec": {
   "display_name": "Python 3",
   "language": "python",
   "name": "python3"
  },
  "language_info": {
   "codemirror_mode": {
    "name": "ipython",
    "version": 3
   },
   "file_extension": ".py",
   "mimetype": "text/x-python",
   "name": "python",
   "nbconvert_exporter": "python",
   "pygments_lexer": "ipython3",
   "version": "3.12.7"
  },
  "toc-autonumbering": true,
  "toc-showcode": true,
  "toc-showmarkdowntxt": false
 },
 "nbformat": 4,
 "nbformat_minor": 5
}
