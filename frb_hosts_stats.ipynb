{
 "cells": [
  {
   "cell_type": "markdown",
   "id": "08e23fdd",
   "metadata": {},
   "source": [
    "## Application on FRB hosts"
   ]
  },
  {
   "cell_type": "code",
   "execution_count": 438,
   "id": "5fddc904-d245-45bf-9ad9-85df82d235f7",
   "metadata": {},
   "outputs": [],
   "source": [
    "# https://github.com/krittisharma/frb_host_sharma2024/blob/main/read_transients_data.py)\n",
    "import numpy as np\n",
    "import pandas as pd\n",
    "\n",
    "\n",
    "def read_dsa_data(only_gold=True):\n",
    "    \"\"\"\n",
    "    Reads DSA FRBs data published in Sharma+2024, \n",
    "    filters for 'sed_done?' == 'Y' and 'sample' == 'Gold', \n",
    "    and returns the filtered DataFrame.\n",
    "\n",
    "    Parameters:\n",
    "    ----------\n",
    "    only_gold : bool, optional\n",
    "        If True, filters for FRBs labeled as 'Gold' in addition to \n",
    "        'sed_done?' == 'Y' (default is True).\n",
    "\n",
    "    Returns:\n",
    "    -------\n",
    "    dsa_frb s : DataFrame\n",
    "        Filtered DataFrame containing DSA FRBs data.\n",
    "\n",
    "    \"\"\"\n",
    "    # Read CSV file\n",
    "    dsa_frbs = pd.read_csv(\"frbs_data/dsa_frbs.csv\")\n",
    "    \n",
    "    if only_gold:\n",
    "        dsa_frbs = dsa_frbs[np.logical_and(dsa_frbs[\"sed_done?\"] == \"Y\", dsa_frbs[\"sample\"] == \"Gold\")]\n",
    "    else:\n",
    "        dsa_frbs = dsa_frbs[dsa_frbs[\"sed_done?\"] == \"Y\"]\n",
    "    \n",
    "    # Compute logarithmic errors for ssfr\n",
    "    dsa_frbs[\"ssfr_errl\"] = np.log10(dsa_frbs[\"ssfr\"] + dsa_frbs[\"ssfr_errl\"]) - np.log10(dsa_frbs[\"ssfr\"])\n",
    "    dsa_frbs[\"ssfr_erru\"] = np.log10(dsa_frbs[\"ssfr\"] + dsa_frbs[\"ssfr_erru\"]) - np.log10(dsa_frbs[\"ssfr\"])\n",
    "    \n",
    "    # Compute logarithm of ssfr\n",
    "    dsa_frbs[\"ssfr\"] = np.log10(dsa_frbs[\"ssfr\"])\n",
    "    \n",
    "    return dsa_frbs\n",
    "\n",
    "\n",
    "def read_chime_data():\n",
    "    \"\"\"\n",
    "    Reads CHIME FRBs data from Bhardwaj+2023 and returns the DataFrame.\n",
    "\n",
    "    Returns:\n",
    "    -------\n",
    "    chime_frbs : DataFrame\n",
    "        DataFrame containing CHIME FRBs data.\n",
    "    \"\"\"\n",
    "    chime_frbs = pd.read_csv(\"frbs_data/bhardwaj_et_al.csv\")\n",
    "    return chime_frbs\n",
    "\n",
    "\n",
    "def fix_gordon_et_al_data_format(df):\n",
    "    \"\"\"\n",
    "    Fixes the format of Gordon+2023 data by extracting numerical values\n",
    "    from LaTeX-formatted strings and assigning them to appropriate \n",
    "    columns.\n",
    "    \"\"\"\n",
    "    logMstar, logMstar_errl, logMstar_erru = [], [], []\n",
    "    sfr_100Myr, sfr_100Myr_errl, sfr_100Myr_erru = [], [], []\n",
    "    tm, tm_errl, tm_erru = [], [], []\n",
    "    logzsol, logzsol_errl, logzsol_erru = [], [], []\n",
    "    Av, Av_errl, Av_erru = [], [], []\n",
    "    \n",
    "    for i in range(len(df)):\n",
    "        logMstar.append(float(str(df[\"log(M _*/M _sun)\"][i])\n",
    "                              .split(\"$\")[1].split(\"_\")[0].split(\"{\")[1]\n",
    "                              .split(\"}\")[0]))\n",
    "        logMstar_errl.append(float(str(df[\"log(M _*/M _sun)\"][i])\n",
    "                                  .split(\"$\")[1].split(\"_\")[1].split(\"{\")[1]\n",
    "                                  .split(\"}\")[0]))\n",
    "        logMstar_erru.append(float(str(df[\"log(M _*/M _sun)\"][i])\n",
    "                                  .split(\"$\")[1].split(\"_\")[1].split(\"{\")[2]\n",
    "                                  .split(\"}\")[0]))\n",
    "        sfr_100Myr.append(float(str(df[\"SFR_0-100 Myr\"][i])\n",
    "                                .split(\"$\")[1].split(\"_\")[0].split(\"{\")[1]\n",
    "                                .split(\"}\")[0]))\n",
    "        sfr_100Myr_errl.append(float(str(df[\"SFR_0-100 Myr\"][i])\n",
    "                                    .split(\"$\")[1].split(\"_\")[1].split(\"{\")[1]\n",
    "                                    .split(\"}\")[0]))\n",
    "        sfr_100Myr_erru.append(float(str(df[\"SFR_0-100 Myr\"][i])\n",
    "                                    .split(\"$\")[1].split(\"_\")[1].split(\"{\")[2]\n",
    "                                    .split(\"}\")[0]))\n",
    "        tm.append(float(str(df[\"t _m\"][i])\n",
    "                        .split(\"$\")[1].split(\"_\")[0].split(\"{\")[1].split(\"}\")[0]))\n",
    "        tm_errl.append(float(str(df[\"t _m\"][i])\n",
    "                            .split(\"$\")[1].split(\"_\")[1].split(\"{\")[1].split(\"}\")[0]))\n",
    "        tm_erru.append(float(str(df[\"t _m\"][i])\n",
    "                            .split(\"$\")[1].split(\"_\")[1].split(\"{\")[2].split(\"}\")[0])) \n",
    "        logzsol.append(float([df[\"log(Z _*/Z _sun)\"][i][1] if df[\"log(Z _*/Z _sun)\"][i][1]==\"-\" else \"+\"][0]\n",
    "                             +str(df[\"log(Z _*/Z _sun)\"][i])\n",
    "                             .split(\"$\")[1].split(\"_\")[0].split(\"{\")[1].split(\"}\")[0]))\n",
    "        logzsol_errl.append(float(str(df[\"log(Z _*/Z _sun)\"][i])\n",
    "                                 .split(\"$\")[1].split(\"_\")[1].split(\"{\")[1]\n",
    "                                 .split(\"}\")[0]))\n",
    "        logzsol_erru.append(float(str(df[\"log(Z _*/Z _sun)\"][i])\n",
    "                                 .split(\"$\")[1].split(\"_\")[1].split(\"{\")[2]\n",
    "                                 .split(\"}\")[0])) \n",
    "        Av.append(float(str(df[\"A _V,old\"][i])\n",
    "                        .split(\"$\")[1].split(\"_\")[0].split(\"{\")[1].split(\"}\")[0]))\n",
    "        Av_errl.append(float(str(df[\"A _V,old\"][i])\n",
    "                            .split(\"$\")[1].split(\"_\")[1].split(\"{\")[1].split(\"}\")[0]))\n",
    "        Av_erru.append(float(str(df[\"A _V,old\"][i])\n",
    "                            .split(\"$\")[1].split(\"_\")[1].split(\"{\")[2].split(\"}\")[0])) \n",
    "    \n",
    "    df[\"logMstar\"] = logMstar\n",
    "    df[\"logMstar_errl\"] = logMstar_errl\n",
    "    df[\"logMstar_erru\"] = logMstar_erru\n",
    "    df[\"sfr_100Myr\"] = sfr_100Myr\n",
    "    df[\"sfr_100Myr_errl\"] = sfr_100Myr_errl\n",
    "    df[\"sfr_100Myr_erru\"] = sfr_100Myr_erru\n",
    "    df[\"t_m\"] = tm\n",
    "    df[\"t_m_errl\"] = tm_errl\n",
    "    df[\"t_m_erru\"] = tm_erru\n",
    "    df[\"Av_old\"] = Av\n",
    "    df[\"Av_old_errl\"] = Av_errl\n",
    "    df[\"Av_old_erru\"] = Av_erru\n",
    "    df[\"logzsol\"] = logzsol\n",
    "    df[\"logzsol_errl\"] = logzsol_errl\n",
    "    df[\"logzsol_erru\"] = logzsol_erru\n",
    "    df[\"ssfr\"] = np.log10((sfr_100Myr/(10**np.array(logMstar)))*(1e9)) # per Gyr\n",
    "    df[\"ssfr_errl\"] = np.log10(((np.array(sfr_100Myr)+np.array(sfr_100Myr_errl))/(10**(np.array(logMstar)+np.array(logMstar_erru))))*(1e9)) - np.array(df[\"ssfr\"]) # per Gyr\n",
    "    df[\"ssfr_erru\"] = np.log10(((np.array(sfr_100Myr)+np.array(sfr_100Myr_erru))/(10**(np.array(logMstar)+np.array(logMstar_errl))))*(1e9)) - np.array(df[\"ssfr\"]) # per Gyr\n",
    "\n",
    "    return df\n",
    "\n",
    "\n",
    "\n",
    "def read_askap_frbs():\n",
    "    \"\"\"\n",
    "    Read and return Gordon+2023 FRB host galaxies data.\n",
    "\n",
    "    Returns:\n",
    "    -------\n",
    "    askap_frbs : DataFrame\n",
    "        A pandas DataFrame containing the ASKAP FRBs data with additional \n",
    "        rmag and rmag_err columns, excluding FRB 20121102A.\n",
    "    \"\"\"\n",
    "    # Read the ASKAP FRBs data from a text file\n",
    "    askap_frbs = pd.read_csv(\"frbs_data/gordon_et_al.txt\", sep=\"\\t\")\n",
    "    \n",
    "    # Fix the data format using a custom function\n",
    "    askap_frbs = fix_gordon_et_al_data_format(askap_frbs)\n",
    "\n",
    "    # List of r-band magnitudes\n",
    "    rmags = [23.73, 21.21, 16.17, 20.33, 21.68, 21.87, 22.16, \n",
    "             17.41, 22.15, 23.54, 20.34, 18.36, 21.05, 19.95, \n",
    "             17.86, 22.97, 19.47, 20.65, 17.17, 14.96, 19.64, \n",
    "             16.44, 21.19]\n",
    "    \n",
    "    # List of r-band magnitude errors\n",
    "    rmag_errs = [0.14, 0.06, 0.03, 0.01, 0.05, 0.10, 0.06, \n",
    "                 0.002, 0.15, 0.15, 0.03, 0.003, 0.02, 0.01,\n",
    "                 0.03, 0.04, 0.02, 0.03, 0.01, 0.01, 0.03, \n",
    "                 0.01, 0.08]\n",
    "    \n",
    "    # Add the rmag and rmag_err columns to the DataFrame\n",
    "    askap_frbs[\"rmag\"] = rmags\n",
    "    askap_frbs[\"rmag_err\"] = rmag_errs\n",
    "\n",
    "    # Exclude FRB 20121102A and reset the index\n",
    "    askap_frbs = askap_frbs[askap_frbs[\"FRB\"] != \"20121102A\"].reset_index()\n",
    "\n",
    "    return askap_frbs"
   ]
  },
  {
   "cell_type": "code",
   "execution_count": 439,
   "id": "3345cd31",
   "metadata": {},
   "outputs": [],
   "source": [
    "import numpy as np\n",
    "import matplotlib.pylab as plt\n",
    "\n",
    "import logpdfs\n",
    "import emcee_utils as mc\n",
    "from gc_utils import get_gc_weighted_logpdf"
   ]
  },
  {
   "cell_type": "code",
   "execution_count": 682,
   "id": "1dd4102d-5355-408c-8715-3ba8752ddd66",
   "metadata": {
    "scrolled": true
   },
   "outputs": [],
   "source": [
    "''' load FRB hosts data from Sharma et al. 2024 '''\n",
    "\n",
    "dsa_frbs = read_dsa_data()\n",
    "askap_frbs = read_askap_frbs()\n",
    "chime_frbs = read_chime_data()\n",
    "\n",
    "dsa_frbs = dsa_frbs.rename(columns={'FRB_TNS_name': 'FRB', 'redshift': 'z'})\n",
    "dsa_frbs['FRB'] = [x.strip('FRB ') for x in dsa_frbs['FRB']]\n",
    "\n",
    "cols = ['FRB', 'z', 'logMstar', 'logMstar_erru', 'logMstar_errl', 'sfr_100Myr', 'sfr_100Myr_errl', 'sfr_100Myr_erru']\n",
    "chime_cols = cols[1:]\n",
    "\n",
    "frb_hosts = pd.concat([dsa_frbs[cols], askap_frbs[cols], chime_frbs[chime_cols]],\n",
    "                      ignore_index=True)\n",
    "frb_hosts = frb_hosts.rename(columns={\n",
    "    'logMstar': 'Mstar',\n",
    "    'logMstar_errl': 'Mstar_lowerr',\n",
    "    'logMstar_erru': 'Mstar_uperr',\n",
    "    'sfr_100Myr': 'SFR',\n",
    "    'sfr_100Myr_erru': 'SFR_uperr',\n",
    "    'sfr_100Myr_errl': 'SFR_lowerr',\n",
    "})\n",
    "\n",
    "frb_hosts['Mstar'] = 10 ** frb_hosts['Mstar']  # Mstar in M/M_\\odot\n",
    "frb_hosts['Mstar_lowerr'] *= -1  # lower errors should be negative\n",
    "frb_hosts['SFR_lowerr'] *= -1\n",
    "\n",
    "frb_hosts = frb_hosts[frb_hosts['z'] <= 0.7]  # constrain to lower z (exclude FRB20221029A)\n",
    "frb_hosts = frb_hosts.reset_index()"
   ]
  },
  {
   "cell_type": "code",
   "execution_count": 441,
   "id": "05f53db7-5715-4e1b-bfce-5ea71bfd762b",
   "metadata": {
    "tags": []
   },
   "outputs": [
    {
     "name": "stderr",
     "output_type": "stream",
     "text": [
      "/Users/asaf/Library/CloudStorage/OneDrive-weizmann.ac.il/Desktop/FRB/host-galaxies-stats/sample_nf_probability_density.py:132: FutureWarning: You are using `torch.load` with `weights_only=False` (the current default value), which uses the default pickle module implicitly. It is possible to construct malicious pickle data which will execute arbitrary code during unpickling (See https://github.com/pytorch/pytorch/blob/main/SECURITY.md#untrusted-models for more details). In a future release, the default value for `weights_only` will be flipped to `True`. This limits the functions that could be executed during unpickling. Arbitrary objects will no longer be allowed to be loaded via this mode unless they are explicitly allowlisted by the user via `torch.serialization.add_safe_globals`. We recommend you start setting `weights_only=True` for any use case where you don't have full control of the loaded file. Please open an issue on GitHub for any issues related to this experimental feature.\n",
      "  state_dict = torch.load(loc)\n"
     ]
    }
   ],
   "source": [
    "import sample_nf_probability_density as leja_utils\n",
    "flow = leja_utils.load_nf()\n",
    "prob_density = leja_utils.sample_density(flow,redshift_smoothing=True)\n",
    "\n",
    "# import some useful variables from leja_utils to be used as global variables\n",
    "for attr in ['mgrid', 'sfrgrid', 'mmin', 'mmax']:\n",
    "    globals()[attr] = getattr(leja_utils, attr)"
   ]
  },
  {
   "cell_type": "code",
   "execution_count": null,
   "id": "2190f057-e246-43f0-aeba-9d9ac5210a27",
   "metadata": {
    "tags": []
   },
   "outputs": [
    {
     "name": "stderr",
     "output_type": "stream",
     "text": [
      "/var/folders/9v/9mgg2nhs31x_zn1r4181_xym0000gn/T/ipykernel_56568/2007912601.py:44: RuntimeWarning: overflow encountered in exp\n",
      "  return 1 / (1 + np.exp(-beta*(x-mean)))\n",
      "/var/folders/9v/9mgg2nhs31x_zn1r4181_xym0000gn/T/ipykernel_56568/2007912601.py:85: RuntimeWarning: divide by zero encountered in log\n",
      "  metallicity_sigmoid = np.log(sigmoid(mgrid, M_C_SHARMA, BETA_SHARMA))\n"
     ]
    }
   ],
   "source": [
    "''' Logic for optical selection and metallicity dependence, based on Sharma et al. 2024'''\n",
    "import astropy.units as u\n",
    "from scipy.special import erf\n",
    "from astropy.cosmology import Planck18 as cosmo\n",
    "\n",
    "\n",
    "# Optical bias constants\n",
    "AB_ZERO_POINT = 3631  # Jansky, for AB magnitude\n",
    "JY_TO_CGI = 1e-23  # Jy to erg/s/cm^2\n",
    "f_r = 3e10*1400e-8/(6215e-8**2)  # f_nu = c * f_lam / lam**2 for r-band\n",
    "F_r = 10**(23.5 / -2.5) * AB_ZERO_POINT * JY_TO_CGI * f_r  # flux in erg/s/cm^2 for M=23.5\n",
    "SOLAR_L = 4e33  # erg/s\n",
    "\n",
    "# Metalicity dependence\n",
    "# https://github.com/krittisharma/frb_host_sharma2024/blob/main/frbs_are_biased_SF_tracer.ipynb\n",
    "M_C_SHARMA = 8.979591836734693\n",
    "BETA_SHARMA = 37275.93720314938\n",
    "\n",
    "\n",
    "def _get_sigma_for_z(z):\n",
    "    ''' returns σ for the log(M/L) ∼ N (0, σ) , using Sharma et al. methods'''\n",
    "    if z<=0.2:\n",
    "        return 0.2\n",
    "    if z<=0.4:\n",
    "        return 0.26\n",
    "    if z<=0.7:\n",
    "        return 0.3\n",
    "    raise ValueError(\"z>0.7 is not supported for optical bias selection\")\n",
    "\n",
    "\n",
    "def sigmoid(x, mean, beta=1):\n",
    "    \"\"\"\n",
    "    Taken from Sharma et al. 2024\n",
    "    Compute the sigmoid function.\n",
    "\n",
    "    Parameters:\n",
    "    - x: Input array\n",
    "    - mean: Mean or midpoint of the sigmoid\n",
    "    - beta: Slope parameter (default is 1)\n",
    "\n",
    "    Returns:\n",
    "    - Array of sigmoid values evaluated at x\n",
    "    \"\"\"\n",
    "    return 1 / (1 + np.exp(-beta*(x-mean)))\n",
    "\n",
    "\n",
    "def lnprior_optical_selection_bias(theta):\n",
    "        mass, _ = theta\n",
    "        midx = np.abs(mgrid-mass).argmin()\n",
    "        return selection_factor[midx]\n",
    "\n",
    "\n",
    "def lnprior_optical_bias(logpdf, selection_factor, metallicity_fix=False):\n",
    "    \"\"\"\n",
    "    lnprior that incorporates optical selection bias - any galaxy with\n",
    "    r-band > 23.5 magnitude is dropped (lnprior returns -np.inf)\n",
    "\n",
    "    Parameters:\n",
    "    - logpdf: Function to compute the log probability density function\n",
    "    - selection_factor: Array with length mgrid\n",
    "    - metallicity_fix: Boolean flag to apply metallicity correction\n",
    "\n",
    "    Returns:\n",
    "    - Function that computes the log prior with optical selection bias\n",
    "    \"\"\"\n",
    "\n",
    "    def logpdf_with_selection(theta):\n",
    "        mass, _ = theta\n",
    "        p = logpdf(theta)\n",
    "        if np.isinf(p):\n",
    "            return p\n",
    "        midx = np.abs(mgrid-mass).argmin()\n",
    "\n",
    "        if metallicity_fix:\n",
    "            p += metallicity_sigmoid[midx]\n",
    "        return p + selection_factor[midx]  # addition because selection_factor is in log\n",
    "\n",
    "    return logpdf_with_selection\n",
    "\n",
    "\n",
    "# Compute selection factors for all hosts redshift\n",
    "# computed in advance for all z, instead of during each call to lnprior_optical_bias\n",
    "z_to_selection_factor = {}\n",
    "mgrid = leja_utils.mgrid\n",
    "metallicity_sigmoid = np.log(sigmoid(mgrid, M_C_SHARMA, BETA_SHARMA))\n",
    "\n",
    "extra_z = [0.3, ]  # z values not within frb_hosts, to plot for examples\n",
    "for z in frb_hosts['z'].tolist() + extra_z:\n",
    "    sigma = _get_sigma_for_z(z)\n",
    "    lum_distance = cosmo.luminosity_distance(z).to(u.cm).value  # cm\n",
    "    x = mgrid - np.log10(4 *np.pi * lum_distance ** 2 * F_r / SOLAR_L)\n",
    "\n",
    "    selection_factor = 0.5 * (1+erf(x/np.sqrt(2)/sigma))\n",
    "    z_to_selection_factor[z] = np.log(selection_factor)\n"
   ]
  },
  {
   "cell_type": "code",
   "execution_count": 683,
   "id": "c82aa99c",
   "metadata": {},
   "outputs": [],
   "source": [
    "#######################################################\n",
    "## Add relevant functions to include optical lnprior ##\n",
    "#######################################################\n",
    "\n",
    "def get_wlogpdf_w_opt(z, prob_density, a, b):\n",
    "    \"\"\"\n",
    "    Get a weighted logpdf function with optical bias lnprior\n",
    "\n",
    "    Parameters:\n",
    "    - z: Redshift\n",
    "    - prob_density: used for logpdfs.get_logpdf, see doc\n",
    "    - a, b: coefficients for mass, sfr respectively\n",
    "\n",
    "    Returns:\n",
    "    - weighted logpdf function with optical bias lnprior\n",
    "    \"\"\"\n",
    "    logpdf = logpdfs.get_logpdf(z, prob_density,\n",
    "                                continuity=True)  # change to False for conservative set\n",
    "    # optical bias has to be added before weighting\n",
    "    logpdf_opt = lnprior_optical_bias(logpdf, z_to_selection_factor[z])\n",
    "    return logpdfs.get_weighted_logpdf(logpdf_opt, a, b)\n",
    "\n",
    "\n",
    "def get_gc_logpdf_w_opt(z, prob_density):\n",
    "    \"\"\"\n",
    "    Get a Globular Cluster-weighted logpdf function with optical bias lnprior\n",
    "\n",
    "    Parameters:\n",
    "    - z: Redshift\n",
    "    - prob_density: used for logpdfs.get_logpdf, see doc\n",
    "\n",
    "    Returns:\n",
    "    - gc-weighted logpdf function with optical bias lnprior\n",
    "    \"\"\"\n",
    "    logpdf = logpdfs.get_logpdf(z, prob_density,\n",
    "                                continuity=True)  # change to False for conservative set\n",
    "    # optical bias has to be added before weighting\n",
    "    logpdf_opt = lnprior_optical_bias(logpdf, z_to_selection_factor[z])\n",
    "    return get_gc_weighted_logpdf(logpdf_opt)\n",
    "\n",
    "\n",
    "def create_z_to_logpdf_w_opt(host_galaxies, prob_density, a, b):\n",
    "    ''' create map of redshift to weighted logpdf function with optical lnprior\n",
    "    :a: coefficient for mass\n",
    "    :b: coefficient for sfr\n",
    "    '''\n",
    "    z_to_logpdf = {z: \n",
    "                   get_wlogpdf_w_opt(z, prob_density, a, b)\n",
    "                   for z in host_galaxies['z']} \n",
    "    return z_to_logpdf\n",
    "\n",
    "\n",
    "def create_z_to_logpdf_metallicty(host_galaxies, prob_density):\n",
    "    ''' create map of redshift to metallicity-weighted logpdf function \n",
    "    with optical lnprior\n",
    "    '''\n",
    "    z_to_logpdf = {z: \n",
    "                   lnprior_optical_bias(logpdfs.get_logpdf(z, prob_density),\n",
    "                                        z_to_selection_factor[z],\n",
    "                                        metallicity_fix=True)\n",
    "                   for z in host_galaxies['z']} \n",
    "    return z_to_logpdf"
   ]
  },
  {
   "cell_type": "code",
   "execution_count": 656,
   "id": "dee6f115-21b2-4025-a9e0-17d7e9b41a59",
   "metadata": {
    "scrolled": true,
    "tags": []
   },
   "outputs": [
    {
     "data": {
      "image/png": "[encoded data removed]",
      "text/plain": [
       "<Figure size 640x480 with 1 Axes>"
      ]
     },
     "metadata": {},
     "output_type": "display_data"
    }
   ],
   "source": [
    "\"\"\"\n",
    "Example:\n",
    "Generate samples with continuity model and optical selection bias,\n",
    "plot results with FRB host galaxies\n",
    "Note: the background density represents a single redshift, whereas each host-\n",
    "      galaxy has different z, and plotted here just for a crude comparison.\n",
    "\"\"\"\n",
    "\n",
    "z = 0.3  # np.median(frb_hosts['z'])  # 0.2417\n",
    "\n",
    "# Create logpdf\n",
    "logpdf = logpdfs.get_logpdf(z, prob_density)\n",
    "# logpdf = logpdfs.get_weighted_logpdf(logpdf, 1, 0)  # mass-weighted, no optical lnprior\n",
    "# logpdf = get_wlogpdf_w_opt(z, prob_density, 1, 0)  # mass-weighted with optical lnprior\n",
    "# logpdf = get_wlogpdf_w_opt(z, prob_density, 0, 1)  # sfr-weighted with optical lnprior\n",
    "# logpdf = get_gc_logpdf_w_opt(z, prob_density)  # gc-weighted with optical lnprior\n",
    "logpdf = lnprior_optical_bias(logpdf, z_to_selection_factor[z],\n",
    "                              metallicity_fix=True)  # metallicity-weighted\n",
    "\n",
    "# Generate samples\n",
    "logpdf_samples = mc.get_samples(logpdf, steps=1000)\n",
    "\n",
    "# Plot samples\n",
    "ax,_, _ = mc.plot_from_samples(logpdf_samples)\n",
    "\n",
    "# Further customization\n",
    "ax.plot(np.log10(frb_hosts['Mstar']), np.log10(frb_hosts['SFR']),\n",
    "        '*', color='red', markersize=5, label=\"FRB host galaxies\")\n",
    "ax.set_xlim([7, 12])\n",
    "ax.set_ylim([-6,2])\n",
    "ax.set_xlabel(r\"$\\log_{10}$\" + \" Stellar Mass \" + r\"$\\left[M_\\odot\\right]$\", fontsize=16)\n",
    "ax.set_ylabel(r\"$\\log_{10}$\" + \" SFR \" + r\"$\\left[M_\\odot yr^{-1}\\right]$\", fontsize=16)\n",
    "ax.set_title(f\"Samples at z={z}\")\n",
    "ax.legend()\n",
    "plt.show()"
   ]
  },
  {
   "cell_type": "code",
   "execution_count": 446,
   "id": "24d5c69f-7ad7-4fec-9acd-78cbc555b9ba",
   "metadata": {},
   "outputs": [
    {
     "name": "stderr",
     "output_type": "stream",
     "text": [
      "Generating samples for each redshift: 100%|██████████| 51/51 [00:19<00:00,  2.64hosts/s]\n",
      "Calculating likelihoods based on halfnorms values: 100%|██████████| 10000/10000 [00:05<00:00, 1911.08it/s]"
     ]
    },
    {
     "name": "stdout",
     "output_type": "stream",
     "text": [
      "0.10678125 0.096\n"
     ]
    },
    {
     "name": "stderr",
     "output_type": "stream",
     "text": [
      "\n"
     ]
    }
   ],
   "source": [
    "# Example: calculate p90, pnom\n",
    "frb_values = np.vstack([np.log10(frb_hosts['Mstar']) ,np.log10(frb_hosts['SFR']), frb_hosts['z']])\n",
    "z_to_logpdf = logpdfs.create_z_to_logpdf(frb_hosts, prob_density, 1, 0)  # mass-weighted\n",
    "frbs_likelihood = mc.calc_weighted_likelihood(z_to_logpdf, frb_values.T)\n",
    "p90, pnom, _, _ = mc.calc_p90(frb_hosts, z_to_logpdf, frbs_likelihood)\n",
    "print(p90, pnom)"
   ]
  },
  {
   "cell_type": "code",
   "execution_count": 685,
   "id": "cafc443c",
   "metadata": {},
   "outputs": [
    {
     "data": {
      "image/png": "[encoded data removed]",
      "text/plain": [
       "<Figure size 640x480 with 1 Axes>"
      ]
     },
     "metadata": {},
     "output_type": "display_data"
    }
   ],
   "source": [
    "''' Figure 1 '''\n",
    "from scipy.interpolate import interp1d\n",
    "\n",
    "z = 0.3  # np.median(frb_hosts['z'])  # 0.2417\n",
    "\n",
    "# Create logpdf\n",
    "# logpdf = get_wlogpdf_w_opt(z, prob_density, 1, 0)  # mass-weighted\n",
    "# logpdf = get_wlogpdf_w_opt(z, prob_density, 0, 1)  # sfr-weighted\n",
    "logpdf = get_wlogpdf_w_opt(z, prob_density, 1, 10**9.62)  # a/b peak\n",
    "# logpdf = get_gc_logpdf_w_opt(z, prob_density)  # gc-weighted\n",
    "\n",
    "# Generate samples\n",
    "samples = mc.get_samples(logpdf)\n",
    "ax, Z, extent = mc.plot_from_samples(samples)\n",
    "\n",
    "# Add probability contours\n",
    "steps = 1000\n",
    "Z = Z/Z.sum()\n",
    "p = np.linspace(0, Z.max(), steps)\n",
    "integral_gt_p = ((Z >= p[:,None,None])*Z).sum(axis=(1,2))\n",
    "f = interp1d(integral_gt_p, p)\n",
    "p_countours = f(np.array([0.75, 0.5, 0.25, 0.1]))\n",
    "cont = ax.contour(Z.T, p_countours, cmap=plt.cm.gist_earth_r,\n",
    "                  extent=extent)\n",
    "fmt = {}\n",
    "strs = ['75%,', '50%', '25%', '10%']\n",
    "for l, s in zip(p_countours, strs):\n",
    "    fmt[l] = s\n",
    "ax.clabel(cont, fmt=fmt)\n",
    "\n",
    "# Plot hosts\n",
    "xerr = frb_hosts['Mstar_lowerr'], frb_hosts['Mstar_uperr']  # already in log10\n",
    "sfr_uperr = [np.log10(frb_hosts['SFR'][i] + frb_hosts['SFR_uperr'][i]) - np.log10(frb_hosts['SFR'][i])\n",
    "             for i in frb_hosts.index]\n",
    "sfr_lowerr = [np.log10(frb_hosts['SFR'][i]) - np.log10(frb_hosts['SFR'][i] - frb_hosts['SFR_lowerr'][i])\n",
    "              for i in frb_hosts.index]\n",
    "yerr = sfr_lowerr, sfr_uperr\n",
    "ax.errorbar(np.log10(frb_hosts['Mstar']), np.log10(frb_hosts['SFR']), yerr, xerr, '*r',\n",
    "           ecolor='red', label='FRB host galaxies')\n",
    "\n",
    "ax.set_xlim([mmin, mmax])\n",
    "ax.set_ylim([sfrmin,sfrmax])\n",
    "ax.set_xlabel(r\"$\\log_{10}$\" + \" Stellar Mass \" + r\"$\\left[M_\\odot\\right]$\", fontsize=12)\n",
    "ax.set_ylabel(r\"$\\log_{10}$\" + \" SFR \" + r\"$\\left[M_\\odot yr^{-1}\\right]$\", fontsize=12)\n",
    "ax.legend()\n",
    "plt.savefig('Figures/Figure1_ab_peak.pdf', bbox_inches='tight', transparent=True)"
   ]
  },
  {
   "cell_type": "code",
   "execution_count": 681,
   "id": "2f250ec0-9f1a-4842-89b0-c0a0e917b345",
   "metadata": {},
   "outputs": [
    {
     "name": "stderr",
     "output_type": "stream",
     "text": [
      "Generating samples for each redshift: 100%|██████████| 50/50 [00:18<00:00,  2.75hosts/s]\n",
      "Generating samples for each redshift: 100%|██████████| 50/50 [00:18<00:00,  2.71hosts/s]\n",
      "Generating samples for each redshift: 100%|██████████| 50/50 [00:18<00:00,  2.71hosts/s]\n",
      "Generating samples for each redshift: 100%|██████████| 50/50 [00:18<00:00,  2.72hosts/s]\n",
      "Generating samples for each redshift: 100%|██████████| 50/50 [00:18<00:00,  2.73hosts/s]\n"
     ]
    },
    {
     "name": "stdout",
     "output_type": "stream",
     "text": [
      "p90 average 0.08795 std 0.014087569321036187\n",
      "pnom average 0.08108125 std 0.014141798639140639\n",
      "[np.float64(0.065875), np.float64(0.096125), np.float64(0.10221875), np.float64(0.07693749999999999), np.float64(0.09859375)]\n",
      "[np.float64(0.0600625), np.float64(0.08940624999999999), np.float64(0.09575), np.float64(0.0684375), np.float64(0.09175)]\n"
     ]
    }
   ],
   "source": [
    "''' Table 3 '''\n",
    "\n",
    "# Create logpdf\n",
    "# z_to_logpdf = create_z_to_logpdf_w_opt(frb_hosts, prob_density, 1, 0)  # mass-weighted with optical lnprior\n",
    "# z_to_logpdf = create_z_to_logpdf_w_opt(frb_hosts, prob_density, 0, 1)  # sfr-weighted with optical lnprior\n",
    "# z_to_logpdf = {z: get_gc_logpdf_w_opt(z, prob_density)\n",
    "#                for z in frb_hosts['z']}  # gc-weighted with optical lnprior\n",
    "\n",
    "frb_hosts = frb_hosts[frb_hosts['Mstar'] > 10**M_C_SHARMA].reset_index()  # remove lower-masses (20210117A)\n",
    "z_to_logpdf = create_z_to_logpdf_metallicty(frb_hosts, prob_density)  # metallicity-weighted\n",
    "\n",
    "# Calculate p90 and pnom 3 times\n",
    "frb_values = np.vstack([np.log10(frb_hosts['Mstar']),\n",
    "                        np.log10(frb_hosts['SFR']),\n",
    "                        frb_hosts['z']])\n",
    "frbs_nominal_likelihood = mc.calc_weighted_likelihood(z_to_logpdf, frb_values.T)\n",
    "p90_vals = []\n",
    "p_nom_vals = []\n",
    "for _ in range(5):\n",
    "    \n",
    "    p_90, p_nom, _, _ = mc.calc_p90(frb_hosts, z_to_logpdf, frbs_nominal_likelihood)\n",
    "    p90_vals.append(p_90)\n",
    "    p_nom_vals.append(p_nom)\n",
    "\n",
    "print(\"p90 average\", np.average(p90_vals), \"std\", np.std(p90_vals))\n",
    "print(\"pnom average\", np.average(p_nom_vals), \"std\", np.std(p_nom_vals))\n",
    "\n",
    "# Print to use later for Figure 3 infinity-points (mass-weighted, sfr-weighted)\n",
    "print(p90_vals)\n",
    "print(p_nom_vals)"
   ]
  },
  {
   "cell_type": "code",
   "execution_count": 676,
   "id": "36602924",
   "metadata": {},
   "outputs": [
    {
     "name": "stderr",
     "output_type": "stream",
     "text": [
      "Generating samples for each redshift: 100%|██████████| 29/29 [00:11<00:00,  2.62hosts/s]\n",
      "Generating samples for each redshift: 100%|██████████| 29/29 [00:11<00:00,  2.57hosts/s]\n",
      "Generating samples for each redshift: 100%|██████████| 29/29 [00:11<00:00,  2.57hosts/s]\n",
      "Generating samples for each redshift: 100%|██████████| 29/29 [00:11<00:00,  2.53hosts/s]\n",
      "Generating samples for each redshift: 100%|██████████| 29/29 [00:11<00:00,  2.59hosts/s]\n"
     ]
    },
    {
     "name": "stdout",
     "output_type": "stream",
     "text": [
      "p90 average 0.07157499999999999 std 0.014158858755210463\n",
      "pnom average 0.05999375 std 0.01249095610331731\n",
      "[np.float64(0.081), np.float64(0.09240625), np.float64(0.07215624999999999), np.float64(0.05753125), np.float64(0.05478125)]\n",
      "[np.float64(0.0683125), np.float64(0.0783125), np.float64(0.060656249999999995), np.float64(0.04740625), np.float64(0.045281249999999995)]\n"
     ]
    }
   ],
   "source": [
    "''' Conservative set - Table 3'''\n",
    "\n",
    "high_z = frb_hosts[frb_hosts['z'] > 0.2]\n",
    "high_m = high_z[np.log10(high_z['Mstar']) > leja_utils.cosmos15_mass_completeness(high_z['z'])]\n",
    "\n",
    "coservative_hosts = high_m.reset_index()\n",
    "\n",
    "# run Table 3 cell with coservative_hosts\n",
    "# REMINDER - add get_logpdf(...,continuity=False) in get_wlogpdf_w_opt\n",
    "#            and also in get_gc_logpdf_w_opt when doing gc-weighted\n",
    "\n",
    "# Create logpdf\n",
    "# z_to_logpdf = create_z_to_logpdf_w_opt(coservative_hosts, prob_density, 1, 0)  # mass-weighted with optical lnprior\n",
    "# z_to_logpdf = create_z_to_logpdf_w_opt(coservative_hosts, prob_density, 0, 1)  # sfr-weighted with optical lnprior\n",
    "# z_to_logpdf = {z: get_gc_logpdf_w_opt(z, prob_density)\n",
    "#                for z in coservative_hosts['z']}  # gc-weighted with optical lnprior\n",
    "z_to_logpdf = create_z_to_logpdf_metallicty(frb_hosts, prob_density)  # metallicity-weighted\n",
    "\n",
    "# Calculate p90 and pnom 3 times\n",
    "frb_values = np.vstack([np.log10(coservative_hosts['Mstar']),\n",
    "                        np.log10(coservative_hosts['SFR']),\n",
    "                        coservative_hosts['z']])\n",
    "frbs_nominal_likelihood = mc.calc_weighted_likelihood(z_to_logpdf, frb_values.T)\n",
    "p90_vals = []\n",
    "p_nom_vals = []\n",
    "for _ in range(5):\n",
    "    \n",
    "    p_90, p_nom, _, _ = mc.calc_p90(coservative_hosts, z_to_logpdf, frbs_nominal_likelihood)\n",
    "    p90_vals.append(p_90)\n",
    "    p_nom_vals.append(p_nom)\n",
    "\n",
    "print(\"p90 average\", np.average(p90_vals), \"std\", np.std(p90_vals))\n",
    "print(\"pnom average\", np.average(p_nom_vals), \"std\", np.std(p_nom_vals))\n",
    "\n",
    "print(p90_vals)\n",
    "print(p_nom_vals)\n"
   ]
  },
  {
   "cell_type": "code",
   "execution_count": 671,
   "id": "fa3bcf6f",
   "metadata": {},
   "outputs": [
    {
     "name": "stderr",
     "output_type": "stream",
     "text": [
      "Generating samples for each redshift: 100%|██████████| 51/51 [00:31<00:00,  1.61hosts/s]\n"
     ]
    },
    {
     "name": "stdout",
     "output_type": "stream",
     "text": [
      "90% conf p-value: 0.02884375\n",
      "nominal p-value: 0.02640625\n"
     ]
    },
    {
     "data": {
      "image/png": "[encoded data removed]",
      "text/plain": [
       "<Figure size 640x480 with 1 Axes>"
      ]
     },
     "metadata": {},
     "output_type": "display_data"
    }
   ],
   "source": [
    "''' Figure 2 '''\n",
    "import matplotlib.patches as patches\n",
    "\n",
    "# Create z to logpdf\n",
    "# z_to_logpdf = create_z_to_logpdf_w_opt(frb_hosts, prob_density, 1, 0)  # mass-weighted with optical lnprior\n",
    "# z_to_logpdf = create_z_to_logpdf_w_opt(frb_hosts, prob_density, 0, 1)  # sfr-weighted with optical lnprior\n",
    "z_to_logpdf = {z: get_gc_logpdf_w_opt(z, prob_density)\n",
    "               for z in frb_hosts['z']}  # gc-weighted with optical lnprior\n",
    "# z_to_logpdf = create_z_to_logpdf_metallicty(frb_hosts, prob_density)  # metallicity-weighted\n",
    "frb_values = np.vstack([np.log10(frb_hosts['Mstar']),\n",
    "                        np.log10(frb_hosts['SFR']),\n",
    "                        frb_hosts['z']])\n",
    "\n",
    "# Calculate p_90 and p_nom        \n",
    "frbs_nominal_likelihood = mc.calc_weighted_likelihood(z_to_logpdf, frb_values.T)\n",
    "p_90, p_nom, samples_cdf, lklhds_cdf = mc.calc_p90(frb_hosts, z_to_logpdf, frbs_nominal_likelihood)\n",
    "\n",
    "# Add a rectangle from 10% to 90%\n",
    "bottom, top = lklhds_cdf.y[1], lklhds_cdf.y[-1]\n",
    "left, right = np.percentile(lklhds_cdf.x, [10, 90])\n",
    "rect = patches.Rectangle((left, bottom), right - left,\n",
    "                         2 * top - bottom, # because plotting with ylim<2*tpo\n",
    "                         color='blue')  \n",
    "rect.set_alpha(0.25)\n",
    "\n",
    "ax = plt.gca()\n",
    "ax.plot(samples_cdf.x, samples_cdf.y, color='black', linewidth=4)\n",
    "ax.add_patch(rect)\n",
    "ax.set_yscale('log', nonpositive='clip')\n",
    "ax.set_ylim([bottom, 2*top])  # a bit higher than top to see all CDF\n",
    "\n",
    "# Nominal pvalue line\n",
    "ax.axvline(frbs_nominal_likelihood, color='blue', label='FRBs nominal likelihood', linewidth=3)\n",
    "\n",
    "# p=0.05 line\n",
    "ax.axhline(0.05, color='grey', linestyle='--')\n",
    "ax.annotate('p=0.05', fontsize=16,\n",
    "            xy=(samples_cdf.x[2], 0.06))  # change manually x location\n",
    "\n",
    "# draw intesection points and annotate\n",
    "ax.plot(frbs_nominal_likelihood, p_nom,\n",
    "        marker='x', markersize=8, color='red')\n",
    "ax.annotate('p-nominal',\n",
    "            xy=(frbs_nominal_likelihood, p_nom), xycoords='data', fontsize=16,\n",
    "            xytext=(100, -40), textcoords='offset points',  # change manually\n",
    "            arrowprops=dict(arrowstyle=\"->\"),\n",
    "            horizontalalignment='center')\n",
    "\n",
    "ax.plot(right, p_90, marker='x', markersize=8, color='red')\n",
    "ax.annotate('p<90%',\n",
    "            xy=(right, p_90), xycoords='data',  fontsize=16,\n",
    "            xytext=(70, 0), textcoords='offset points',  # change manually\n",
    "            arrowprops=dict(arrowstyle=\"->\"),\n",
    "            horizontalalignment='left')\n",
    "\n",
    "plt.xlabel('Likelihood [unitless]', fontsize=16)\n",
    "plt.ylabel('Cummulative probability', fontsize=16)\n",
    "\n",
    "# plt.savefig('Figures/Figure2_sfr.pdf', bbox_inches='tight', transparent=True)\n",
    "print('90% conf p-value:', p_90)\n",
    "print('nominal p-value:', p_nom)"
   ]
  },
  {
   "cell_type": "code",
   "execution_count": 585,
   "id": "4a77e2bb-87a6-4a80-afb3-0d8d645246f1",
   "metadata": {
    "scrolled": true
   },
   "outputs": [
    {
     "name": "stdout",
     "output_type": "stream",
     "text": [
      "This might take a while. About 2 minutes per a/b ratio\n"
     ]
    },
    {
     "data": {
      "application/vnd.jupyter.widget-view+json": {
       "model_id": "fe087246e577430e8814bc294f073fe5",
       "version_major": 2,
       "version_minor": 0
      },
      "text/plain": [
       "Calculating a/b ratios:   0%|          | 0/50 [00:00<?, ?it/s]"
      ]
     },
     "metadata": {},
     "output_type": "display_data"
    },
    {
     "data": {
      "application/vnd.jupyter.widget-view+json": {
       "model_id": "5bbbc37d56354810ac926a9c8e656fac",
       "version_major": 2,
       "version_minor": 0
      },
      "text/plain": [
       "Averaging result for a/b ratio:   0%|          | 0/3 [00:00<?, ?it/s]"
      ]
     },
     "metadata": {},
     "output_type": "display_data"
    },
    {
     "data": {
      "application/vnd.jupyter.widget-view+json": {
       "model_id": "5f8c4a24c04641c0b69048b8653bb99d",
       "version_major": 2,
       "version_minor": 0
      },
      "text/plain": [
       "Averaging result for a/b ratio:   0%|          | 0/3 [00:00<?, ?it/s]"
      ]
     },
     "metadata": {},
     "output_type": "display_data"
    },
    {
     "data": {
      "application/vnd.jupyter.widget-view+json": {
       "model_id": "b8022b8562ce4dd28efaaaaad18d67ae",
       "version_major": 2,
       "version_minor": 0
      },
      "text/plain": [
       "Averaging result for a/b ratio:   0%|          | 0/3 [00:00<?, ?it/s]"
      ]
     },
     "metadata": {},
     "output_type": "display_data"
    },
    {
     "data": {
      "application/vnd.jupyter.widget-view+json": {
       "model_id": "e550ba39cc5c4e2194f8aa3fa823bc8a",
       "version_major": 2,
       "version_minor": 0
      },
      "text/plain": [
       "Averaging result for a/b ratio:   0%|          | 0/3 [00:00<?, ?it/s]"
      ]
     },
     "metadata": {},
     "output_type": "display_data"
    },
    {
     "data": {
      "application/vnd.jupyter.widget-view+json": {
       "model_id": "29996478fd1042cb9e88c489300c2a4a",
       "version_major": 2,
       "version_minor": 0
      },
      "text/plain": [
       "Averaging result for a/b ratio:   0%|          | 0/3 [00:00<?, ?it/s]"
      ]
     },
     "metadata": {},
     "output_type": "display_data"
    },
    {
     "data": {
      "application/vnd.jupyter.widget-view+json": {
       "model_id": "0d5f83c3d93e4490bc2317449501a1f3",
       "version_major": 2,
       "version_minor": 0
      },
      "text/plain": [
       "Averaging result for a/b ratio:   0%|          | 0/3 [00:00<?, ?it/s]"
      ]
     },
     "metadata": {},
     "output_type": "display_data"
    },
    {
     "data": {
      "application/vnd.jupyter.widget-view+json": {
       "model_id": "d1cd74d7bc8b40ecb8a679ed5bdb389f",
       "version_major": 2,
       "version_minor": 0
      },
      "text/plain": [
       "Averaging result for a/b ratio:   0%|          | 0/3 [00:00<?, ?it/s]"
      ]
     },
     "metadata": {},
     "output_type": "display_data"
    },
    {
     "data": {
      "application/vnd.jupyter.widget-view+json": {
       "model_id": "2ea7d50491c74a7bbe58ff5121160db1",
       "version_major": 2,
       "version_minor": 0
      },
      "text/plain": [
       "Averaging result for a/b ratio:   0%|          | 0/3 [00:00<?, ?it/s]"
      ]
     },
     "metadata": {},
     "output_type": "display_data"
    },
    {
     "data": {
      "application/vnd.jupyter.widget-view+json": {
       "model_id": "a866ab0447ef47c88796942d1bcca419",
       "version_major": 2,
       "version_minor": 0
      },
      "text/plain": [
       "Averaging result for a/b ratio:   0%|          | 0/3 [00:00<?, ?it/s]"
      ]
     },
     "metadata": {},
     "output_type": "display_data"
    },
    {
     "data": {
      "application/vnd.jupyter.widget-view+json": {
       "model_id": "3b71f263a5ff4b829db6a6473917d57a",
       "version_major": 2,
       "version_minor": 0
      },
      "text/plain": [
       "Averaging result for a/b ratio:   0%|          | 0/3 [00:00<?, ?it/s]"
      ]
     },
     "metadata": {},
     "output_type": "display_data"
    },
    {
     "data": {
      "application/vnd.jupyter.widget-view+json": {
       "model_id": "260b9eab69634ef0a51c86d9bdc09a50",
       "version_major": 2,
       "version_minor": 0
      },
      "text/plain": [
       "Averaging result for a/b ratio:   0%|          | 0/3 [00:00<?, ?it/s]"
      ]
     },
     "metadata": {},
     "output_type": "display_data"
    },
    {
     "data": {
      "application/vnd.jupyter.widget-view+json": {
       "model_id": "85bedcfa8aa84bf8802aa701ba0eb066",
       "version_major": 2,
       "version_minor": 0
      },
      "text/plain": [
       "Averaging result for a/b ratio:   0%|          | 0/3 [00:00<?, ?it/s]"
      ]
     },
     "metadata": {},
     "output_type": "display_data"
    },
    {
     "data": {
      "application/vnd.jupyter.widget-view+json": {
       "model_id": "05686a5dc7454a188f2834afeee8f774",
       "version_major": 2,
       "version_minor": 0
      },
      "text/plain": [
       "Averaging result for a/b ratio:   0%|          | 0/3 [00:00<?, ?it/s]"
      ]
     },
     "metadata": {},
     "output_type": "display_data"
    },
    {
     "data": {
      "application/vnd.jupyter.widget-view+json": {
       "model_id": "5c1d90fe85c648ec879f5c30c61f32ed",
       "version_major": 2,
       "version_minor": 0
      },
      "text/plain": [
       "Averaging result for a/b ratio:   0%|          | 0/3 [00:00<?, ?it/s]"
      ]
     },
     "metadata": {},
     "output_type": "display_data"
    },
    {
     "data": {
      "application/vnd.jupyter.widget-view+json": {
       "model_id": "f72e59458d2a4aef9c0560b8531be9da",
       "version_major": 2,
       "version_minor": 0
      },
      "text/plain": [
       "Averaging result for a/b ratio:   0%|          | 0/3 [00:00<?, ?it/s]"
      ]
     },
     "metadata": {},
     "output_type": "display_data"
    },
    {
     "data": {
      "application/vnd.jupyter.widget-view+json": {
       "model_id": "da1fe9ab47a54320a2e980c0fb5c6e70",
       "version_major": 2,
       "version_minor": 0
      },
      "text/plain": [
       "Averaging result for a/b ratio:   0%|          | 0/3 [00:00<?, ?it/s]"
      ]
     },
     "metadata": {},
     "output_type": "display_data"
    },
    {
     "data": {
      "application/vnd.jupyter.widget-view+json": {
       "model_id": "1c59e5c80e184f1fb26a032a25680f88",
       "version_major": 2,
       "version_minor": 0
      },
      "text/plain": [
       "Averaging result for a/b ratio:   0%|          | 0/3 [00:00<?, ?it/s]"
      ]
     },
     "metadata": {},
     "output_type": "display_data"
    },
    {
     "data": {
      "application/vnd.jupyter.widget-view+json": {
       "model_id": "fa12099f408c48a0a0fb0aea360dbe69",
       "version_major": 2,
       "version_minor": 0
      },
      "text/plain": [
       "Averaging result for a/b ratio:   0%|          | 0/3 [00:00<?, ?it/s]"
      ]
     },
     "metadata": {},
     "output_type": "display_data"
    },
    {
     "data": {
      "application/vnd.jupyter.widget-view+json": {
       "model_id": "0339e94b44db499db5e58de28e91ed2a",
       "version_major": 2,
       "version_minor": 0
      },
      "text/plain": [
       "Averaging result for a/b ratio:   0%|          | 0/3 [00:00<?, ?it/s]"
      ]
     },
     "metadata": {},
     "output_type": "display_data"
    },
    {
     "data": {
      "application/vnd.jupyter.widget-view+json": {
       "model_id": "3598f2a680804a4db2dd32929adc42ff",
       "version_major": 2,
       "version_minor": 0
      },
      "text/plain": [
       "Averaging result for a/b ratio:   0%|          | 0/3 [00:00<?, ?it/s]"
      ]
     },
     "metadata": {},
     "output_type": "display_data"
    },
    {
     "data": {
      "application/vnd.jupyter.widget-view+json": {
       "model_id": "27d20ca5f9484d2bb391a761dcba03b2",
       "version_major": 2,
       "version_minor": 0
      },
      "text/plain": [
       "Averaging result for a/b ratio:   0%|          | 0/3 [00:00<?, ?it/s]"
      ]
     },
     "metadata": {},
     "output_type": "display_data"
    },
    {
     "data": {
      "application/vnd.jupyter.widget-view+json": {
       "model_id": "fbada919d3b4403b92ed8dffc09c4797",
       "version_major": 2,
       "version_minor": 0
      },
      "text/plain": [
       "Averaging result for a/b ratio:   0%|          | 0/3 [00:00<?, ?it/s]"
      ]
     },
     "metadata": {},
     "output_type": "display_data"
    },
    {
     "data": {
      "application/vnd.jupyter.widget-view+json": {
       "model_id": "cb580531389543348fc8648b63d9ee9a",
       "version_major": 2,
       "version_minor": 0
      },
      "text/plain": [
       "Averaging result for a/b ratio:   0%|          | 0/3 [00:00<?, ?it/s]"
      ]
     },
     "metadata": {},
     "output_type": "display_data"
    },
    {
     "data": {
      "application/vnd.jupyter.widget-view+json": {
       "model_id": "78af139d686c4c478514ce158bc1e366",
       "version_major": 2,
       "version_minor": 0
      },
      "text/plain": [
       "Averaging result for a/b ratio:   0%|          | 0/3 [00:00<?, ?it/s]"
      ]
     },
     "metadata": {},
     "output_type": "display_data"
    },
    {
     "data": {
      "application/vnd.jupyter.widget-view+json": {
       "model_id": "2917efbb4e944cd986d073844ead9e54",
       "version_major": 2,
       "version_minor": 0
      },
      "text/plain": [
       "Averaging result for a/b ratio:   0%|          | 0/3 [00:00<?, ?it/s]"
      ]
     },
     "metadata": {},
     "output_type": "display_data"
    },
    {
     "data": {
      "application/vnd.jupyter.widget-view+json": {
       "model_id": "2065370f2b154ac6b63c1e2e8ba90b19",
       "version_major": 2,
       "version_minor": 0
      },
      "text/plain": [
       "Averaging result for a/b ratio:   0%|          | 0/3 [00:00<?, ?it/s]"
      ]
     },
     "metadata": {},
     "output_type": "display_data"
    },
    {
     "data": {
      "application/vnd.jupyter.widget-view+json": {
       "model_id": "653bc0bde86e49c188a1c26a6834ce42",
       "version_major": 2,
       "version_minor": 0
      },
      "text/plain": [
       "Averaging result for a/b ratio:   0%|          | 0/3 [00:00<?, ?it/s]"
      ]
     },
     "metadata": {},
     "output_type": "display_data"
    },
    {
     "data": {
      "application/vnd.jupyter.widget-view+json": {
       "model_id": "f83df3d0999c4e019d6fe037cb7e2955",
       "version_major": 2,
       "version_minor": 0
      },
      "text/plain": [
       "Averaging result for a/b ratio:   0%|          | 0/3 [00:00<?, ?it/s]"
      ]
     },
     "metadata": {},
     "output_type": "display_data"
    },
    {
     "data": {
      "application/vnd.jupyter.widget-view+json": {
       "model_id": "045b2f81086f4bd4a47187450227380a",
       "version_major": 2,
       "version_minor": 0
      },
      "text/plain": [
       "Averaging result for a/b ratio:   0%|          | 0/3 [00:00<?, ?it/s]"
      ]
     },
     "metadata": {},
     "output_type": "display_data"
    },
    {
     "data": {
      "application/vnd.jupyter.widget-view+json": {
       "model_id": "fc5e82458fff4ed2b70dc8d03854fafe",
       "version_major": 2,
       "version_minor": 0
      },
      "text/plain": [
       "Averaging result for a/b ratio:   0%|          | 0/3 [00:00<?, ?it/s]"
      ]
     },
     "metadata": {},
     "output_type": "display_data"
    },
    {
     "data": {
      "application/vnd.jupyter.widget-view+json": {
       "model_id": "c2243825975a4fdba96957c0df155d6d",
       "version_major": 2,
       "version_minor": 0
      },
      "text/plain": [
       "Averaging result for a/b ratio:   0%|          | 0/3 [00:00<?, ?it/s]"
      ]
     },
     "metadata": {},
     "output_type": "display_data"
    },
    {
     "data": {
      "application/vnd.jupyter.widget-view+json": {
       "model_id": "bcc14c0aef8e4f428a81bf906637e0ab",
       "version_major": 2,
       "version_minor": 0
      },
      "text/plain": [
       "Averaging result for a/b ratio:   0%|          | 0/3 [00:00<?, ?it/s]"
      ]
     },
     "metadata": {},
     "output_type": "display_data"
    },
    {
     "data": {
      "application/vnd.jupyter.widget-view+json": {
       "model_id": "a0d048fce0ff45f88f9c259231ab518c",
       "version_major": 2,
       "version_minor": 0
      },
      "text/plain": [
       "Averaging result for a/b ratio:   0%|          | 0/3 [00:00<?, ?it/s]"
      ]
     },
     "metadata": {},
     "output_type": "display_data"
    },
    {
     "data": {
      "application/vnd.jupyter.widget-view+json": {
       "model_id": "d510c189685c4865bd3b4a93165c08c3",
       "version_major": 2,
       "version_minor": 0
      },
      "text/plain": [
       "Averaging result for a/b ratio:   0%|          | 0/3 [00:00<?, ?it/s]"
      ]
     },
     "metadata": {},
     "output_type": "display_data"
    },
    {
     "data": {
      "application/vnd.jupyter.widget-view+json": {
       "model_id": "5e2f42f5c87744918a78534fc8f517de",
       "version_major": 2,
       "version_minor": 0
      },
      "text/plain": [
       "Averaging result for a/b ratio:   0%|          | 0/3 [00:00<?, ?it/s]"
      ]
     },
     "metadata": {},
     "output_type": "display_data"
    },
    {
     "data": {
      "application/vnd.jupyter.widget-view+json": {
       "model_id": "f5743b1904754e32b23f61e8bffc1d7d",
       "version_major": 2,
       "version_minor": 0
      },
      "text/plain": [
       "Averaging result for a/b ratio:   0%|          | 0/3 [00:00<?, ?it/s]"
      ]
     },
     "metadata": {},
     "output_type": "display_data"
    },
    {
     "data": {
      "application/vnd.jupyter.widget-view+json": {
       "model_id": "0d0e278afae84d1b9add219a5a6a1459",
       "version_major": 2,
       "version_minor": 0
      },
      "text/plain": [
       "Averaging result for a/b ratio:   0%|          | 0/3 [00:00<?, ?it/s]"
      ]
     },
     "metadata": {},
     "output_type": "display_data"
    },
    {
     "data": {
      "application/vnd.jupyter.widget-view+json": {
       "model_id": "7ffe9340d3a941438ba05d41f4cf1b69",
       "version_major": 2,
       "version_minor": 0
      },
      "text/plain": [
       "Averaging result for a/b ratio:   0%|          | 0/3 [00:00<?, ?it/s]"
      ]
     },
     "metadata": {},
     "output_type": "display_data"
    },
    {
     "data": {
      "application/vnd.jupyter.widget-view+json": {
       "model_id": "3ac95d44883e4107804849cc99ad747a",
       "version_major": 2,
       "version_minor": 0
      },
      "text/plain": [
       "Averaging result for a/b ratio:   0%|          | 0/3 [00:00<?, ?it/s]"
      ]
     },
     "metadata": {},
     "output_type": "display_data"
    },
    {
     "data": {
      "application/vnd.jupyter.widget-view+json": {
       "model_id": "d51dff05d03040759442e48090cd8982",
       "version_major": 2,
       "version_minor": 0
      },
      "text/plain": [
       "Averaging result for a/b ratio:   0%|          | 0/3 [00:00<?, ?it/s]"
      ]
     },
     "metadata": {},
     "output_type": "display_data"
    },
    {
     "data": {
      "application/vnd.jupyter.widget-view+json": {
       "model_id": "8d825d53014542aa9707d4756559cb20",
       "version_major": 2,
       "version_minor": 0
      },
      "text/plain": [
       "Averaging result for a/b ratio:   0%|          | 0/3 [00:00<?, ?it/s]"
      ]
     },
     "metadata": {},
     "output_type": "display_data"
    },
    {
     "data": {
      "application/vnd.jupyter.widget-view+json": {
       "model_id": "9950ea76a0b34b17be1447bb775ac1d9",
       "version_major": 2,
       "version_minor": 0
      },
      "text/plain": [
       "Averaging result for a/b ratio:   0%|          | 0/3 [00:00<?, ?it/s]"
      ]
     },
     "metadata": {},
     "output_type": "display_data"
    },
    {
     "data": {
      "application/vnd.jupyter.widget-view+json": {
       "model_id": "7989e0fab1b542468bfa211178e99dbb",
       "version_major": 2,
       "version_minor": 0
      },
      "text/plain": [
       "Averaging result for a/b ratio:   0%|          | 0/3 [00:00<?, ?it/s]"
      ]
     },
     "metadata": {},
     "output_type": "display_data"
    },
    {
     "data": {
      "application/vnd.jupyter.widget-view+json": {
       "model_id": "fac28b62d316446d944201262574543b",
       "version_major": 2,
       "version_minor": 0
      },
      "text/plain": [
       "Averaging result for a/b ratio:   0%|          | 0/3 [00:00<?, ?it/s]"
      ]
     },
     "metadata": {},
     "output_type": "display_data"
    },
    {
     "data": {
      "application/vnd.jupyter.widget-view+json": {
       "model_id": "33a4f13f88534ff2be9a12c5d7d66fa3",
       "version_major": 2,
       "version_minor": 0
      },
      "text/plain": [
       "Averaging result for a/b ratio:   0%|          | 0/3 [00:00<?, ?it/s]"
      ]
     },
     "metadata": {},
     "output_type": "display_data"
    },
    {
     "data": {
      "application/vnd.jupyter.widget-view+json": {
       "model_id": "919a23568ae942d2872e9921ce40893b",
       "version_major": 2,
       "version_minor": 0
      },
      "text/plain": [
       "Averaging result for a/b ratio:   0%|          | 0/3 [00:00<?, ?it/s]"
      ]
     },
     "metadata": {},
     "output_type": "display_data"
    },
    {
     "data": {
      "application/vnd.jupyter.widget-view+json": {
       "model_id": "8b5403c1932c44daa79de35127dca0e5",
       "version_major": 2,
       "version_minor": 0
      },
      "text/plain": [
       "Averaging result for a/b ratio:   0%|          | 0/3 [00:00<?, ?it/s]"
      ]
     },
     "metadata": {},
     "output_type": "display_data"
    },
    {
     "data": {
      "application/vnd.jupyter.widget-view+json": {
       "model_id": "79c02c90d2d34105ae9ddffc03c33e0b",
       "version_major": 2,
       "version_minor": 0
      },
      "text/plain": [
       "Averaging result for a/b ratio:   0%|          | 0/3 [00:00<?, ?it/s]"
      ]
     },
     "metadata": {},
     "output_type": "display_data"
    },
    {
     "data": {
      "application/vnd.jupyter.widget-view+json": {
       "model_id": "8d8bce3f573d4474b4e43676d8a6d09e",
       "version_major": 2,
       "version_minor": 0
      },
      "text/plain": [
       "Averaging result for a/b ratio:   0%|          | 0/3 [00:00<?, ?it/s]"
      ]
     },
     "metadata": {},
     "output_type": "display_data"
    },
    {
     "data": {
      "application/vnd.jupyter.widget-view+json": {
       "model_id": "ef90a685d6a14c62ad85bebb3ce19292",
       "version_major": 2,
       "version_minor": 0
      },
      "text/plain": [
       "Averaging result for a/b ratio:   0%|          | 0/3 [00:00<?, ?it/s]"
      ]
     },
     "metadata": {},
     "output_type": "display_data"
    }
   ],
   "source": [
    "from tqdm.notebook import tqdm\n",
    "\n",
    "''' a-b with p<90% (for Figure 3) '''\n",
    "N_AVG_PER_AB = 3\n",
    "\n",
    "log_ab_frac = np.linspace(-15, -6, 50)  # ratio between log10(a/b)\n",
    "frb_values = np.vstack([np.log10(frb_hosts['Mstar']),\n",
    "                        np.log10(frb_hosts['SFR']),\n",
    "                        frb_hosts['z']])\n",
    "\n",
    "ab_p90_pvals = []\n",
    "ab_pnom_pvals = []\n",
    "ab_p90_errs = []  # list of attemps per ab (length is len(ab_pvals), each element is a list of N_AVG_PER_AB)\n",
    "ab_pnom_errs = []\n",
    "\n",
    "print(\"This might take a while. About 2 minutes per a/b ratio\")\n",
    "for log_f in tqdm(log_ab_frac, desc=\"Calculating a/b ratios\"):\n",
    "    # print(\"Starting\", np.where(log_ab_frac == log_f)[0][0], \"/\", len(log_ab_frac))\n",
    "    f = 10 ** log_f\n",
    "    # solutiosn to a/b=f and a+b=1\n",
    "    a = f / (1+f)\n",
    "    b = 1 / (1+f)\n",
    "    \n",
    "    z_to_logpdf = create_z_to_logpdf_w_opt(frb_hosts, prob_density, a, b)\n",
    "    frbs_nominal_likelihood = mc.calc_weighted_likelihood(z_to_logpdf, frb_values.T)\n",
    "\n",
    "    p90_per_ab = []\n",
    "    pnom_per_ab = []\n",
    "    for _ in tqdm(range(N_AVG_PER_AB), desc=f\"Averaging result for a/b ratio\",\n",
    "                  leave=False):\n",
    "        try:\n",
    "            mc.TQDM_DISABLE = True\n",
    "            p90, pnom, _, _ = mc.calc_p90(frb_hosts, z_to_logpdf, frbs_nominal_likelihood)\n",
    "            mc.TQDM_DISABLE = False\n",
    "            p90_per_ab.append(p90)\n",
    "            pnom_per_ab.append(pnom)\n",
    "        except TypeError as err:\n",
    "            print(err)\n",
    "            continue\n",
    "    \n",
    "    ab_p90_errs.append(p90_per_ab)        \n",
    "    ab_pnom_errs.append(pnom_per_ab)        \n",
    "    ab_p90_pvals.append(np.average(p90_per_ab))\n",
    "    ab_pnom_pvals.append(np.average(pnom_per_ab))   \n",
    "\n",
    "with open('ab_frac_26_02_25.csv', 'w') as f:\n",
    "    f.write('log_ab,pval,errs\\n')\n",
    "    f.writelines(['{},{},{},{},{}\\n'.format(log_ab_frac[i], ab_p90_pvals[i], ab_pnom_pvals[i],\n",
    "                                            ab_p90_errs[i],ab_pnom_errs[i]) for i in range(len(log_ab_frac))])\n"
   ]
  },
  {
   "cell_type": "code",
   "execution_count": null,
   "id": "09865f41-7f9e-48dc-951a-42746bd28806",
   "metadata": {},
   "outputs": [
    {
     "data": {
      "image/png": "[encoded data removed]",
      "text/plain": [
       "<Figure size 640x480 with 1 Axes>"
      ]
     },
     "metadata": {},
     "output_type": "display_data"
    }
   ],
   "source": [
    "''' Figure 3 setup '''\n",
    "import matplotlib.patches as mpatches\n",
    "\n",
    "def ab_vals_from_csv(csv_path):\n",
    "    '''\n",
    "    Serialize values from csv\n",
    "    :param csv_path: path to csv file\n",
    "    :return: tuple of log_ab_frac, ab_pvals and \n",
    "    '''\n",
    "    log_ab_frac = []\n",
    "    p90_vals = []\n",
    "    pnom_vals = []\n",
    "    errs_90 = []\n",
    "    errs_nom = []\n",
    "\n",
    "    with open(csv_path) as f:\n",
    "        f.readline()  # headers line\n",
    "        for l in f.readlines():\n",
    "            # frac, p90,pnom,[np.float64(p90_1), np.float64(p90_2), np.float64(p90_3)],\n",
    "            #                [np.float64(pnom_1), np.float64(pnom_2), np.float64(pnom_3)]\\n\n",
    "            frac, p90, pnom, *errs = l.split(\",\")\n",
    "            frac = float(frac)\n",
    "            p90 = float(p90)\n",
    "            pnom = float(pnom)\n",
    "            err_90 = [float(errs[0].strip('[np.float64(').rstrip(')')),\n",
    "                      float(errs[1].strip(' np.float64(').rstrip(')')),\n",
    "                      float(errs[2].strip(' np.float64(').rstrip(')]'))]\n",
    "            err_nom = [float(errs[3].strip('[np.float64(').rstrip(')')),\n",
    "                       float(errs[4].strip(' np.float64(').rstrip(')')),\n",
    "                       float(errs[5].strip(' np.float64(').rstrip(')]\\n'))]\n",
    "        \n",
    "            log_ab_frac.append(frac)\n",
    "            p90_vals.append(p90)\n",
    "            pnom_vals.append(pnom)\n",
    "            errs_90.append(err_90)\n",
    "            errs_nom.append(err_nom)\n",
    "\n",
    "    return log_ab_frac, p90_vals, pnom_vals, errs_90, errs_nom\n",
    "\n",
    "fracs, pvals_90, pvals_nom, errs_90, errs_nom = ab_vals_from_csv('ab_frac_26_02_25.csv')\n",
    "\n",
    "yerr_90 = np.transpose([[max(errs_90[i])-p,p-min(errs_90[i])] for i,p in enumerate(pvals_90)])\n",
    "yerr_nom = np.transpose([[max(errs_nom[i])-p,p-min(errs_nom[i])] for i,p in enumerate(pvals_nom)])\n",
    "\n",
    "ax = plt.gca()\n",
    "plt.errorbar(fracs, pvals_90, yerr_90, fmt='o', ecolor='teal')\n",
    "plt.errorbar(fracs, pvals_nom, yerr_nom, fmt='o', ecolor='orange')\n",
    "\n",
    "\n",
    "plt.xlabel('$log_{10}(A/B~[yr^{-1}])$')\n",
    "plt.ylabel('p-value')\n",
    "plt.axhline(0.05, color='grey', linestyle='--')\n",
    "\n",
    "# add mass-weighted and sfr-weighted direction arrows\n",
    "sfr_arrow = mpatches.FancyArrowPatch((-12, 0.2), (-15, 0.2),\n",
    "                                     arrowstyle='->,head_width=.15',\n",
    "                                     mutation_scale=20)\n",
    "mass_arrow = mpatches.FancyArrowPatch((-8.8, 0.2), (-5.8, 0.2),\n",
    "                                      arrowstyle='->,head_width=.15',\n",
    "                                      mutation_scale=20)\n",
    "ax.add_patch(mass_arrow)\n",
    "ax.add_patch(sfr_arrow)\n",
    "ax.annotate(\"mass-weighted\", (.5, .5), xycoords=mass_arrow, ha='center', va='bottom')\n",
    "ax.annotate(\"SFR-weighted\", (.5, .5), xycoords=sfr_arrow, ha='center', va='bottom')\n",
    "\n",
    "#plt.savefig('Figures/Figure3_no_inf_points.pdf', bbox_inches='tight', transparent=True)"
   ]
  },
  {
   "cell_type": "code",
   "execution_count": 684,
   "id": "8e44aec7-89c9-419c-b968-2e00b87825ab",
   "metadata": {},
   "outputs": [
    {
     "data": {
      "image/png": "[encoded data removed]",
      "text/plain": [
       "<Figure size 640x480 with 1 Axes>"
      ]
     },
     "metadata": {},
     "output_type": "display_data"
    },
    {
     "name": "stdout",
     "output_type": "stream",
     "text": [
      "mean: -9.619067741092403\n",
      "cov: 1.3573608878558514\n"
     ]
    }
   ],
   "source": [
    "''' Gaussian fit Figure 3 '''\n",
    "from scipy.optimize import curve_fit\n",
    "\n",
    "# replace between pvals_90 and pvals_nom, pick which ones to fit to\n",
    "curr_pvals = pvals_90\n",
    "n = len(curr_pvals)\n",
    "mean = sum(np.array(fracs) * np.array(curr_pvals))/n\n",
    "sigma = np.sqrt(sum(curr_pvals*(fracs-mean)**2)/n)\n",
    "\n",
    "def gauss(x,a,x0,sigma):\n",
    "    return a * np.exp(-(x - x0)**2 / (2 * sigma**2)) + np.min(curr_pvals)\n",
    "    \n",
    "\n",
    "popt,pcov = curve_fit(gauss, fracs, curr_pvals, p0=[1, mean, sigma])\n",
    "\n",
    "plt.plot(fracs, curr_pvals, 'b+:', label='pvals')\n",
    "plt.plot(fracs, gauss(fracs, *popt), 'r-', label='fit')\n",
    "plt.legend()\n",
    "plt.title('Gaussian fit for p<90%')  # repalce title between p<90% and p_nom\n",
    "plt.show()\n",
    "print('mean:', popt[1])\n",
    "print('cov:', popt[2])"
   ]
  },
  {
   "cell_type": "code",
   "execution_count": 604,
   "id": "43a05a66-3cf8-40f5-9d04-c2dcc6a84ace",
   "metadata": {},
   "outputs": [],
   "source": [
    "''' Figure 3 - add mass-weighted and sfr-weighted points to a/b plot '''\n",
    "\n",
    "# Values taken from Table 3 cell\n",
    "mass_weighted_errs_90 = [np.float64(0.07540625), np.float64(0.06790625), np.float64(0.081375), np.float64(0.07643749999999999), np.float64(0.08540625)]\n",
    "mass_weighted_errs_nom = [np.float64(0.0675), np.float64(0.0613125), np.float64(0.07546875), np.float64(0.0710625), np.float64(0.07853125)]\n",
    "sfr_weighted_errs_90 = [np.float64(0.0095), np.float64(0.029437500000000002), np.float64(0.029781250000000002), np.float64(0.037406249999999995), np.float64(0.03215625)]\n",
    "sfr_weighted_errs_nom = [np.float64(0.0073750000000000005), np.float64(0.025718750000000002), np.float64(0.0260625), np.float64(0.03328125), np.float64(0.02875)]\n",
    "\n",
    "# pvals\n",
    "mass_nom = np.average(mass_weighted_errs_nom)\n",
    "mass_90 = np.average(mass_weighted_errs_90)\n",
    "sfr_nom = np.average(sfr_weighted_errs_nom)\n",
    "sfr_90 = np.average(sfr_weighted_errs_90)\n",
    "\n",
    "# error bars\n",
    "mass_yerr_nom = np.transpose([max(mass_weighted_errs_nom)-mass_nom,mass_nom-min(mass_weighted_errs_nom)])\n",
    "mass_yerr_90 = np.transpose([max(mass_weighted_errs_90)-mass_90,mass_90-min(mass_weighted_errs_90)])\n",
    "sfr_yerr_nom = np.transpose([max(sfr_weighted_errs_nom)-sfr_nom,sfr_nom-min(sfr_weighted_errs_nom)])\n",
    "sfr_yerr_90 = np.transpose([max(sfr_weighted_errs_90)-sfr_90,sfr_90-min(sfr_weighted_errs_90)])"
   ]
  },
  {
   "cell_type": "code",
   "execution_count": 608,
   "id": "231cc6da",
   "metadata": {},
   "outputs": [
    {
     "data": {
      "text/plain": [
       "(np.float64(0.024237500000000002), np.float64(0.02765625))"
      ]
     },
     "execution_count": 608,
     "metadata": {},
     "output_type": "execute_result"
    }
   ],
   "source": [
    "sfr_nom, sfr_90"
   ]
  },
  {
   "cell_type": "code",
   "execution_count": 607,
   "id": "45ebaad7-380a-437e-8806-9a232cb93fc8",
   "metadata": {},
   "outputs": [
    {
     "data": {
      "image/png": "[encoded data removed]",
      "text/plain": [
       "<Figure size 640x480 with 3 Axes>"
      ]
     },
     "metadata": {},
     "output_type": "display_data"
    }
   ],
   "source": [
    "''' Figure 3 - with broken axes '''\n",
    "\n",
    "fig = plt.figure()\n",
    "gs = plt.GridSpec(1, 3, width_ratios=[1, 20, 1])\n",
    "\n",
    "minf_ax = fig.add_subplot(gs[0])\n",
    "mid_ax = fig.add_subplot(gs[1], sharey=minf_ax)\n",
    "inf_ax = fig.add_subplot(gs[2], sharey=minf_ax)\n",
    "\n",
    "# plot the same data on both axes\n",
    "mid_ax.errorbar(fracs, pvals_90, yerr_90, fmt='o', ecolor='teal')\n",
    "mid_ax.errorbar(fracs, pvals_nom, yerr_nom, fmt='o', ecolor='orange')\n",
    "\n",
    "# plot sfr weighted\n",
    "minf_ax.errorbar(0, sfr_90, yerr=sfr_yerr_90.reshape((2,1)), fmt='o', ecolor='teal')\n",
    "minf_ax.errorbar(0, sfr_nom, yerr=sfr_yerr_nom.reshape((2,1)), fmt='o', ecolor='orange')\n",
    "minf_ax.set_xticks([0], [r\"-$\\infty$\"], fontsize=16)\n",
    "\n",
    "# plot mass weighted\n",
    "inf_ax.errorbar(0, mass_90, yerr=mass_yerr_90.reshape((2,1)), fmt='o', ecolor='teal')\n",
    "inf_ax.errorbar(0, mass_nom, yerr=mass_yerr_nom.reshape((2,1)), fmt='o', ecolor='orange')\n",
    "inf_ax.set_xticks([0], [r\"$\\infty$\"], fontsize=16)\n",
    "\n",
    "mid_ax.set_xlabel('$log_{10}(A/B~[yr^{-1}])$')\n",
    "minf_ax.set_ylabel('p-value')\n",
    "mid_ax.axhline(0.05, color='grey', linestyle='--')\n",
    "\n",
    "# add mass-weighted and sfr-weighted direction arrows\n",
    "sfr_arrow = mpatches.FancyArrowPatch((-12, 0.2), (-15, 0.2),\n",
    "                                     arrowstyle='->,head_width=.15',\n",
    "                                     mutation_scale=20)\n",
    "mass_arrow = mpatches.FancyArrowPatch((-9, 0.2), (-6, 0.2),\n",
    "                                      arrowstyle='->,head_width=.15',\n",
    "                                      mutation_scale=20)\n",
    "mid_ax.add_patch(mass_arrow)\n",
    "mid_ax.add_patch(sfr_arrow)\n",
    "mid_ax.annotate(\"mass-weighted\", (.5, .5), xycoords=mass_arrow, ha='center', va='bottom')\n",
    "mid_ax.annotate(\"SFR-weighted\", (.5, .5), xycoords=sfr_arrow, ha='center', va='bottom')\n",
    "\n",
    "# cosmetics\n",
    "minf_ax.spines['right'].set_visible(False)  # hide the spines between axes\n",
    "mid_ax.spines['left'].set_visible(False)\n",
    "mid_ax.spines['right'].set_visible(False)\n",
    "inf_ax.spines['left'].set_visible(False)\n",
    "mid_ax.xaxis.tick_bottom()  # show ticks only in bottom\n",
    "mid_ax.yaxis.set_visible(False)  # hide y axes (show only in left ax)\n",
    "#inf_ax.yaxis.set_visible(False)\n",
    "inf_ax.yaxis.tick_right()\n",
    "\n",
    "# Make the spacing between the two axes a bit smaller\n",
    "plt.subplots_adjust(wspace=0.05)\n",
    "\n",
    "# שׁdd slanted lines\n",
    "d = 1  # proportion of vertical to horizontal extent of the slanted line\n",
    "kwargs = dict(marker=[(-1, -d), (1, d)], markersize=12,\n",
    "              linestyle=\"none\", color='k', mec='k', mew=1, clip_on=False)\n",
    "minf_ax.plot([1, 1], [0, 1], transform=minf_ax.transAxes, **kwargs)\n",
    "mid_ax.plot([0, 0, 1, 1], [0, 1, 0, 1], transform=mid_ax.transAxes, **kwargs)\n",
    "inf_ax.plot([0, 0], [0, 1], transform=inf_ax.transAxes, **kwargs)\n",
    "\n",
    "plt.savefig('Figures/Figure3.pdf', bbox_inches='tight', transparent=True)"
   ]
  },
  {
   "cell_type": "code",
   "execution_count": null,
   "id": "c0ca04b4",
   "metadata": {},
   "outputs": [],
   "source": [
    "# TODO:\n",
    "# 2. make metallicity pval add to table 3"
   ]
  }
 ],
 "metadata": {
  "kernelspec": {
   "display_name": "Python 3",
   "language": "python",
   "name": "python3"
  },
  "language_info": {
   "codemirror_mode": {
    "name": "ipython",
    "version": 3
   },
   "file_extension": ".py",
   "mimetype": "text/x-python",
   "name": "python",
   "nbconvert_exporter": "python",
   "pygments_lexer": "ipython3",
   "version": "3.12.7"
  },
  "toc-autonumbering": true,
  "toc-showcode": true,
  "toc-showmarkdowntxt": false
 },
 "nbformat": 4,
 "nbformat_minor": 5
}
